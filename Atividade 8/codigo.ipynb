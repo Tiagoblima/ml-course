{
  "nbformat": 4,
  "nbformat_minor": 0,
  "metadata": {
    "colab": {
      "name": " Atividade_7_AP.ipynb",
      "provenance": [],
      "collapsed_sections": [],
      "toc_visible": true
    },
    "kernelspec": {
      "name": "python3",
      "display_name": "Python 3",
      "language": "python"
    }
  },
  "cells": [
    {
      "cell_type": "markdown",
      "metadata": {
        "id": "IGaVcxcBG3H1"
      },
      "source": [
        "## Validação de Experimentos"
      ]
    },
    {
      "cell_type": "code",
      "metadata": {
        "id": "zOK8Vf3a3X7y"
      },
      "source": [
        "from sklearn.tree import DecisionTreeClassifier\r\n",
        "from sklearn.neighbors import KNeighborsClassifier\r\n",
        "from sklearn.naive_bayes import MultinomialNB\r\n",
        "from sklearn.neural_network import MLPClassifier\r\n",
        "from sklearn.model_selection import cross_validate\r\n",
        "from sklearn.model_selection import ShuffleSplit\r\n",
        "from IPython.display import Image, display\r\n",
        "from collections import defaultdict\r\n",
        "import numpy as np\r\n",
        "import pandas as pd\r\n",
        "import os"
      ],
      "execution_count": 47,
      "outputs": []
    },
    {
      "cell_type": "code",
      "metadata": {
        "id": "rS9JwNy6zmdq"
      },
      "source": [
        "clfs_list = []\r\n",
        "for k in [3, 7, 15]:\r\n",
        "  clfs_list.append(('KNN-{}'.format(k), KNeighborsClassifier(n_neighbors=k)))\r\n",
        "  clfs_list.append(('W-KNN-{}'.format(k), KNeighborsClassifier(n_neighbors=k, weights='distance')))\r\n",
        "\r\n",
        "clfs_list.append(('DecisionTree',DecisionTreeClassifier()))\r\n",
        "clfs_list.append(('MultinomialNB', MultinomialNB()))\r\n",
        "\r\n",
        "\r\n",
        "\r\n",
        "\r\n",
        "def run_experiment(X_, y_):\r\n",
        "  metrics = defaultdict(lambda: [],{})\r\n",
        "  exp_results = pd.DataFrame({'accuracy': [],'classifier_name':[],'fit_time':[]})\r\n",
        "  cv = ShuffleSplit(n_splits=10, test_size=0.33, random_state=42)\r\n",
        "  \r\n",
        "  mlp = MLPClassifier(solver='lbfgs', alpha=1e-5,\r\n",
        "                      max_iter=10000,\r\n",
        "                       warm_start=True,\r\n",
        "                    hidden_layer_sizes=(15, np.unique(y_).size), random_state=1)\r\n",
        "  clfs_list.append(('MLPClassifier', mlp))\r\n",
        "\r\n",
        "  for clf in clfs_list:\r\n",
        "    step = 1\r\n",
        "    for _ in range(5):\r\n",
        "        clf_name, estimator = clf\r\n",
        "        scores = cross_validate(estimator, X_, y_, cv=cv,\r\n",
        "                                scoring=('accuracy'),\r\n",
        "                                return_train_score=False)\r\n",
        "        exp_df = pd.DataFrame({\r\n",
        "            'accuracy':scores['test_score'],\r\n",
        "            'classifier_name':[clf_name for _ in range(10)],\r\n",
        "            'fit_time':scores['fit_time']+scores['score_time'],\r\n",
        "            'dataset_name':['dataset'+str(i) for i in range(step, step+10)]\r\n",
        "        })\r\n",
        "        step += 10\r\n",
        "        exp_results = exp_results.append(exp_df)\r\n",
        " \r\n",
        "  clfs_list.pop() \r\n",
        "  return exp_results.fillna(0)"
      ],
      "execution_count": 48,
      "outputs": []
    },
    {
      "cell_type": "markdown",
      "metadata": {
        "id": "k51NwUW6hwth"
      },
      "source": [
        "### Base de Dados\r\n",
        "\r\n"
      ]
    },
    {
      "cell_type": "code",
      "metadata": {
        "id": "SLT3y3MvoTYl"
      },
      "source": [
        "# define the name of the directory to be created\r\n",
        "IRIS_RESULTS = 'results/iris'\r\n",
        "SEGMENT_RESULTS = 'results/segment'\r\n",
        "WAVEFORM_RESULTS = 'results/waveform'"
      ],
      "execution_count": 49,
      "outputs": []
    },
    {
      "cell_type": "code",
      "metadata": {
        "colab": {
          "base_uri": "https://localhost:8080/"
        },
        "id": "AkrQBZ-ysZJZ",
        "outputId": "32c4af1d-3d6a-4a67-84aa-8ac53fc38de9"
      },
      "source": [
        "try:  \r\n",
        "  os.makedirs(os.path.join(IRIS_RESULTS, 'brutos'))\r\n",
        "  os.makedirs(os.path.join(IRIS_RESULTS, 'processados'))\r\n",
        "  os.makedirs(os.path.join(SEGMENT_RESULTS, 'brutos'))\r\n",
        "  os.makedirs(os.path.join(SEGMENT_RESULTS, 'processados'))\r\n",
        "  os.makedirs(os.path.join(WAVEFORM_RESULTS, 'brutos'))\r\n",
        "  os.makedirs(os.path.join(WAVEFORM_RESULTS, 'processados'))\r\n",
        "except OSError:\r\n",
        "    print (\"Creation of the directories failed\")\r\n",
        "else:\r\n",
        "    print (\"Successfully created the directories\")"
      ],
      "execution_count": 50,
      "outputs": [
        {
          "output_type": "stream",
          "name": "stdout",
          "text": [
            "Creation of the directories failed\n"
          ]
        }
      ]
    },
    {
      "cell_type": "markdown",
      "metadata": {
        "id": "gD_geLFfXA64"
      },
      "source": [
        "### Baixando os dados da UCI-database\r\n",
        "\r\n",
        "As bases de dados foram baixadas e enviadas para o meu repositório."
      ]
    },
    {
      "cell_type": "code",
      "metadata": {
        "colab": {
          "base_uri": "https://localhost:8080/"
        },
        "id": "psGWyMUn_e6_",
        "outputId": "ca18b649-2dff-4328-dced-2ce8a6412aa7"
      },
      "source": [
        "!git clone https://github.com/Tiagoblima/UCI-database.git"
      ],
      "execution_count": 51,
      "outputs": [
        {
          "output_type": "stream",
          "name": "stderr",
          "text": [
            "fatal: destination path 'UCI-database' already exists and is not an empty directory.\n"
          ]
        }
      ]
    },
    {
      "cell_type": "markdown",
      "metadata": {
        "id": "T1KLM9OZiQi0"
      },
      "source": [
        "#### PRÉ-PROCESSAMENTO\r\n",
        "\r\n",
        "O pré-processamento utilizado levou em consideração ao menos uma técnica. \r\n",
        "O objetivo principal foi melhor preparar os dados para a classificação utilizando o KNN.\r\n",
        "1. Para o \\textit{Iris dataset} foi realizada a normalização dos atributos entre os valores de 0 e 1 de todas as instâncias.\r\n",
        "Sendo assim, a soma de todos os atributos são iguais a 1. Diferentemente da base de dados original, agora, teremos a proporção de cada atributo o que pode revelar a importância dele para classe em específico. \r\n",
        "Além disso, dados reais entre [0,1] ajudam a evitar possíveis distorções em relação aos atributos. \r\n",
        "\r\n",
        "2. Para as bases de dados \\textit{Statlog (Image Segmentation)} e \\textit{Waveform Database Generator} foi utilizada a análise do principal componente (\\textit{PCA}). \r\n",
        "Isso permite que possamos reduzir a quantidade de atributos de cada instância e consequentemente reduzir o tempo de execução do algoritmo. \r\n",
        "Foram selecionados 4 componentes principais de cada conjunto de atributos relacionado as instâncias da base de dados.\r\n",
        "\r\n",
        "Em todos os casos os resultados obtidos com dados pré-processados foram melhores do que com dados brutos.\r\n"
      ]
    },
    {
      "cell_type": "markdown",
      "metadata": {
        "id": "dbOgX9Tzs81O"
      },
      "source": [
        "### Iris Dataset \r\n",
        "\r\n",
        "O Iris dataset consiste de um conjunto de dados onde são\r\n",
        "\r\n",
        "descritas a altura e a largura das sépalas e pétalas de 4 tipos de flores com um total de 150 exemplos. "
      ]
    },
    {
      "cell_type": "markdown",
      "metadata": {
        "id": "oR0bJSh_SVDz"
      },
      "source": [
        "#### Dados Brutos"
      ]
    },
    {
      "cell_type": "code",
      "metadata": {
        "id": "bep4mDhLB_Dr",
        "colab": {
          "base_uri": "https://localhost:8080/",
          "height": 419
        },
        "outputId": "b36f5edc-88e3-43e9-95a8-5418b9703e68"
      },
      "source": [
        "iris_data = pd.read_csv('UCI-database/iris.data', names=[\"feat1\", \"feat2\", \"feat3\", \"feat4\", \"class\"], sep=\",\")\r\n",
        "iris_data"
      ],
      "execution_count": 52,
      "outputs": [
        {
          "output_type": "execute_result",
          "data": {
            "text/plain": [
              "     feat1  feat2  feat3  feat4           class\n",
              "0      5.1    3.5    1.4    0.2     Iris-setosa\n",
              "1      4.9    3.0    1.4    0.2     Iris-setosa\n",
              "2      4.7    3.2    1.3    0.2     Iris-setosa\n",
              "3      4.6    3.1    1.5    0.2     Iris-setosa\n",
              "4      5.0    3.6    1.4    0.2     Iris-setosa\n",
              "..     ...    ...    ...    ...             ...\n",
              "145    6.7    3.0    5.2    2.3  Iris-virginica\n",
              "146    6.3    2.5    5.0    1.9  Iris-virginica\n",
              "147    6.5    3.0    5.2    2.0  Iris-virginica\n",
              "148    6.2    3.4    5.4    2.3  Iris-virginica\n",
              "149    5.9    3.0    5.1    1.8  Iris-virginica\n",
              "\n",
              "[150 rows x 5 columns]"
            ],
            "text/html": "<div>\n<style scoped>\n    .dataframe tbody tr th:only-of-type {\n        vertical-align: middle;\n    }\n\n    .dataframe tbody tr th {\n        vertical-align: top;\n    }\n\n    .dataframe thead th {\n        text-align: right;\n    }\n</style>\n<table border=\"1\" class=\"dataframe\">\n  <thead>\n    <tr style=\"text-align: right;\">\n      <th></th>\n      <th>feat1</th>\n      <th>feat2</th>\n      <th>feat3</th>\n      <th>feat4</th>\n      <th>class</th>\n    </tr>\n  </thead>\n  <tbody>\n    <tr>\n      <th>0</th>\n      <td>5.1</td>\n      <td>3.5</td>\n      <td>1.4</td>\n      <td>0.2</td>\n      <td>Iris-setosa</td>\n    </tr>\n    <tr>\n      <th>1</th>\n      <td>4.9</td>\n      <td>3.0</td>\n      <td>1.4</td>\n      <td>0.2</td>\n      <td>Iris-setosa</td>\n    </tr>\n    <tr>\n      <th>2</th>\n      <td>4.7</td>\n      <td>3.2</td>\n      <td>1.3</td>\n      <td>0.2</td>\n      <td>Iris-setosa</td>\n    </tr>\n    <tr>\n      <th>3</th>\n      <td>4.6</td>\n      <td>3.1</td>\n      <td>1.5</td>\n      <td>0.2</td>\n      <td>Iris-setosa</td>\n    </tr>\n    <tr>\n      <th>4</th>\n      <td>5.0</td>\n      <td>3.6</td>\n      <td>1.4</td>\n      <td>0.2</td>\n      <td>Iris-setosa</td>\n    </tr>\n    <tr>\n      <th>...</th>\n      <td>...</td>\n      <td>...</td>\n      <td>...</td>\n      <td>...</td>\n      <td>...</td>\n    </tr>\n    <tr>\n      <th>145</th>\n      <td>6.7</td>\n      <td>3.0</td>\n      <td>5.2</td>\n      <td>2.3</td>\n      <td>Iris-virginica</td>\n    </tr>\n    <tr>\n      <th>146</th>\n      <td>6.3</td>\n      <td>2.5</td>\n      <td>5.0</td>\n      <td>1.9</td>\n      <td>Iris-virginica</td>\n    </tr>\n    <tr>\n      <th>147</th>\n      <td>6.5</td>\n      <td>3.0</td>\n      <td>5.2</td>\n      <td>2.0</td>\n      <td>Iris-virginica</td>\n    </tr>\n    <tr>\n      <th>148</th>\n      <td>6.2</td>\n      <td>3.4</td>\n      <td>5.4</td>\n      <td>2.3</td>\n      <td>Iris-virginica</td>\n    </tr>\n    <tr>\n      <th>149</th>\n      <td>5.9</td>\n      <td>3.0</td>\n      <td>5.1</td>\n      <td>1.8</td>\n      <td>Iris-virginica</td>\n    </tr>\n  </tbody>\n</table>\n<p>150 rows × 5 columns</p>\n</div>"
          },
          "metadata": {},
          "execution_count": 52
        }
      ]
    },
    {
      "cell_type": "markdown",
      "metadata": {
        "id": "pT2r_Cw0ubBq"
      },
      "source": [
        "#### Pré-Processamento\r\n",
        "\r\n",
        "Para o Iris dataset foi realizada a normalização dos atributos entre os valores de 0 e 1 de todas as instâncias.  Sendo assim, a soma de todos os atributos são iguais a 1.  Diferentemente dabase de dados original, agora, teremos a proporção de cada atributo o que pode revelar a importância dele para classe em específico. Além disso, dados reais entre [0,1] ajudam a evitar possíveis distorções em relação aos atributos. "
      ]
    },
    {
      "cell_type": "code",
      "metadata": {
        "id": "WXeQN1G7pfNF"
      },
      "source": [
        "from sklearn import preprocessing\r\n",
        "from sklearn.decomposition import PCA"
      ],
      "execution_count": 53,
      "outputs": []
    },
    {
      "cell_type": "code",
      "metadata": {
        "colab": {
          "base_uri": "https://localhost:8080/",
          "height": 419
        },
        "id": "DXsgl3VXkPgp",
        "outputId": "85fa9f83-ef3a-412a-f8fb-c4d0bbbfded4"
      },
      "source": [
        "feats = [\"feat1\", \"feat2\", \"feat3\", \"feat4\"]\r\n",
        "X = iris_data[feats]\r\n",
        "\r\n",
        "# Normalizando os dados\r\n",
        "X_normalized = preprocessing.normalize(X, norm='l2')\r\n",
        "iris_data[[\"feat1\", \"feat2\", \"feat3\", \"feat4\"]] = X_normalized\r\n",
        "iris_data.to_csv(os.path.join(IRIS_RESULTS, 'processados/normalized_data.csv'), encoding='utf-8')\r\n",
        "iris_data"
      ],
      "execution_count": 54,
      "outputs": [
        {
          "output_type": "execute_result",
          "data": {
            "text/plain": [
              "        feat1     feat2     feat3     feat4           class\n",
              "0    0.803773  0.551609  0.220644  0.031521     Iris-setosa\n",
              "1    0.828133  0.507020  0.236609  0.033801     Iris-setosa\n",
              "2    0.805333  0.548312  0.222752  0.034269     Iris-setosa\n",
              "3    0.800030  0.539151  0.260879  0.034784     Iris-setosa\n",
              "4    0.790965  0.569495  0.221470  0.031639     Iris-setosa\n",
              "..        ...       ...       ...       ...             ...\n",
              "145  0.721557  0.323085  0.560015  0.247699  Iris-virginica\n",
              "146  0.729654  0.289545  0.579090  0.220054  Iris-virginica\n",
              "147  0.716539  0.330710  0.573231  0.220474  Iris-virginica\n",
              "148  0.674671  0.369981  0.587616  0.250281  Iris-virginica\n",
              "149  0.690259  0.350979  0.596665  0.210588  Iris-virginica\n",
              "\n",
              "[150 rows x 5 columns]"
            ],
            "text/html": "<div>\n<style scoped>\n    .dataframe tbody tr th:only-of-type {\n        vertical-align: middle;\n    }\n\n    .dataframe tbody tr th {\n        vertical-align: top;\n    }\n\n    .dataframe thead th {\n        text-align: right;\n    }\n</style>\n<table border=\"1\" class=\"dataframe\">\n  <thead>\n    <tr style=\"text-align: right;\">\n      <th></th>\n      <th>feat1</th>\n      <th>feat2</th>\n      <th>feat3</th>\n      <th>feat4</th>\n      <th>class</th>\n    </tr>\n  </thead>\n  <tbody>\n    <tr>\n      <th>0</th>\n      <td>0.803773</td>\n      <td>0.551609</td>\n      <td>0.220644</td>\n      <td>0.031521</td>\n      <td>Iris-setosa</td>\n    </tr>\n    <tr>\n      <th>1</th>\n      <td>0.828133</td>\n      <td>0.507020</td>\n      <td>0.236609</td>\n      <td>0.033801</td>\n      <td>Iris-setosa</td>\n    </tr>\n    <tr>\n      <th>2</th>\n      <td>0.805333</td>\n      <td>0.548312</td>\n      <td>0.222752</td>\n      <td>0.034269</td>\n      <td>Iris-setosa</td>\n    </tr>\n    <tr>\n      <th>3</th>\n      <td>0.800030</td>\n      <td>0.539151</td>\n      <td>0.260879</td>\n      <td>0.034784</td>\n      <td>Iris-setosa</td>\n    </tr>\n    <tr>\n      <th>4</th>\n      <td>0.790965</td>\n      <td>0.569495</td>\n      <td>0.221470</td>\n      <td>0.031639</td>\n      <td>Iris-setosa</td>\n    </tr>\n    <tr>\n      <th>...</th>\n      <td>...</td>\n      <td>...</td>\n      <td>...</td>\n      <td>...</td>\n      <td>...</td>\n    </tr>\n    <tr>\n      <th>145</th>\n      <td>0.721557</td>\n      <td>0.323085</td>\n      <td>0.560015</td>\n      <td>0.247699</td>\n      <td>Iris-virginica</td>\n    </tr>\n    <tr>\n      <th>146</th>\n      <td>0.729654</td>\n      <td>0.289545</td>\n      <td>0.579090</td>\n      <td>0.220054</td>\n      <td>Iris-virginica</td>\n    </tr>\n    <tr>\n      <th>147</th>\n      <td>0.716539</td>\n      <td>0.330710</td>\n      <td>0.573231</td>\n      <td>0.220474</td>\n      <td>Iris-virginica</td>\n    </tr>\n    <tr>\n      <th>148</th>\n      <td>0.674671</td>\n      <td>0.369981</td>\n      <td>0.587616</td>\n      <td>0.250281</td>\n      <td>Iris-virginica</td>\n    </tr>\n    <tr>\n      <th>149</th>\n      <td>0.690259</td>\n      <td>0.350979</td>\n      <td>0.596665</td>\n      <td>0.210588</td>\n      <td>Iris-virginica</td>\n    </tr>\n  </tbody>\n</table>\n<p>150 rows × 5 columns</p>\n</div>"
          },
          "metadata": {},
          "execution_count": 54
        }
      ]
    },
    {
      "cell_type": "markdown",
      "metadata": {
        "id": "2bUyCMzCtCi1"
      },
      "source": [
        "### Statlog (Image Segmentation)\r\n",
        "A base de dados Statlog (Image Segmentation) é composta por segmentações feitas manualmente de 7 imagens que permitem a classificação pixel a pixel. "
      ]
    },
    {
      "cell_type": "code",
      "metadata": {
        "id": "lOIm4tSLmoK-",
        "colab": {
          "base_uri": "https://localhost:8080/",
          "height": 439
        },
        "outputId": "3056e4c3-7738-487a-9e2b-7492f79cd82a"
      },
      "source": [
        "segment_feats = [\"feat\"+str(1+n) for n in range(19)]\r\n",
        "\r\n",
        "segment_data = pd.read_csv('UCI-database/segment.dat', names=segment_feats+['class'],sep=\" \")\r\n",
        "segment_data"
      ],
      "execution_count": 55,
      "outputs": [
        {
          "output_type": "execute_result",
          "data": {
            "text/plain": [
              "      feat1  feat2  feat3     feat4  feat5     feat6     feat7     feat8  \\\n",
              "0     218.0  178.0      9  0.111111    0.0  0.833333  0.547722  1.111109   \n",
              "1     113.0  130.0      9  0.000000    0.0  0.277778  0.250924  0.333333   \n",
              "2     202.0   41.0      9  0.000000    0.0  0.944448  0.772202  1.111112   \n",
              "3      32.0  173.0      9  0.000000    0.0  1.722222  1.781593  9.000000   \n",
              "4      61.0  197.0      9  0.000000    0.0  1.444444  1.515353  2.611111   \n",
              "...     ...    ...    ...       ...    ...       ...       ...       ...   \n",
              "2305   30.0  102.0      9  0.000000    0.0  1.222222  0.118518  1.333333   \n",
              "2306  143.0   24.0      9  0.000000    0.0  1.277777  0.907406  0.888888   \n",
              "2307   80.0   72.0      9  0.000000    0.0  1.222223  1.003697  1.444444   \n",
              "2308   98.0  133.0      9  0.000000    0.0  0.555555  0.172133  0.388889   \n",
              "2309   19.0  147.0      9  0.000000    0.0  0.222222  0.074074  0.500000   \n",
              "\n",
              "         feat9      feat10      feat11      feat12      feat13     feat14  \\\n",
              "0     0.544331   59.629630   52.444443   75.222220   51.222220 -21.555555   \n",
              "1     0.365148    0.888889    0.000000    2.555556    0.111111  -2.666667   \n",
              "2     1.025597  123.037040  111.888885  139.777790  117.444440 -33.444443   \n",
              "3     6.749488   43.592594   39.555557   52.888890   38.333336 -12.111111   \n",
              "4     1.925463   49.592594   44.222220   61.555557   43.000000 -16.111110   \n",
              "...        ...         ...         ...         ...         ...        ...   \n",
              "2305  0.800000   20.259260   20.333334   25.000000   15.444445   0.222222   \n",
              "2306  1.140749  127.629630  117.666664  141.666670  123.555560 -29.888890   \n",
              "2307  1.167461   59.000000   51.333332   74.444440   51.222220 -23.000000   \n",
              "2308  0.327731    0.962963    0.000000    2.777778    0.111111  -2.888889   \n",
              "2309  0.077778    4.148148    3.888889    6.666666    1.888889  -0.777778   \n",
              "\n",
              "         feat15     feat16      feat17    feat18    feat19  class  \n",
              "0     46.777780 -25.222221   75.222220  0.318996 -2.040554      6  \n",
              "1      5.000000  -2.333333    2.555556  1.000000 -2.123254      3  \n",
              "2     50.222220 -16.777779  139.777790  0.199347 -2.299918      2  \n",
              "3     27.888890 -15.777778   52.888890  0.266914 -1.998858      6  \n",
              "4     35.888890 -19.777779   61.555557  0.302925 -2.022274      6  \n",
              "...         ...        ...         ...       ...       ...    ...  \n",
              "2305  14.222222 -14.444445   25.000000  0.381059 -1.555097      1  \n",
              "2306  42.111110 -12.222222  141.666670  0.169397 -2.349252      2  \n",
              "2307  46.333332 -23.333334   74.444440  0.314606 -2.090221      4  \n",
              "2308   5.444445  -2.555556    2.777778  1.000000 -2.123254      3  \n",
              "2309   7.555555  -6.777778    7.000000  0.713228 -1.475643      1  \n",
              "\n",
              "[2310 rows x 20 columns]"
            ],
            "text/html": "<div>\n<style scoped>\n    .dataframe tbody tr th:only-of-type {\n        vertical-align: middle;\n    }\n\n    .dataframe tbody tr th {\n        vertical-align: top;\n    }\n\n    .dataframe thead th {\n        text-align: right;\n    }\n</style>\n<table border=\"1\" class=\"dataframe\">\n  <thead>\n    <tr style=\"text-align: right;\">\n      <th></th>\n      <th>feat1</th>\n      <th>feat2</th>\n      <th>feat3</th>\n      <th>feat4</th>\n      <th>feat5</th>\n      <th>feat6</th>\n      <th>feat7</th>\n      <th>feat8</th>\n      <th>feat9</th>\n      <th>feat10</th>\n      <th>feat11</th>\n      <th>feat12</th>\n      <th>feat13</th>\n      <th>feat14</th>\n      <th>feat15</th>\n      <th>feat16</th>\n      <th>feat17</th>\n      <th>feat18</th>\n      <th>feat19</th>\n      <th>class</th>\n    </tr>\n  </thead>\n  <tbody>\n    <tr>\n      <th>0</th>\n      <td>218.0</td>\n      <td>178.0</td>\n      <td>9</td>\n      <td>0.111111</td>\n      <td>0.0</td>\n      <td>0.833333</td>\n      <td>0.547722</td>\n      <td>1.111109</td>\n      <td>0.544331</td>\n      <td>59.629630</td>\n      <td>52.444443</td>\n      <td>75.222220</td>\n      <td>51.222220</td>\n      <td>-21.555555</td>\n      <td>46.777780</td>\n      <td>-25.222221</td>\n      <td>75.222220</td>\n      <td>0.318996</td>\n      <td>-2.040554</td>\n      <td>6</td>\n    </tr>\n    <tr>\n      <th>1</th>\n      <td>113.0</td>\n      <td>130.0</td>\n      <td>9</td>\n      <td>0.000000</td>\n      <td>0.0</td>\n      <td>0.277778</td>\n      <td>0.250924</td>\n      <td>0.333333</td>\n      <td>0.365148</td>\n      <td>0.888889</td>\n      <td>0.000000</td>\n      <td>2.555556</td>\n      <td>0.111111</td>\n      <td>-2.666667</td>\n      <td>5.000000</td>\n      <td>-2.333333</td>\n      <td>2.555556</td>\n      <td>1.000000</td>\n      <td>-2.123254</td>\n      <td>3</td>\n    </tr>\n    <tr>\n      <th>2</th>\n      <td>202.0</td>\n      <td>41.0</td>\n      <td>9</td>\n      <td>0.000000</td>\n      <td>0.0</td>\n      <td>0.944448</td>\n      <td>0.772202</td>\n      <td>1.111112</td>\n      <td>1.025597</td>\n      <td>123.037040</td>\n      <td>111.888885</td>\n      <td>139.777790</td>\n      <td>117.444440</td>\n      <td>-33.444443</td>\n      <td>50.222220</td>\n      <td>-16.777779</td>\n      <td>139.777790</td>\n      <td>0.199347</td>\n      <td>-2.299918</td>\n      <td>2</td>\n    </tr>\n    <tr>\n      <th>3</th>\n      <td>32.0</td>\n      <td>173.0</td>\n      <td>9</td>\n      <td>0.000000</td>\n      <td>0.0</td>\n      <td>1.722222</td>\n      <td>1.781593</td>\n      <td>9.000000</td>\n      <td>6.749488</td>\n      <td>43.592594</td>\n      <td>39.555557</td>\n      <td>52.888890</td>\n      <td>38.333336</td>\n      <td>-12.111111</td>\n      <td>27.888890</td>\n      <td>-15.777778</td>\n      <td>52.888890</td>\n      <td>0.266914</td>\n      <td>-1.998858</td>\n      <td>6</td>\n    </tr>\n    <tr>\n      <th>4</th>\n      <td>61.0</td>\n      <td>197.0</td>\n      <td>9</td>\n      <td>0.000000</td>\n      <td>0.0</td>\n      <td>1.444444</td>\n      <td>1.515353</td>\n      <td>2.611111</td>\n      <td>1.925463</td>\n      <td>49.592594</td>\n      <td>44.222220</td>\n      <td>61.555557</td>\n      <td>43.000000</td>\n      <td>-16.111110</td>\n      <td>35.888890</td>\n      <td>-19.777779</td>\n      <td>61.555557</td>\n      <td>0.302925</td>\n      <td>-2.022274</td>\n      <td>6</td>\n    </tr>\n    <tr>\n      <th>...</th>\n      <td>...</td>\n      <td>...</td>\n      <td>...</td>\n      <td>...</td>\n      <td>...</td>\n      <td>...</td>\n      <td>...</td>\n      <td>...</td>\n      <td>...</td>\n      <td>...</td>\n      <td>...</td>\n      <td>...</td>\n      <td>...</td>\n      <td>...</td>\n      <td>...</td>\n      <td>...</td>\n      <td>...</td>\n      <td>...</td>\n      <td>...</td>\n      <td>...</td>\n    </tr>\n    <tr>\n      <th>2305</th>\n      <td>30.0</td>\n      <td>102.0</td>\n      <td>9</td>\n      <td>0.000000</td>\n      <td>0.0</td>\n      <td>1.222222</td>\n      <td>0.118518</td>\n      <td>1.333333</td>\n      <td>0.800000</td>\n      <td>20.259260</td>\n      <td>20.333334</td>\n      <td>25.000000</td>\n      <td>15.444445</td>\n      <td>0.222222</td>\n      <td>14.222222</td>\n      <td>-14.444445</td>\n      <td>25.000000</td>\n      <td>0.381059</td>\n      <td>-1.555097</td>\n      <td>1</td>\n    </tr>\n    <tr>\n      <th>2306</th>\n      <td>143.0</td>\n      <td>24.0</td>\n      <td>9</td>\n      <td>0.000000</td>\n      <td>0.0</td>\n      <td>1.277777</td>\n      <td>0.907406</td>\n      <td>0.888888</td>\n      <td>1.140749</td>\n      <td>127.629630</td>\n      <td>117.666664</td>\n      <td>141.666670</td>\n      <td>123.555560</td>\n      <td>-29.888890</td>\n      <td>42.111110</td>\n      <td>-12.222222</td>\n      <td>141.666670</td>\n      <td>0.169397</td>\n      <td>-2.349252</td>\n      <td>2</td>\n    </tr>\n    <tr>\n      <th>2307</th>\n      <td>80.0</td>\n      <td>72.0</td>\n      <td>9</td>\n      <td>0.000000</td>\n      <td>0.0</td>\n      <td>1.222223</td>\n      <td>1.003697</td>\n      <td>1.444444</td>\n      <td>1.167461</td>\n      <td>59.000000</td>\n      <td>51.333332</td>\n      <td>74.444440</td>\n      <td>51.222220</td>\n      <td>-23.000000</td>\n      <td>46.333332</td>\n      <td>-23.333334</td>\n      <td>74.444440</td>\n      <td>0.314606</td>\n      <td>-2.090221</td>\n      <td>4</td>\n    </tr>\n    <tr>\n      <th>2308</th>\n      <td>98.0</td>\n      <td>133.0</td>\n      <td>9</td>\n      <td>0.000000</td>\n      <td>0.0</td>\n      <td>0.555555</td>\n      <td>0.172133</td>\n      <td>0.388889</td>\n      <td>0.327731</td>\n      <td>0.962963</td>\n      <td>0.000000</td>\n      <td>2.777778</td>\n      <td>0.111111</td>\n      <td>-2.888889</td>\n      <td>5.444445</td>\n      <td>-2.555556</td>\n      <td>2.777778</td>\n      <td>1.000000</td>\n      <td>-2.123254</td>\n      <td>3</td>\n    </tr>\n    <tr>\n      <th>2309</th>\n      <td>19.0</td>\n      <td>147.0</td>\n      <td>9</td>\n      <td>0.000000</td>\n      <td>0.0</td>\n      <td>0.222222</td>\n      <td>0.074074</td>\n      <td>0.500000</td>\n      <td>0.077778</td>\n      <td>4.148148</td>\n      <td>3.888889</td>\n      <td>6.666666</td>\n      <td>1.888889</td>\n      <td>-0.777778</td>\n      <td>7.555555</td>\n      <td>-6.777778</td>\n      <td>7.000000</td>\n      <td>0.713228</td>\n      <td>-1.475643</td>\n      <td>1</td>\n    </tr>\n  </tbody>\n</table>\n<p>2310 rows × 20 columns</p>\n</div>"
          },
          "metadata": {},
          "execution_count": 55
        }
      ]
    },
    {
      "cell_type": "markdown",
      "metadata": {
        "id": "FLzCfslSTNhB"
      },
      "source": [
        "##### Pré-processamento"
      ]
    },
    {
      "cell_type": "code",
      "metadata": {
        "colab": {
          "base_uri": "https://localhost:8080/"
        },
        "id": "P_6SQRdvpZS-",
        "outputId": "54613078-bffe-4f93-9b97-622a5945708d"
      },
      "source": [
        "# Normalizando os dados\r\n",
        "X = segment_data[segment_feats].to_numpy()\r\n",
        "X_scaled = preprocessing.normalize(X, norm='l2')\r\n",
        "X_scaled.shape"
      ],
      "execution_count": 56,
      "outputs": [
        {
          "output_type": "execute_result",
          "data": {
            "text/plain": [
              "(2310, 19)"
            ]
          },
          "metadata": {},
          "execution_count": 56
        }
      ]
    },
    {
      "cell_type": "code",
      "metadata": {
        "colab": {
          "base_uri": "https://localhost:8080/",
          "height": 419
        },
        "id": "qH2HMJnbqa-c",
        "outputId": "4d1a3b8e-9069-4b23-e7e9-dfb1a40e2c7c"
      },
      "source": [
        "from sklearn.preprocessing import MinMaxScaler\r\n",
        "# Reduzindo as dimensões \r\n",
        "pca = PCA(n_components=4)\r\n",
        "reduced_X = pca.fit_transform(X_scaled)\r\n",
        "scaler = MinMaxScaler()\r\n",
        "reduced_X = scaler.fit_transform(reduced_X)\r\n",
        "reduced_segment = pd.DataFrame(reduced_X, columns=feats)\r\n",
        "reduced_segment[\"class\"] = segment_data[\"class\"]\r\n",
        "reduced_segment.to_csv(os.path.join(SEGMENT_RESULTS, 'processados/reduced.csv'))\r\n",
        "reduced_segment"
      ],
      "execution_count": 57,
      "outputs": [
        {
          "output_type": "execute_result",
          "data": {
            "text/plain": [
              "         feat1     feat2     feat3     feat4  class\n",
              "0     0.431308  0.552776  0.011500  0.539871      6\n",
              "1     0.088325  0.559241  0.094695  0.379843      3\n",
              "2     0.834952  0.561663  0.098774  0.309305      2\n",
              "3     0.363960  0.099258  0.060764  0.483916      6\n",
              "4     0.364246  0.172263  0.029233  0.504992      6\n",
              "...        ...       ...       ...       ...    ...\n",
              "2305  0.292968  0.175380  0.035965  0.503839      1\n",
              "2306  0.909239  0.471503  0.128853  0.223372      2\n",
              "2307  0.713742  0.377697  0.032577  0.559829      4\n",
              "2308  0.071421  0.499763  0.092937  0.383451      3\n",
              "2309  0.050868  0.119704  0.135287  0.318365      1\n",
              "\n",
              "[2310 rows x 5 columns]"
            ],
            "text/html": "<div>\n<style scoped>\n    .dataframe tbody tr th:only-of-type {\n        vertical-align: middle;\n    }\n\n    .dataframe tbody tr th {\n        vertical-align: top;\n    }\n\n    .dataframe thead th {\n        text-align: right;\n    }\n</style>\n<table border=\"1\" class=\"dataframe\">\n  <thead>\n    <tr style=\"text-align: right;\">\n      <th></th>\n      <th>feat1</th>\n      <th>feat2</th>\n      <th>feat3</th>\n      <th>feat4</th>\n      <th>class</th>\n    </tr>\n  </thead>\n  <tbody>\n    <tr>\n      <th>0</th>\n      <td>0.431308</td>\n      <td>0.552776</td>\n      <td>0.011500</td>\n      <td>0.539871</td>\n      <td>6</td>\n    </tr>\n    <tr>\n      <th>1</th>\n      <td>0.088325</td>\n      <td>0.559241</td>\n      <td>0.094695</td>\n      <td>0.379843</td>\n      <td>3</td>\n    </tr>\n    <tr>\n      <th>2</th>\n      <td>0.834952</td>\n      <td>0.561663</td>\n      <td>0.098774</td>\n      <td>0.309305</td>\n      <td>2</td>\n    </tr>\n    <tr>\n      <th>3</th>\n      <td>0.363960</td>\n      <td>0.099258</td>\n      <td>0.060764</td>\n      <td>0.483916</td>\n      <td>6</td>\n    </tr>\n    <tr>\n      <th>4</th>\n      <td>0.364246</td>\n      <td>0.172263</td>\n      <td>0.029233</td>\n      <td>0.504992</td>\n      <td>6</td>\n    </tr>\n    <tr>\n      <th>...</th>\n      <td>...</td>\n      <td>...</td>\n      <td>...</td>\n      <td>...</td>\n      <td>...</td>\n    </tr>\n    <tr>\n      <th>2305</th>\n      <td>0.292968</td>\n      <td>0.175380</td>\n      <td>0.035965</td>\n      <td>0.503839</td>\n      <td>1</td>\n    </tr>\n    <tr>\n      <th>2306</th>\n      <td>0.909239</td>\n      <td>0.471503</td>\n      <td>0.128853</td>\n      <td>0.223372</td>\n      <td>2</td>\n    </tr>\n    <tr>\n      <th>2307</th>\n      <td>0.713742</td>\n      <td>0.377697</td>\n      <td>0.032577</td>\n      <td>0.559829</td>\n      <td>4</td>\n    </tr>\n    <tr>\n      <th>2308</th>\n      <td>0.071421</td>\n      <td>0.499763</td>\n      <td>0.092937</td>\n      <td>0.383451</td>\n      <td>3</td>\n    </tr>\n    <tr>\n      <th>2309</th>\n      <td>0.050868</td>\n      <td>0.119704</td>\n      <td>0.135287</td>\n      <td>0.318365</td>\n      <td>1</td>\n    </tr>\n  </tbody>\n</table>\n<p>2310 rows × 5 columns</p>\n</div>"
          },
          "metadata": {},
          "execution_count": 57
        }
      ]
    },
    {
      "cell_type": "markdown",
      "metadata": {
        "id": "0Lu1u5WgxUNj"
      },
      "source": [
        "### Waveform Database\r\n",
        "Cada instância em uma região 3x3 de uma imagem, são 2310 exemplos e 19 atributos de dados contínuos.\r\n",
        "O dataset Waveform Database Generator contém dados relacionados a geração de três tipos de onda. \r\n",
        "São 21 atributos de dados contínuos que variam de 0 a 6 e 500 mil instâncias."
      ]
    },
    {
      "cell_type": "code",
      "metadata": {
        "id": "6Oz2VqlNsm5S",
        "colab": {
          "base_uri": "https://localhost:8080/",
          "height": 439
        },
        "outputId": "4b89c59d-ff52-4544-94ae-a9aafffd57b5"
      },
      "source": [
        "waveform_feats = [\"feat\"+str(1+n) for n in range(21)]\r\n",
        "\r\n",
        "waveform_data = pd.read_csv('UCI-database/waveform.data', sep=',',names=waveform_feats+['class'])\r\n",
        "waveform_data"
      ],
      "execution_count": 58,
      "outputs": [
        {
          "output_type": "execute_result",
          "data": {
            "text/plain": [
              "      feat1  feat2  feat3  feat4  feat5  feat6  feat7  feat8  feat9  feat10  \\\n",
              "0     -1.23  -1.56  -1.75  -0.28   0.60   2.22   0.85   0.21  -0.20    0.89   \n",
              "1     -0.69   2.43   0.61   2.08   2.30   3.25   5.52   4.55   2.97    2.22   \n",
              "2     -0.12  -0.94   1.29   2.59   2.42   3.55   4.94   3.25   1.90    2.07   \n",
              "3      0.86   0.29   2.19  -0.02   1.13   2.51   2.37   5.45   5.45    4.84   \n",
              "4      1.16   0.37   0.40  -0.59   2.66   1.00   2.69   4.06   5.34    3.53   \n",
              "...     ...    ...    ...    ...    ...    ...    ...    ...    ...     ...   \n",
              "4995  -0.65   0.69   2.29  -0.16   0.51   0.26   2.34  -0.42   0.49    0.31   \n",
              "4996  -0.02   0.67   2.34   3.18   2.16   4.77   6.70   4.54   4.92    3.39   \n",
              "4997   0.01  -1.99   0.16   2.30  -0.53   1.93   3.61   3.00   4.61    5.73   \n",
              "4998  -0.40   0.41  -0.48   1.04   0.79  -0.66   1.18   0.52   2.20    0.59   \n",
              "4999   0.63  -0.07   2.71   2.55   3.36   3.22   3.69   4.67   3.45    3.87   \n",
              "\n",
              "      ...  feat13  feat14  feat15  feat16  feat17  feat18  feat19  feat20  \\\n",
              "0     ...    2.89    7.75    4.59    3.15    5.12    3.32    1.20    0.24   \n",
              "1     ...    1.24    1.89    1.88   -1.34    0.83    1.41    1.78    0.60   \n",
              "2     ...    2.50    0.12    1.41    2.78    0.64    0.62   -0.01   -0.79   \n",
              "3     ...    2.58    1.40    1.24    1.41    1.07   -1.43    2.84   -1.18   \n",
              "4     ...    4.30    1.84    1.73    0.21   -0.18    0.13   -0.21   -0.80   \n",
              "...   ...     ...     ...     ...     ...     ...     ...     ...     ...   \n",
              "4995  ...    3.46    4.81    5.49    5.19    3.10    3.86    2.96    1.09   \n",
              "4996  ...    1.53    2.52    1.14   -1.56   -1.18   -0.56    0.02   -1.05   \n",
              "4997  ...    3.14    3.04    1.61    0.60   -0.52    0.62    1.00    1.21   \n",
              "4998  ...    3.64    3.62    5.97    2.63    3.83    1.72    2.08    1.31   \n",
              "4999  ...   -0.52    1.90    0.88    3.15    1.27   -0.53    0.09    0.01   \n",
              "\n",
              "      feat21  class  \n",
              "0      -0.56      2  \n",
              "1       2.42      1  \n",
              "2      -0.12      0  \n",
              "3       1.12      1  \n",
              "4      -0.68      1  \n",
              "...      ...    ...  \n",
              "4995   -1.42      0  \n",
              "4996   -0.18      1  \n",
              "4997   -0.27      1  \n",
              "4998    1.37      0  \n",
              "4999    0.60      1  \n",
              "\n",
              "[5000 rows x 22 columns]"
            ],
            "text/html": "<div>\n<style scoped>\n    .dataframe tbody tr th:only-of-type {\n        vertical-align: middle;\n    }\n\n    .dataframe tbody tr th {\n        vertical-align: top;\n    }\n\n    .dataframe thead th {\n        text-align: right;\n    }\n</style>\n<table border=\"1\" class=\"dataframe\">\n  <thead>\n    <tr style=\"text-align: right;\">\n      <th></th>\n      <th>feat1</th>\n      <th>feat2</th>\n      <th>feat3</th>\n      <th>feat4</th>\n      <th>feat5</th>\n      <th>feat6</th>\n      <th>feat7</th>\n      <th>feat8</th>\n      <th>feat9</th>\n      <th>feat10</th>\n      <th>...</th>\n      <th>feat13</th>\n      <th>feat14</th>\n      <th>feat15</th>\n      <th>feat16</th>\n      <th>feat17</th>\n      <th>feat18</th>\n      <th>feat19</th>\n      <th>feat20</th>\n      <th>feat21</th>\n      <th>class</th>\n    </tr>\n  </thead>\n  <tbody>\n    <tr>\n      <th>0</th>\n      <td>-1.23</td>\n      <td>-1.56</td>\n      <td>-1.75</td>\n      <td>-0.28</td>\n      <td>0.60</td>\n      <td>2.22</td>\n      <td>0.85</td>\n      <td>0.21</td>\n      <td>-0.20</td>\n      <td>0.89</td>\n      <td>...</td>\n      <td>2.89</td>\n      <td>7.75</td>\n      <td>4.59</td>\n      <td>3.15</td>\n      <td>5.12</td>\n      <td>3.32</td>\n      <td>1.20</td>\n      <td>0.24</td>\n      <td>-0.56</td>\n      <td>2</td>\n    </tr>\n    <tr>\n      <th>1</th>\n      <td>-0.69</td>\n      <td>2.43</td>\n      <td>0.61</td>\n      <td>2.08</td>\n      <td>2.30</td>\n      <td>3.25</td>\n      <td>5.52</td>\n      <td>4.55</td>\n      <td>2.97</td>\n      <td>2.22</td>\n      <td>...</td>\n      <td>1.24</td>\n      <td>1.89</td>\n      <td>1.88</td>\n      <td>-1.34</td>\n      <td>0.83</td>\n      <td>1.41</td>\n      <td>1.78</td>\n      <td>0.60</td>\n      <td>2.42</td>\n      <td>1</td>\n    </tr>\n    <tr>\n      <th>2</th>\n      <td>-0.12</td>\n      <td>-0.94</td>\n      <td>1.29</td>\n      <td>2.59</td>\n      <td>2.42</td>\n      <td>3.55</td>\n      <td>4.94</td>\n      <td>3.25</td>\n      <td>1.90</td>\n      <td>2.07</td>\n      <td>...</td>\n      <td>2.50</td>\n      <td>0.12</td>\n      <td>1.41</td>\n      <td>2.78</td>\n      <td>0.64</td>\n      <td>0.62</td>\n      <td>-0.01</td>\n      <td>-0.79</td>\n      <td>-0.12</td>\n      <td>0</td>\n    </tr>\n    <tr>\n      <th>3</th>\n      <td>0.86</td>\n      <td>0.29</td>\n      <td>2.19</td>\n      <td>-0.02</td>\n      <td>1.13</td>\n      <td>2.51</td>\n      <td>2.37</td>\n      <td>5.45</td>\n      <td>5.45</td>\n      <td>4.84</td>\n      <td>...</td>\n      <td>2.58</td>\n      <td>1.40</td>\n      <td>1.24</td>\n      <td>1.41</td>\n      <td>1.07</td>\n      <td>-1.43</td>\n      <td>2.84</td>\n      <td>-1.18</td>\n      <td>1.12</td>\n      <td>1</td>\n    </tr>\n    <tr>\n      <th>4</th>\n      <td>1.16</td>\n      <td>0.37</td>\n      <td>0.40</td>\n      <td>-0.59</td>\n      <td>2.66</td>\n      <td>1.00</td>\n      <td>2.69</td>\n      <td>4.06</td>\n      <td>5.34</td>\n      <td>3.53</td>\n      <td>...</td>\n      <td>4.30</td>\n      <td>1.84</td>\n      <td>1.73</td>\n      <td>0.21</td>\n      <td>-0.18</td>\n      <td>0.13</td>\n      <td>-0.21</td>\n      <td>-0.80</td>\n      <td>-0.68</td>\n      <td>1</td>\n    </tr>\n    <tr>\n      <th>...</th>\n      <td>...</td>\n      <td>...</td>\n      <td>...</td>\n      <td>...</td>\n      <td>...</td>\n      <td>...</td>\n      <td>...</td>\n      <td>...</td>\n      <td>...</td>\n      <td>...</td>\n      <td>...</td>\n      <td>...</td>\n      <td>...</td>\n      <td>...</td>\n      <td>...</td>\n      <td>...</td>\n      <td>...</td>\n      <td>...</td>\n      <td>...</td>\n      <td>...</td>\n      <td>...</td>\n    </tr>\n    <tr>\n      <th>4995</th>\n      <td>-0.65</td>\n      <td>0.69</td>\n      <td>2.29</td>\n      <td>-0.16</td>\n      <td>0.51</td>\n      <td>0.26</td>\n      <td>2.34</td>\n      <td>-0.42</td>\n      <td>0.49</td>\n      <td>0.31</td>\n      <td>...</td>\n      <td>3.46</td>\n      <td>4.81</td>\n      <td>5.49</td>\n      <td>5.19</td>\n      <td>3.10</td>\n      <td>3.86</td>\n      <td>2.96</td>\n      <td>1.09</td>\n      <td>-1.42</td>\n      <td>0</td>\n    </tr>\n    <tr>\n      <th>4996</th>\n      <td>-0.02</td>\n      <td>0.67</td>\n      <td>2.34</td>\n      <td>3.18</td>\n      <td>2.16</td>\n      <td>4.77</td>\n      <td>6.70</td>\n      <td>4.54</td>\n      <td>4.92</td>\n      <td>3.39</td>\n      <td>...</td>\n      <td>1.53</td>\n      <td>2.52</td>\n      <td>1.14</td>\n      <td>-1.56</td>\n      <td>-1.18</td>\n      <td>-0.56</td>\n      <td>0.02</td>\n      <td>-1.05</td>\n      <td>-0.18</td>\n      <td>1</td>\n    </tr>\n    <tr>\n      <th>4997</th>\n      <td>0.01</td>\n      <td>-1.99</td>\n      <td>0.16</td>\n      <td>2.30</td>\n      <td>-0.53</td>\n      <td>1.93</td>\n      <td>3.61</td>\n      <td>3.00</td>\n      <td>4.61</td>\n      <td>5.73</td>\n      <td>...</td>\n      <td>3.14</td>\n      <td>3.04</td>\n      <td>1.61</td>\n      <td>0.60</td>\n      <td>-0.52</td>\n      <td>0.62</td>\n      <td>1.00</td>\n      <td>1.21</td>\n      <td>-0.27</td>\n      <td>1</td>\n    </tr>\n    <tr>\n      <th>4998</th>\n      <td>-0.40</td>\n      <td>0.41</td>\n      <td>-0.48</td>\n      <td>1.04</td>\n      <td>0.79</td>\n      <td>-0.66</td>\n      <td>1.18</td>\n      <td>0.52</td>\n      <td>2.20</td>\n      <td>0.59</td>\n      <td>...</td>\n      <td>3.64</td>\n      <td>3.62</td>\n      <td>5.97</td>\n      <td>2.63</td>\n      <td>3.83</td>\n      <td>1.72</td>\n      <td>2.08</td>\n      <td>1.31</td>\n      <td>1.37</td>\n      <td>0</td>\n    </tr>\n    <tr>\n      <th>4999</th>\n      <td>0.63</td>\n      <td>-0.07</td>\n      <td>2.71</td>\n      <td>2.55</td>\n      <td>3.36</td>\n      <td>3.22</td>\n      <td>3.69</td>\n      <td>4.67</td>\n      <td>3.45</td>\n      <td>3.87</td>\n      <td>...</td>\n      <td>-0.52</td>\n      <td>1.90</td>\n      <td>0.88</td>\n      <td>3.15</td>\n      <td>1.27</td>\n      <td>-0.53</td>\n      <td>0.09</td>\n      <td>0.01</td>\n      <td>0.60</td>\n      <td>1</td>\n    </tr>\n  </tbody>\n</table>\n<p>5000 rows × 22 columns</p>\n</div>"
          },
          "metadata": {},
          "execution_count": 58
        }
      ]
    },
    {
      "cell_type": "markdown",
      "metadata": {
        "id": "Wk8ucCFTyZ7H"
      },
      "source": [
        "Para as bases de dados *Statlog (Image Segmentation)* e *Waveform Database Generator* além da normalização dos dados feita na base de dados do *Iris dataset* foi utilizada uma análise do principal componente (**PCA**) . \r\n",
        "Isso permite que possamos reduzir a quantidade de atributos, extraindo as informações mais relevante. \r\n",
        "Foram selecionados 4 componentes principais de cada conjunto de atributos relacionado as instâncias da base de dados."
      ]
    },
    {
      "cell_type": "markdown",
      "metadata": {
        "id": "7WFAIDYWuzY6"
      },
      "source": [
        "#### Pré-processamento"
      ]
    },
    {
      "cell_type": "code",
      "metadata": {
        "colab": {
          "base_uri": "https://localhost:8080/",
          "height": 439
        },
        "id": "PmT-NqX8rz7T",
        "outputId": "b409390e-bfd4-4262-bd0d-90383302a294"
      },
      "source": [
        "waveform_data"
      ],
      "execution_count": 59,
      "outputs": [
        {
          "output_type": "execute_result",
          "data": {
            "text/plain": [
              "      feat1  feat2  feat3  feat4  feat5  feat6  feat7  feat8  feat9  feat10  \\\n",
              "0     -1.23  -1.56  -1.75  -0.28   0.60   2.22   0.85   0.21  -0.20    0.89   \n",
              "1     -0.69   2.43   0.61   2.08   2.30   3.25   5.52   4.55   2.97    2.22   \n",
              "2     -0.12  -0.94   1.29   2.59   2.42   3.55   4.94   3.25   1.90    2.07   \n",
              "3      0.86   0.29   2.19  -0.02   1.13   2.51   2.37   5.45   5.45    4.84   \n",
              "4      1.16   0.37   0.40  -0.59   2.66   1.00   2.69   4.06   5.34    3.53   \n",
              "...     ...    ...    ...    ...    ...    ...    ...    ...    ...     ...   \n",
              "4995  -0.65   0.69   2.29  -0.16   0.51   0.26   2.34  -0.42   0.49    0.31   \n",
              "4996  -0.02   0.67   2.34   3.18   2.16   4.77   6.70   4.54   4.92    3.39   \n",
              "4997   0.01  -1.99   0.16   2.30  -0.53   1.93   3.61   3.00   4.61    5.73   \n",
              "4998  -0.40   0.41  -0.48   1.04   0.79  -0.66   1.18   0.52   2.20    0.59   \n",
              "4999   0.63  -0.07   2.71   2.55   3.36   3.22   3.69   4.67   3.45    3.87   \n",
              "\n",
              "      ...  feat13  feat14  feat15  feat16  feat17  feat18  feat19  feat20  \\\n",
              "0     ...    2.89    7.75    4.59    3.15    5.12    3.32    1.20    0.24   \n",
              "1     ...    1.24    1.89    1.88   -1.34    0.83    1.41    1.78    0.60   \n",
              "2     ...    2.50    0.12    1.41    2.78    0.64    0.62   -0.01   -0.79   \n",
              "3     ...    2.58    1.40    1.24    1.41    1.07   -1.43    2.84   -1.18   \n",
              "4     ...    4.30    1.84    1.73    0.21   -0.18    0.13   -0.21   -0.80   \n",
              "...   ...     ...     ...     ...     ...     ...     ...     ...     ...   \n",
              "4995  ...    3.46    4.81    5.49    5.19    3.10    3.86    2.96    1.09   \n",
              "4996  ...    1.53    2.52    1.14   -1.56   -1.18   -0.56    0.02   -1.05   \n",
              "4997  ...    3.14    3.04    1.61    0.60   -0.52    0.62    1.00    1.21   \n",
              "4998  ...    3.64    3.62    5.97    2.63    3.83    1.72    2.08    1.31   \n",
              "4999  ...   -0.52    1.90    0.88    3.15    1.27   -0.53    0.09    0.01   \n",
              "\n",
              "      feat21  class  \n",
              "0      -0.56      2  \n",
              "1       2.42      1  \n",
              "2      -0.12      0  \n",
              "3       1.12      1  \n",
              "4      -0.68      1  \n",
              "...      ...    ...  \n",
              "4995   -1.42      0  \n",
              "4996   -0.18      1  \n",
              "4997   -0.27      1  \n",
              "4998    1.37      0  \n",
              "4999    0.60      1  \n",
              "\n",
              "[5000 rows x 22 columns]"
            ],
            "text/html": "<div>\n<style scoped>\n    .dataframe tbody tr th:only-of-type {\n        vertical-align: middle;\n    }\n\n    .dataframe tbody tr th {\n        vertical-align: top;\n    }\n\n    .dataframe thead th {\n        text-align: right;\n    }\n</style>\n<table border=\"1\" class=\"dataframe\">\n  <thead>\n    <tr style=\"text-align: right;\">\n      <th></th>\n      <th>feat1</th>\n      <th>feat2</th>\n      <th>feat3</th>\n      <th>feat4</th>\n      <th>feat5</th>\n      <th>feat6</th>\n      <th>feat7</th>\n      <th>feat8</th>\n      <th>feat9</th>\n      <th>feat10</th>\n      <th>...</th>\n      <th>feat13</th>\n      <th>feat14</th>\n      <th>feat15</th>\n      <th>feat16</th>\n      <th>feat17</th>\n      <th>feat18</th>\n      <th>feat19</th>\n      <th>feat20</th>\n      <th>feat21</th>\n      <th>class</th>\n    </tr>\n  </thead>\n  <tbody>\n    <tr>\n      <th>0</th>\n      <td>-1.23</td>\n      <td>-1.56</td>\n      <td>-1.75</td>\n      <td>-0.28</td>\n      <td>0.60</td>\n      <td>2.22</td>\n      <td>0.85</td>\n      <td>0.21</td>\n      <td>-0.20</td>\n      <td>0.89</td>\n      <td>...</td>\n      <td>2.89</td>\n      <td>7.75</td>\n      <td>4.59</td>\n      <td>3.15</td>\n      <td>5.12</td>\n      <td>3.32</td>\n      <td>1.20</td>\n      <td>0.24</td>\n      <td>-0.56</td>\n      <td>2</td>\n    </tr>\n    <tr>\n      <th>1</th>\n      <td>-0.69</td>\n      <td>2.43</td>\n      <td>0.61</td>\n      <td>2.08</td>\n      <td>2.30</td>\n      <td>3.25</td>\n      <td>5.52</td>\n      <td>4.55</td>\n      <td>2.97</td>\n      <td>2.22</td>\n      <td>...</td>\n      <td>1.24</td>\n      <td>1.89</td>\n      <td>1.88</td>\n      <td>-1.34</td>\n      <td>0.83</td>\n      <td>1.41</td>\n      <td>1.78</td>\n      <td>0.60</td>\n      <td>2.42</td>\n      <td>1</td>\n    </tr>\n    <tr>\n      <th>2</th>\n      <td>-0.12</td>\n      <td>-0.94</td>\n      <td>1.29</td>\n      <td>2.59</td>\n      <td>2.42</td>\n      <td>3.55</td>\n      <td>4.94</td>\n      <td>3.25</td>\n      <td>1.90</td>\n      <td>2.07</td>\n      <td>...</td>\n      <td>2.50</td>\n      <td>0.12</td>\n      <td>1.41</td>\n      <td>2.78</td>\n      <td>0.64</td>\n      <td>0.62</td>\n      <td>-0.01</td>\n      <td>-0.79</td>\n      <td>-0.12</td>\n      <td>0</td>\n    </tr>\n    <tr>\n      <th>3</th>\n      <td>0.86</td>\n      <td>0.29</td>\n      <td>2.19</td>\n      <td>-0.02</td>\n      <td>1.13</td>\n      <td>2.51</td>\n      <td>2.37</td>\n      <td>5.45</td>\n      <td>5.45</td>\n      <td>4.84</td>\n      <td>...</td>\n      <td>2.58</td>\n      <td>1.40</td>\n      <td>1.24</td>\n      <td>1.41</td>\n      <td>1.07</td>\n      <td>-1.43</td>\n      <td>2.84</td>\n      <td>-1.18</td>\n      <td>1.12</td>\n      <td>1</td>\n    </tr>\n    <tr>\n      <th>4</th>\n      <td>1.16</td>\n      <td>0.37</td>\n      <td>0.40</td>\n      <td>-0.59</td>\n      <td>2.66</td>\n      <td>1.00</td>\n      <td>2.69</td>\n      <td>4.06</td>\n      <td>5.34</td>\n      <td>3.53</td>\n      <td>...</td>\n      <td>4.30</td>\n      <td>1.84</td>\n      <td>1.73</td>\n      <td>0.21</td>\n      <td>-0.18</td>\n      <td>0.13</td>\n      <td>-0.21</td>\n      <td>-0.80</td>\n      <td>-0.68</td>\n      <td>1</td>\n    </tr>\n    <tr>\n      <th>...</th>\n      <td>...</td>\n      <td>...</td>\n      <td>...</td>\n      <td>...</td>\n      <td>...</td>\n      <td>...</td>\n      <td>...</td>\n      <td>...</td>\n      <td>...</td>\n      <td>...</td>\n      <td>...</td>\n      <td>...</td>\n      <td>...</td>\n      <td>...</td>\n      <td>...</td>\n      <td>...</td>\n      <td>...</td>\n      <td>...</td>\n      <td>...</td>\n      <td>...</td>\n      <td>...</td>\n    </tr>\n    <tr>\n      <th>4995</th>\n      <td>-0.65</td>\n      <td>0.69</td>\n      <td>2.29</td>\n      <td>-0.16</td>\n      <td>0.51</td>\n      <td>0.26</td>\n      <td>2.34</td>\n      <td>-0.42</td>\n      <td>0.49</td>\n      <td>0.31</td>\n      <td>...</td>\n      <td>3.46</td>\n      <td>4.81</td>\n      <td>5.49</td>\n      <td>5.19</td>\n      <td>3.10</td>\n      <td>3.86</td>\n      <td>2.96</td>\n      <td>1.09</td>\n      <td>-1.42</td>\n      <td>0</td>\n    </tr>\n    <tr>\n      <th>4996</th>\n      <td>-0.02</td>\n      <td>0.67</td>\n      <td>2.34</td>\n      <td>3.18</td>\n      <td>2.16</td>\n      <td>4.77</td>\n      <td>6.70</td>\n      <td>4.54</td>\n      <td>4.92</td>\n      <td>3.39</td>\n      <td>...</td>\n      <td>1.53</td>\n      <td>2.52</td>\n      <td>1.14</td>\n      <td>-1.56</td>\n      <td>-1.18</td>\n      <td>-0.56</td>\n      <td>0.02</td>\n      <td>-1.05</td>\n      <td>-0.18</td>\n      <td>1</td>\n    </tr>\n    <tr>\n      <th>4997</th>\n      <td>0.01</td>\n      <td>-1.99</td>\n      <td>0.16</td>\n      <td>2.30</td>\n      <td>-0.53</td>\n      <td>1.93</td>\n      <td>3.61</td>\n      <td>3.00</td>\n      <td>4.61</td>\n      <td>5.73</td>\n      <td>...</td>\n      <td>3.14</td>\n      <td>3.04</td>\n      <td>1.61</td>\n      <td>0.60</td>\n      <td>-0.52</td>\n      <td>0.62</td>\n      <td>1.00</td>\n      <td>1.21</td>\n      <td>-0.27</td>\n      <td>1</td>\n    </tr>\n    <tr>\n      <th>4998</th>\n      <td>-0.40</td>\n      <td>0.41</td>\n      <td>-0.48</td>\n      <td>1.04</td>\n      <td>0.79</td>\n      <td>-0.66</td>\n      <td>1.18</td>\n      <td>0.52</td>\n      <td>2.20</td>\n      <td>0.59</td>\n      <td>...</td>\n      <td>3.64</td>\n      <td>3.62</td>\n      <td>5.97</td>\n      <td>2.63</td>\n      <td>3.83</td>\n      <td>1.72</td>\n      <td>2.08</td>\n      <td>1.31</td>\n      <td>1.37</td>\n      <td>0</td>\n    </tr>\n    <tr>\n      <th>4999</th>\n      <td>0.63</td>\n      <td>-0.07</td>\n      <td>2.71</td>\n      <td>2.55</td>\n      <td>3.36</td>\n      <td>3.22</td>\n      <td>3.69</td>\n      <td>4.67</td>\n      <td>3.45</td>\n      <td>3.87</td>\n      <td>...</td>\n      <td>-0.52</td>\n      <td>1.90</td>\n      <td>0.88</td>\n      <td>3.15</td>\n      <td>1.27</td>\n      <td>-0.53</td>\n      <td>0.09</td>\n      <td>0.01</td>\n      <td>0.60</td>\n      <td>1</td>\n    </tr>\n  </tbody>\n</table>\n<p>5000 rows × 22 columns</p>\n</div>"
          },
          "metadata": {},
          "execution_count": 59
        }
      ]
    },
    {
      "cell_type": "code",
      "metadata": {
        "colab": {
          "base_uri": "https://localhost:8080/"
        },
        "id": "NqlOlKs0wk3o",
        "outputId": "0d0227a9-fee0-4b80-c125-817aeb614573"
      },
      "source": [
        "# Normalizando os dados\r\n",
        "X = waveform_data[waveform_feats].to_numpy()\r\n",
        "X_scaled = preprocessing.normalize(X, norm='l2')\r\n",
        "X_scaled[:1]"
      ],
      "execution_count": 60,
      "outputs": [
        {
          "output_type": "execute_result",
          "data": {
            "text/plain": [
              "array([[-0.09399613, -0.11921461, -0.13373433, -0.02139749,  0.04585177,\n",
              "         0.16965156,  0.06495668,  0.01604812, -0.01528392,  0.06801346,\n",
              "         0.08253319,  0.3209624 ,  0.2208527 ,  0.59225205,  0.35076605,\n",
              "         0.2407218 ,  0.39126845,  0.25371314,  0.09170354,  0.01834071,\n",
              "        -0.04279499]])"
            ]
          },
          "metadata": {},
          "execution_count": 60
        }
      ]
    },
    {
      "cell_type": "code",
      "metadata": {
        "colab": {
          "base_uri": "https://localhost:8080/",
          "height": 419
        },
        "id": "_I3eaY-UwnXz",
        "outputId": "c04900c0-73c0-4aff-876b-f65e509385a9"
      },
      "source": [
        "# Reduzindo as dimensões\r\n",
        "pca = PCA(n_components=4)\r\n",
        "reduced_X = pca.fit_transform(X_scaled)\r\n",
        "scaler = MinMaxScaler()\r\n",
        "reduced_X = scaler.fit_transform(reduced_X)\r\n",
        "reduced_waveform = pd.DataFrame(reduced_X, columns=feats)\r\n",
        "reduced_waveform[\"class\"] = waveform_data[\"class\"]\r\n",
        "reduced_waveform.to_csv(os.path.join(WAVEFORM_RESULTS, 'processados/reduced.csv'))\r\n",
        "reduced_waveform"
      ],
      "execution_count": 61,
      "outputs": [
        {
          "output_type": "execute_result",
          "data": {
            "text/plain": [
              "         feat1     feat2     feat3     feat4  class\n",
              "0     0.847195  0.684239  0.789360  0.554251      2\n",
              "1     0.238832  0.619837  0.572815  0.393722      1\n",
              "2     0.269685  0.760054  0.518402  0.636537      0\n",
              "3     0.340434  0.281444  0.510362  0.402951      1\n",
              "4     0.381897  0.185665  0.570506  0.346243      1\n",
              "...        ...       ...       ...       ...    ...\n",
              "4995  0.839634  0.772747  0.655460  0.414305      0\n",
              "4996  0.125570  0.521982  0.661578  0.569736      1\n",
              "4997  0.404999  0.210339  0.443713  0.661326      1\n",
              "4998  0.817673  0.622929  0.654686  0.463304      0\n",
              "4999  0.244159  0.588124  0.385940  0.508239      1\n",
              "\n",
              "[5000 rows x 5 columns]"
            ],
            "text/html": "<div>\n<style scoped>\n    .dataframe tbody tr th:only-of-type {\n        vertical-align: middle;\n    }\n\n    .dataframe tbody tr th {\n        vertical-align: top;\n    }\n\n    .dataframe thead th {\n        text-align: right;\n    }\n</style>\n<table border=\"1\" class=\"dataframe\">\n  <thead>\n    <tr style=\"text-align: right;\">\n      <th></th>\n      <th>feat1</th>\n      <th>feat2</th>\n      <th>feat3</th>\n      <th>feat4</th>\n      <th>class</th>\n    </tr>\n  </thead>\n  <tbody>\n    <tr>\n      <th>0</th>\n      <td>0.847195</td>\n      <td>0.684239</td>\n      <td>0.789360</td>\n      <td>0.554251</td>\n      <td>2</td>\n    </tr>\n    <tr>\n      <th>1</th>\n      <td>0.238832</td>\n      <td>0.619837</td>\n      <td>0.572815</td>\n      <td>0.393722</td>\n      <td>1</td>\n    </tr>\n    <tr>\n      <th>2</th>\n      <td>0.269685</td>\n      <td>0.760054</td>\n      <td>0.518402</td>\n      <td>0.636537</td>\n      <td>0</td>\n    </tr>\n    <tr>\n      <th>3</th>\n      <td>0.340434</td>\n      <td>0.281444</td>\n      <td>0.510362</td>\n      <td>0.402951</td>\n      <td>1</td>\n    </tr>\n    <tr>\n      <th>4</th>\n      <td>0.381897</td>\n      <td>0.185665</td>\n      <td>0.570506</td>\n      <td>0.346243</td>\n      <td>1</td>\n    </tr>\n    <tr>\n      <th>...</th>\n      <td>...</td>\n      <td>...</td>\n      <td>...</td>\n      <td>...</td>\n      <td>...</td>\n    </tr>\n    <tr>\n      <th>4995</th>\n      <td>0.839634</td>\n      <td>0.772747</td>\n      <td>0.655460</td>\n      <td>0.414305</td>\n      <td>0</td>\n    </tr>\n    <tr>\n      <th>4996</th>\n      <td>0.125570</td>\n      <td>0.521982</td>\n      <td>0.661578</td>\n      <td>0.569736</td>\n      <td>1</td>\n    </tr>\n    <tr>\n      <th>4997</th>\n      <td>0.404999</td>\n      <td>0.210339</td>\n      <td>0.443713</td>\n      <td>0.661326</td>\n      <td>1</td>\n    </tr>\n    <tr>\n      <th>4998</th>\n      <td>0.817673</td>\n      <td>0.622929</td>\n      <td>0.654686</td>\n      <td>0.463304</td>\n      <td>0</td>\n    </tr>\n    <tr>\n      <th>4999</th>\n      <td>0.244159</td>\n      <td>0.588124</td>\n      <td>0.385940</td>\n      <td>0.508239</td>\n      <td>1</td>\n    </tr>\n  </tbody>\n</table>\n<p>5000 rows × 5 columns</p>\n</div>"
          },
          "metadata": {},
          "execution_count": 61
        }
      ]
    },
    {
      "cell_type": "markdown",
      "metadata": {
        "id": "D1GddNRuhqmK"
      },
      "source": [
        "### Algoritmo de Classificação (k-Vizinhos Mais Próximos)"
      ]
    },
    {
      "cell_type": "markdown",
      "metadata": {
        "id": "GENjSgE8Mbax"
      },
      "source": [
        "Algoritmo de Classificação (k-Vizinhos Mais Próximos)\r\n",
        "O algoritmo do k-Vizinhos Mais Próximos (k-Nearest Neighbors, ou k-NN) consiste em um\r\n",
        "algoritmo supervisionado no qual a classificação de padrões desconhecidos é executada de\r\n",
        "acordo com o processo descrito abaixo.\r\n",
        "1. Dado um padrão de teste xi, representado como um vetor n-dimensional, cuja classe\r\n",
        "deseja-se determinar, faça:\r\n",
        "2. Encontre os k padrões xj do conjunto de treinamento mais próximos a xi, de acordo com\r\n",
        "um critério de distância pré-estabelecido.\r\n",
        "3. Encontre a classe c mais frequente (classe majoritária) entre os k vizinhos mais\r\n",
        "próximos ao padrão xi, atribuindo o rótulo yc desta classe a xi (yi ← yc)."
      ]
    },
    {
      "cell_type": "markdown",
      "metadata": {
        "id": "25SUXYyYzsUo"
      },
      "source": [
        "## EXPERIMENTOS\r\n",
        "\r\n",
        "Os experimentos devem ser executados de acordo com o esquema abaixo para cada\r\n",
        "uma das bases de dados adotadas (tanto as bases de dados brutos, quanto as bases de\r\n",
        "dados pré-processadas):\r\n",
        "\r\n",
        "i. Deve-se executar o 10-fold cross-validation 5 vezes para cada base de\r\n",
        "dados, com cada uma das cinco execuções partindo de uma distribuição\r\n",
        "aleatória dos dados entre cada fold, resultando em um total de 50\r\n",
        "experimentos por base de dados (10 x 5).\r\n",
        "\r\n",
        "ii. Em cada um dos 50 experimentos, os conjuntos de treinamento e teste\r\n",
        "devem ser mantido o mesmo para cada algoritmo a ser testado (mesmo\r\n",
        "ponto de partida para cada modelo), de modo a obter-se uma avaliação justa\r\n",
        "dos resultados.\r\n",
        "\r\n",
        "iii. O algoritmo a ser testado: k-Vizinhos Mais Próximos (K-NN).\r\n",
        "\r\n",
        "iv. Deve-se testar o k-NN com os seguintes valores de tamanho da vizinhança:\r\n",
        "\r\n",
        "k = 3, 5, 7, 9, 15.\r\n",
        "v. A medida de distância adotada tanto no k-NN é a Distância Euclidiana,"
      ]
    },
    {
      "cell_type": "markdown",
      "metadata": {
        "id": "i9h2kiEc7KyL"
      },
      "source": [
        "### ANÁLISE EXPERIMENTAL\r\n",
        "1. A comparação deve ser realizada em relação à Acurácia no Conjunto de Teste.\r\n",
        "2. O tempo médio de execução dos algoritmos deve ser apresentado na tabela de\r\n",
        "resultados.\r\n",
        "3. Deve-se calcular a média, o desvio padrão e a mediana da Acurácia do Conjunto\r\n",
        "de Teste para os 50 testes realizados para cada variação do algoritmo em cada base\r\n",
        "de dados.\r\n",
        "\r\n",
        "4. Uma análise comparativa entre as variações do algoritmo utilizado deve ser\r\n",
        "realizada, de modo a identificar qual valor de k pode ser considerada a mais confiável\r\n",
        "para a resolução dos problemas analisados.\r\n",
        "5. Essa análise deve ser feita de forma empírica (baseado nas medidas obtidas) e através\r\n",
        "do uso de algum teste de hipóteses estatístico (t de Student, Teste de Friedman,\r\n",
        "ANOVA, etc.)."
      ]
    },
    {
      "cell_type": "markdown",
      "metadata": {
        "id": "TFAaW1jh2ugu"
      },
      "source": [
        "##### Baixando API para realização do teste de Hipótese\r\n",
        "\r\n",
        "API realizar primeiro o teste de Friedman para verificar se todos os classificadores tem um desempenho equivalente ou não e em seguida constroi um gráfico mostrando o ranqueamento de cada classificador e quais tem um desempenho similar."
      ]
    },
    {
      "cell_type": "code",
      "metadata": {
        "colab": {
          "base_uri": "https://localhost:8080/"
        },
        "id": "chwz1zcOfcJy",
        "outputId": "11665f3f-01b6-4cf6-f455-3bcc1d398458"
      },
      "source": [
        "!git clone https://github.com/Tiagoblima/cd-diagram.git"
      ],
      "execution_count": 62,
      "outputs": [
        {
          "output_type": "stream",
          "name": "stderr",
          "text": [
            "fatal: destination path 'cd-diagram' already exists and is not an empty directory.\n"
          ]
        }
      ]
    },
    {
      "cell_type": "markdown",
      "metadata": {
        "id": "zK9hp8riUaGF"
      },
      "source": [
        "### Experimento Iris Dataset"
      ]
    },
    {
      "cell_type": "markdown",
      "metadata": {
        "id": "Nn1A_mr3Rcqm"
      },
      "source": [
        "#### Experimento Bases de Dados Brutos\r\n"
      ]
    },
    {
      "cell_type": "code",
      "metadata": {
        "colab": {
          "base_uri": "https://localhost:8080/",
          "height": 359
        },
        "id": "nPv_ycOuDrbp",
        "outputId": "946575ec-209a-481f-aa6c-7299a4f4c6a5"
      },
      "source": [
        "\r\n",
        "iris_data = pd.read_csv('UCI-database/iris.data', names=[\"feat1\", \"feat2\", \"feat3\", \"feat4\", \"class\"], sep=\",\")\r\n",
        "\r\n",
        "X, y = iris_data[feats], iris_data['class']\r\n",
        "\r\n",
        "result_df = run_experiment(X, y)\r\n",
        "\r\n",
        "groups = result_df.groupby(['classifier_name'])\r\n",
        "summary = groups.agg({'accuracy':['mean', 'median', 'std'], 'fit_time':'mean'})\r\n",
        "summary.columns = summary.columns.droplevel(0)\r\n",
        "summary.columns = ['Média', 'Mediana', 'Desvio Padrão', 'Tempo Médio']\r\n",
        "\r\n",
        "open(os.path.join(IRIS_RESULTS, 'brutos/result.txt'), 'w').write(summary.to_latex())\r\n",
        "summary"
      ],
      "execution_count": 63,
      "outputs": [
        {
          "output_type": "execute_result",
          "data": {
            "text/plain": [
              "                  Média  Mediana  Desvio Padrão  Tempo Médio\n",
              "classifier_name                                             \n",
              "DecisionTree     0.9384     0.94       0.030463     0.003001\n",
              "KNN-15           0.9600     0.96       0.036140     0.005280\n",
              "KNN-3            0.9580     0.96       0.022946     0.005856\n",
              "KNN-7            0.9740     0.98       0.023990     0.006943\n",
              "MLPClassifier    0.6060     0.61       0.360051     0.066562\n",
              "MultinomialNB    0.7680     0.79       0.182991     0.003918\n",
              "W-KNN-15         0.9680     0.97       0.030237     0.004361\n",
              "W-KNN-3          0.9580     0.96       0.022946     0.004419\n",
              "W-KNN-7          0.9720     0.98       0.024244     0.003838"
            ],
            "text/html": "<div>\n<style scoped>\n    .dataframe tbody tr th:only-of-type {\n        vertical-align: middle;\n    }\n\n    .dataframe tbody tr th {\n        vertical-align: top;\n    }\n\n    .dataframe thead th {\n        text-align: right;\n    }\n</style>\n<table border=\"1\" class=\"dataframe\">\n  <thead>\n    <tr style=\"text-align: right;\">\n      <th></th>\n      <th>Média</th>\n      <th>Mediana</th>\n      <th>Desvio Padrão</th>\n      <th>Tempo Médio</th>\n    </tr>\n    <tr>\n      <th>classifier_name</th>\n      <th></th>\n      <th></th>\n      <th></th>\n      <th></th>\n    </tr>\n  </thead>\n  <tbody>\n    <tr>\n      <th>DecisionTree</th>\n      <td>0.9384</td>\n      <td>0.94</td>\n      <td>0.030463</td>\n      <td>0.003001</td>\n    </tr>\n    <tr>\n      <th>KNN-15</th>\n      <td>0.9600</td>\n      <td>0.96</td>\n      <td>0.036140</td>\n      <td>0.005280</td>\n    </tr>\n    <tr>\n      <th>KNN-3</th>\n      <td>0.9580</td>\n      <td>0.96</td>\n      <td>0.022946</td>\n      <td>0.005856</td>\n    </tr>\n    <tr>\n      <th>KNN-7</th>\n      <td>0.9740</td>\n      <td>0.98</td>\n      <td>0.023990</td>\n      <td>0.006943</td>\n    </tr>\n    <tr>\n      <th>MLPClassifier</th>\n      <td>0.6060</td>\n      <td>0.61</td>\n      <td>0.360051</td>\n      <td>0.066562</td>\n    </tr>\n    <tr>\n      <th>MultinomialNB</th>\n      <td>0.7680</td>\n      <td>0.79</td>\n      <td>0.182991</td>\n      <td>0.003918</td>\n    </tr>\n    <tr>\n      <th>W-KNN-15</th>\n      <td>0.9680</td>\n      <td>0.97</td>\n      <td>0.030237</td>\n      <td>0.004361</td>\n    </tr>\n    <tr>\n      <th>W-KNN-3</th>\n      <td>0.9580</td>\n      <td>0.96</td>\n      <td>0.022946</td>\n      <td>0.004419</td>\n    </tr>\n    <tr>\n      <th>W-KNN-7</th>\n      <td>0.9720</td>\n      <td>0.98</td>\n      <td>0.024244</td>\n      <td>0.003838</td>\n    </tr>\n  </tbody>\n</table>\n</div>"
          },
          "metadata": {},
          "execution_count": 63
        }
      ]
    },
    {
      "cell_type": "markdown",
      "metadata": {
        "id": "3qxZI3cxUWSI"
      },
      "source": [
        "##### Análise Empírica\r\n",
        "\r\n",
        "O primeiro teste foi feito usando a base de dados bruta. \r\n",
        "Nele os classificadores conseguem obter um bom resultado apesar de não ter sido realizado o pré-processamento.\r\n",
        "Em uma análise empírica fica claro que o classificador usando 5,9 e 15 vizinhos para classificação obtiveram resultados melhores do que os demais. \r\n",
        "Além disso, esse parâmetros permitiram que um tempo razoável fosse gasto na classificação. "
      ]
    },
    {
      "cell_type": "markdown",
      "metadata": {
        "id": "1l4dBMgAlskl"
      },
      "source": [
        "##### Teste Hipótese \r\n",
        "\r\n",
        "Quanto a teste de hipótese, a algoritmo KNN para o valor de k-vizinhos igual a 7 obtém o primeiro lugar no ranking de modelos. \r\n",
        "Os demais algoritmos obtém um resultado similares entre si."
      ]
    },
    {
      "cell_type": "code",
      "metadata": {
        "colab": {
          "base_uri": "https://localhost:8080/",
          "height": 306
        },
        "id": "Ri-RXX1Nf0_3",
        "outputId": "86141b94-a713-4a68-8ad1-5914d77b392a"
      },
      "source": [
        "result_df.to_csv(os.path.join(IRIS_RESULTS,'brutos/result.csv'))\r\n",
        "!python cd-diagram/main.py -i results/iris/brutos/result.csv -o results/iris/brutos/cd-diagram.png\r\n",
        "display(Image('results/iris/brutos/cd-diagram.png'))"
      ],
      "execution_count": 64,
      "outputs": [
        {
          "output_type": "stream",
          "name": "stdout",
          "text": [
            "Input file:  results/iris/brutos/result.csv\n",
            "Output file:  results/iris/brutos/cd-diagram.png\n",
            "['KNN-3' 'W-KNN-3' 'KNN-7' 'W-KNN-7' 'KNN-15' 'W-KNN-15' 'DecisionTree'\n",
            " 'MultinomialNB' 'MLPClassifier']\n",
            "Traceback (most recent call last):\n",
            "  File \"cd-diagram/main.py\", line 414, in <module>\n",
            "    main(sys.argv[1:])\n",
            "  File \"cd-diagram/main.py\", line 410, in main\n",
            "    draw_cd_diagram(df_perf=df_perf, title='Accuracy', labels=True, filename=outputfile)\n",
            "  File \"cd-diagram/main.py\", line 286, in draw_cd_diagram\n",
            "    p_values, average_ranks, _ = wilcoxon_holm(df_perf=df_perf, alpha=alpha)\n",
            "  File \"cd-diagram/main.py\", line 346, in wilcoxon_holm\n",
            "    p_value = wilcoxon(perf_1, perf_2, zero_method='pratt')[1]\n",
            "  File \"C:\\Users\\Acer\\anaconda3\\lib\\site-packages\\scipy\\stats\\morestats.py\", line 2964, in wilcoxon\n",
            "    raise ValueError(\"zero_method 'wilcox' and 'pratt' do not \"\n",
            "ValueError: zero_method 'wilcox' and 'pratt' do not work if x - y is zero for all elements.\n"
          ]
        },
        {
          "output_type": "display_data",
          "data": {
            "image/png": "[encoded data removed]",
            "text/plain": "<IPython.core.display.Image object>"
          },
          "metadata": {}
        }
      ]
    },
    {
      "cell_type": "markdown",
      "metadata": {
        "id": "nUUfXn1jAny-"
      },
      "source": [
        "#### Base Pré-Processada"
      ]
    },
    {
      "cell_type": "code",
      "metadata": {
        "colab": {
          "base_uri": "https://localhost:8080/",
          "height": 359
        },
        "id": "gYXnjrdVEHVh",
        "outputId": "5fbe6ad4-4a55-44c8-8829-6959d85a2702"
      },
      "source": [
        "# Carregando os dados\r\n",
        "iris_normalized = pd.read_csv(os.path.join(IRIS_RESULTS, 'processados/normalized_data.csv'))\r\n",
        "X, y = iris_normalized[feats], iris_normalized['class']\r\n",
        "metrics_iris2 = run_experiment(X, y)\r\n",
        "result_df = pd.DataFrame.from_dict(metrics_iris2)\r\n",
        "\r\n",
        "groups = result_df.groupby(['classifier_name'])\r\n",
        "summary = groups.agg({'accuracy':['mean', 'median', 'std'], 'fit_time':'mean'})\r\n",
        "summary.columns = summary.columns.droplevel(0)\r\n",
        "summary.columns = ['Média', 'Mediana', 'Desvio Padrão', 'Tempo Médio']\r\n",
        "open(os.path.join(IRIS_RESULTS, 'processados/result.txt'), 'w').write(summary.to_latex())\r\n",
        "summary"
      ],
      "execution_count": 65,
      "outputs": [
        {
          "output_type": "execute_result",
          "data": {
            "text/plain": [
              "                  Média  Mediana  Desvio Padrão  Tempo Médio\n",
              "classifier_name                                             \n",
              "DecisionTree     0.9428     0.96       0.031301     0.003076\n",
              "KNN-15           0.9760     0.98       0.023561     0.005079\n",
              "KNN-3            0.9740     0.98       0.015779     0.005542\n",
              "KNN-7            0.9720     0.98       0.020603     0.005896\n",
              "MLPClassifier    0.2600     0.27       0.042378     0.006838\n",
              "MultinomialNB    0.5440     0.59       0.133034     0.003400\n",
              "W-KNN-15         0.9780     0.98       0.022946     0.003907\n",
              "W-KNN-3          0.9720     0.98       0.018516     0.004098\n",
              "W-KNN-7          0.9740     0.98       0.022223     0.004020"
            ],
            "text/html": "<div>\n<style scoped>\n    .dataframe tbody tr th:only-of-type {\n        vertical-align: middle;\n    }\n\n    .dataframe tbody tr th {\n        vertical-align: top;\n    }\n\n    .dataframe thead th {\n        text-align: right;\n    }\n</style>\n<table border=\"1\" class=\"dataframe\">\n  <thead>\n    <tr style=\"text-align: right;\">\n      <th></th>\n      <th>Média</th>\n      <th>Mediana</th>\n      <th>Desvio Padrão</th>\n      <th>Tempo Médio</th>\n    </tr>\n    <tr>\n      <th>classifier_name</th>\n      <th></th>\n      <th></th>\n      <th></th>\n      <th></th>\n    </tr>\n  </thead>\n  <tbody>\n    <tr>\n      <th>DecisionTree</th>\n      <td>0.9428</td>\n      <td>0.96</td>\n      <td>0.031301</td>\n      <td>0.003076</td>\n    </tr>\n    <tr>\n      <th>KNN-15</th>\n      <td>0.9760</td>\n      <td>0.98</td>\n      <td>0.023561</td>\n      <td>0.005079</td>\n    </tr>\n    <tr>\n      <th>KNN-3</th>\n      <td>0.9740</td>\n      <td>0.98</td>\n      <td>0.015779</td>\n      <td>0.005542</td>\n    </tr>\n    <tr>\n      <th>KNN-7</th>\n      <td>0.9720</td>\n      <td>0.98</td>\n      <td>0.020603</td>\n      <td>0.005896</td>\n    </tr>\n    <tr>\n      <th>MLPClassifier</th>\n      <td>0.2600</td>\n      <td>0.27</td>\n      <td>0.042378</td>\n      <td>0.006838</td>\n    </tr>\n    <tr>\n      <th>MultinomialNB</th>\n      <td>0.5440</td>\n      <td>0.59</td>\n      <td>0.133034</td>\n      <td>0.003400</td>\n    </tr>\n    <tr>\n      <th>W-KNN-15</th>\n      <td>0.9780</td>\n      <td>0.98</td>\n      <td>0.022946</td>\n      <td>0.003907</td>\n    </tr>\n    <tr>\n      <th>W-KNN-3</th>\n      <td>0.9720</td>\n      <td>0.98</td>\n      <td>0.018516</td>\n      <td>0.004098</td>\n    </tr>\n    <tr>\n      <th>W-KNN-7</th>\n      <td>0.9740</td>\n      <td>0.98</td>\n      <td>0.022223</td>\n      <td>0.004020</td>\n    </tr>\n  </tbody>\n</table>\n</div>"
          },
          "metadata": {},
          "execution_count": 65
        }
      ]
    },
    {
      "cell_type": "markdown",
      "metadata": {
        "id": "zJVmKFHtBm4O"
      },
      "source": [
        "##### Análise Impirica \r\n",
        "\r\n",
        "Nesse experimento, fica claro uma melhora significativa na média de desempenho do classificador KNN para diferentes valores de k.\r\n",
        "O algoritmo Decision Tree também teve uma melhora significativa."
      ]
    },
    {
      "cell_type": "markdown",
      "metadata": {
        "id": "KDBdVDHrBu8s"
      },
      "source": [
        "##### Análise de Teste de Hipótese\r\n",
        "\r\n",
        "Nesse caso, os classificadores obtiveram um resultado similar de acordo com o teste de hipótese."
      ]
    },
    {
      "cell_type": "code",
      "metadata": {
        "colab": {
          "base_uri": "https://localhost:8080/",
          "height": 1000
        },
        "id": "Qfk5yUcALW3G",
        "outputId": "cbd4c7d4-4038-4f81-f5d9-737f8acaa174"
      },
      "source": [
        "result_df.to_csv(os.path.join(IRIS_RESULTS, 'processados/result.csv'))\r\n",
        "!python cd-diagram/main.py -i results/iris/processados/result.csv -o results/iris/processados/cd-diagram.png\r\n",
        "display(Image('results/iris/processados/cd-diagram.png'))"
      ],
      "execution_count": 66,
      "outputs": [
        {
          "output_type": "stream",
          "name": "stdout",
          "text": [
            "Input file:  results/iris/processados/result.csv\nOutput file:  results/iris/processados/cd-diagram.png\n['KNN-3' 'W-KNN-3' 'KNN-7' 'W-KNN-7' 'KNN-15' 'W-KNN-15' 'DecisionTree'\n 'MultinomialNB' 'MLPClassifier']\nDecisionTree     3.0\nKNN-15           0.0\nKNN-3            0.0\nKNN-7            0.0\nMLPClassifier    0.0\nMultinomialNB    0.0\nW-KNN-15         0.0\nW-KNN-3          0.0\nW-KNN-7          0.0\ndtype: float64\nMLPClassifier    9.00\nMultinomialNB    8.00\nDecisionTree     5.77\nKNN-7            4.14\nW-KNN-7          3.84\nW-KNN-3          3.72\nKNN-15           3.64\nKNN-3            3.60\nW-KNN-15         3.29\ndtype: float64\n('KNN-3', 'MLPClassifier', 5.25801184027132e-10, True)\n('KNN-15', 'MLPClassifier', 6.081662569335683e-10, True)\n('MLPClassifier', 'W-KNN-15', 6.081662569335683e-10, True)\n('MLPClassifier', 'W-KNN-3', 6.081662569335683e-10, True)\n('MLPClassifier', 'W-KNN-7', 6.259681887142859e-10, True)\n('KNN-7', 'MLPClassifier', 6.442372696765328e-10, True)\n('DecisionTree', 'MLPClassifier', 6.746207344800841e-10, True)\n('MultinomialNB', 'W-KNN-3', 6.822201844716231e-10, True)\n('KNN-15', 'MultinomialNB', 7.019562041074612e-10, True)\n('KNN-3', 'MultinomialNB', 7.019562041074612e-10, True)\n('MultinomialNB', 'W-KNN-15', 7.019562041074612e-10, True)\n('MultinomialNB', 'W-KNN-7', 7.019562041074612e-10, True)\n('KNN-7', 'MultinomialNB', 7.222037513283772e-10, True)\n('MLPClassifier', 'MultinomialNB', 7.222037513283772e-10, True)\n('DecisionTree', 'MultinomialNB', 7.359364167828124e-10, True)\n('DecisionTree', 'KNN-3', 5.6098284985715516e-08, True)\n('DecisionTree', 'W-KNN-3', 1.5976026264592956e-07, True)\n('DecisionTree', 'W-KNN-15', 6.815531324803994e-07, True)\n('DecisionTree', 'KNN-7', 4.615539095483688e-06, True)\n('DecisionTree', 'W-KNN-7', 4.716605208833596e-06, True)\n('DecisionTree', 'KNN-15', 9.182807971934014e-06, True)\n('KNN-7', 'W-KNN-15', 0.00010751117672950024, True)\n('W-KNN-15', 'W-KNN-7', 0.001565402258002548, True)\n('KNN-15', 'KNN-7', 0.025347318677468252, False)\n('KNN-15', 'W-KNN-15', 0.025347318677468252, False)\n('KNN-3', 'W-KNN-3', 0.025347318677468252, False)\n('KNN-7', 'W-KNN-7', 0.025347318677468252, False)\n('KNN-15', 'W-KNN-7', 0.19670560245894686, False)\n('KNN-3', 'W-KNN-15', 0.21043750534141803, False)\n('W-KNN-15', 'W-KNN-3', 0.21043750534141803, False)\n('KNN-3', 'KNN-7', 0.31731050786291415, False)\n('KNN-7', 'W-KNN-3', 0.548445751664416, False)\n('KNN-15', 'KNN-3', 0.7031847246675345, False)\n('KNN-15', 'W-KNN-3', 0.7031847246675345, False)\n('W-KNN-3', 'W-KNN-7', 0.7031847246675345, False)\n('KNN-3', 'W-KNN-7', 1.0, False)\nIndex(['MLPClassifier', 'MultinomialNB', 'DecisionTree', 'KNN-7', 'W-KNN-7',\n       'W-KNN-3', 'KNN-15', 'KNN-3', 'W-KNN-15'],\n      dtype='object')\n[5, 6, 7, 8]\n[5, 6, 7, 3, 4]\n"
          ]
        },
        {
          "output_type": "display_data",
          "data": {
            "image/png": "[encoded data removed]",
            "text/plain": "<IPython.core.display.Image object>"
          },
          "metadata": {}
        }
      ]
    },
    {
      "cell_type": "markdown",
      "metadata": {
        "id": "nJ-hiW5PUmIn"
      },
      "source": [
        "### Statlog (Image Segmentation)"
      ]
    },
    {
      "cell_type": "markdown",
      "metadata": {
        "id": "c4bNAi9yDYzU"
      },
      "source": [
        "#### Base de dados Brutos"
      ]
    },
    {
      "cell_type": "markdown",
      "metadata": {
        "id": "7SQsz2JzUMZ9"
      },
      "source": [
        "##### Análise Empírica\r\n",
        "\r\n",
        "Em relação ao experimento usando a base de dados bruta, uma análise preliminar indica que o classificador com k igual a 3 tem um desempenho superior ao classificador usando outros valores para k-vizinhos, bem como supera de longe o algoritmo Decision Tree. \r\n",
        "Além de terem um uma acurácia média maior, ele apresenta resultados mais estáveis, tendo um menor desvio padrão. Além disso, eles gastam menos tempo. Portanto, com k igual 3 o classificador obtém um resultado superior os demais modelos.\r\n"
      ]
    },
    {
      "cell_type": "code",
      "metadata": {
        "id": "uI6PXA57Tx6O",
        "colab": {
          "base_uri": "https://localhost:8080/",
          "height": 1000
        },
        "outputId": "4c5c185a-5fb6-4f84-f48e-c00e5d76cf6f"
      },
      "source": [
        "\r\n",
        "header = [\"feat\"+str(1+n) for n in range(19)]\r\n",
        "header.append('class')\r\n",
        "segment_data = pd.read_csv('UCI-database/segment.dat', names=header,sep=\" \")\r\n",
        "\r\n",
        "X, y = segment_data[header[:-1]], segment_data['class']\r\n",
        "\r\n",
        "result_df = run_experiment(X, y)\r\n",
        "\r\n",
        "groups = result_df.groupby(['classifier_name'])\r\n",
        "summary = groups.agg({'accuracy':['mean', 'median', 'std'], 'fit_time':'mean'})\r\n",
        "summary.columns = summary.columns.droplevel(0)\r\n",
        "summary.columns = ['Média', 'Mediana', 'Desvio Padrão', 'Tempo Médio']\r\n",
        "open(os.path.join(SEGMENT_RESULTS, 'brutos/result.txt'), 'w').write(summary.to_latex())\r\n",
        "summary"
      ],
      "execution_count": 67,
      "outputs": [
        {
          "output_type": "execute_result",
          "data": {
            "text/plain": [
              "                    Média   Mediana  Desvio Padrão  Tempo Médio\n",
              "classifier_name                                                \n",
              "DecisionTree     0.953028  0.951507       0.008446     0.017340\n",
              "KNN-15           0.894758  0.897117       0.011235     0.050240\n",
              "KNN-3            0.943644  0.943644       0.006067     0.051363\n",
              "KNN-7            0.920970  0.920708       0.010084     0.049420\n",
              "MLPClassifier    0.938794  0.938401       0.011297     8.797179\n",
              "MultinomialNB    0.000000  0.000000       0.000000     0.003520\n",
              "W-KNN-15         0.932503  0.930537       0.009441     0.037620\n",
              "W-KNN-3          0.953080  0.952163       0.006371     0.025821\n",
              "W-KNN-7          0.945085  0.947575       0.008650     0.028159"
            ],
            "text/html": "<div>\n<style scoped>\n    .dataframe tbody tr th:only-of-type {\n        vertical-align: middle;\n    }\n\n    .dataframe tbody tr th {\n        vertical-align: top;\n    }\n\n    .dataframe thead th {\n        text-align: right;\n    }\n</style>\n<table border=\"1\" class=\"dataframe\">\n  <thead>\n    <tr style=\"text-align: right;\">\n      <th></th>\n      <th>Média</th>\n      <th>Mediana</th>\n      <th>Desvio Padrão</th>\n      <th>Tempo Médio</th>\n    </tr>\n    <tr>\n      <th>classifier_name</th>\n      <th></th>\n      <th></th>\n      <th></th>\n      <th></th>\n    </tr>\n  </thead>\n  <tbody>\n    <tr>\n      <th>DecisionTree</th>\n      <td>0.953028</td>\n      <td>0.951507</td>\n      <td>0.008446</td>\n      <td>0.017340</td>\n    </tr>\n    <tr>\n      <th>KNN-15</th>\n      <td>0.894758</td>\n      <td>0.897117</td>\n      <td>0.011235</td>\n      <td>0.050240</td>\n    </tr>\n    <tr>\n      <th>KNN-3</th>\n      <td>0.943644</td>\n      <td>0.943644</td>\n      <td>0.006067</td>\n      <td>0.051363</td>\n    </tr>\n    <tr>\n      <th>KNN-7</th>\n      <td>0.920970</td>\n      <td>0.920708</td>\n      <td>0.010084</td>\n      <td>0.049420</td>\n    </tr>\n    <tr>\n      <th>MLPClassifier</th>\n      <td>0.938794</td>\n      <td>0.938401</td>\n      <td>0.011297</td>\n      <td>8.797179</td>\n    </tr>\n    <tr>\n      <th>MultinomialNB</th>\n      <td>0.000000</td>\n      <td>0.000000</td>\n      <td>0.000000</td>\n      <td>0.003520</td>\n    </tr>\n    <tr>\n      <th>W-KNN-15</th>\n      <td>0.932503</td>\n      <td>0.930537</td>\n      <td>0.009441</td>\n      <td>0.037620</td>\n    </tr>\n    <tr>\n      <th>W-KNN-3</th>\n      <td>0.953080</td>\n      <td>0.952163</td>\n      <td>0.006371</td>\n      <td>0.025821</td>\n    </tr>\n    <tr>\n      <th>W-KNN-7</th>\n      <td>0.945085</td>\n      <td>0.947575</td>\n      <td>0.008650</td>\n      <td>0.028159</td>\n    </tr>\n  </tbody>\n</table>\n</div>"
          },
          "metadata": {},
          "execution_count": 67
        }
      ]
    },
    {
      "cell_type": "markdown",
      "metadata": {
        "id": "RP6Z2owOlYV0"
      },
      "source": [
        "##### Teste Hipótese\r\n",
        "\r\n",
        "A análise do teste hipótese indica que o modelo Decision Tree apresentar um desempenho superior enquanto o Kneighbors com k igual 3 é o segundo do rank."
      ]
    },
    {
      "cell_type": "code",
      "metadata": {
        "id": "9eXX6rEM3f5V",
        "colab": {
          "base_uri": "https://localhost:8080/",
          "height": 1000
        },
        "outputId": "052c9eae-5691-4d95-ac2b-a18848a9409d"
      },
      "source": [
        "result_df.to_csv(os.path.join(SEGMENT_RESULTS, 'brutos/result.csv'))\n",
        "!python cd-diagram/main.py -i results/segment/brutos/result.csv -o results/segment/brutos/cd-diagram.png\n",
        "display(Image('results/segment/brutos/cd-diagram.png'))"
      ],
      "execution_count": 71,
      "outputs": [
        {
          "output_type": "stream",
          "name": "stdout",
          "text": [
            "Input file:  results/segment/brutos/result.csv\nOutput file:  results/segment/brutos/cd-diagram.png\n['KNN-3' 'W-KNN-3' 'KNN-7' 'W-KNN-7' 'KNN-15' 'W-KNN-15' 'DecisionTree'\n 'MultinomialNB' 'MLPClassifier']\nDecisionTree     20.0\nKNN-15            0.0\nKNN-3             0.0\nKNN-7             0.0\nMLPClassifier     5.0\nMultinomialNB     0.0\nW-KNN-15          0.0\nW-KNN-3          21.0\nW-KNN-7           0.0\ndtype: float64\nMultinomialNB    9.00\nKNN-15           7.90\nKNN-7            7.00\nW-KNN-15         5.40\nMLPClassifier    4.63\nKNN-3            4.06\nW-KNN-7          3.64\nDecisionTree     1.81\nW-KNN-3          1.56\ndtype: float64\n('KNN-3', 'KNN-7', 6.442372696765328e-10, True)\n('MultinomialNB', 'W-KNN-3', 6.442372696765328e-10, True)\n('KNN-15', 'W-KNN-7', 6.822201844716231e-10, True)\n('KNN-3', 'MultinomialNB', 6.822201844716231e-10, True)\n('KNN-7', 'W-KNN-3', 6.822201844716231e-10, True)\n('MultinomialNB', 'W-KNN-7', 6.822201844716231e-10, True)\n('KNN-15', 'MLPClassifier', 7.019562041074612e-10, True)\n('KNN-15', 'W-KNN-3', 7.019562041074612e-10, True)\n('KNN-7', 'MultinomialNB', 7.019562041074612e-10, True)\n('KNN-7', 'W-KNN-7', 7.019562041074612e-10, True)\n('MultinomialNB', 'W-KNN-15', 7.019562041074612e-10, True)\n('KNN-15', 'KNN-3', 7.222037513283772e-10, True)\n('KNN-15', 'MultinomialNB', 7.222037513283772e-10, True)\n('KNN-15', 'W-KNN-15', 7.222037513283772e-10, True)\n('KNN-3', 'W-KNN-3', 7.222037513283772e-10, True)\n('KNN-7', 'W-KNN-15', 7.222037513283772e-10, True)\n('MLPClassifier', 'MultinomialNB', 7.222037513283772e-10, True)\n('W-KNN-15', 'W-KNN-3', 7.222037513283772e-10, True)\n('W-KNN-3', 'W-KNN-7', 7.222037513283772e-10, True)\n('DecisionTree', 'MultinomialNB', 7.339365758265277e-10, True)\n('DecisionTree', 'KNN-7', 7.468542044403326e-10, True)\n('DecisionTree', 'KNN-15', 7.516019188167875e-10, True)\n('DecisionTree', 'W-KNN-15', 7.519420763211106e-10, True)\n('KNN-15', 'KNN-7', 1.7858337573242792e-09, True)\n('W-KNN-15', 'W-KNN-7', 1.7858337573242792e-09, True)\n('DecisionTree', 'KNN-3', 2.2157213184620656e-09, True)\n('KNN-3', 'W-KNN-15', 7.71524763752289e-09, True)\n('KNN-7', 'MLPClassifier', 7.71524763752289e-09, True)\n('DecisionTree', 'W-KNN-7', 1.8424260876088262e-08, True)\n('MLPClassifier', 'W-KNN-3', 3.1488799247730625e-08, True)\n('DecisionTree', 'MLPClassifier', 2.0571339526051958e-07, True)\n('MLPClassifier', 'W-KNN-15', 0.0006574099837676133, True)\n('MLPClassifier', 'W-KNN-7', 0.00467018967120207, True)\n('KNN-3', 'W-KNN-7', 0.008177552650910705, True)\n('KNN-3', 'MLPClassifier', 0.011933579633734216, True)\n('DecisionTree', 'W-KNN-3', 0.8467603406825381, False)\nIndex(['MultinomialNB', 'KNN-15', 'KNN-7', 'W-KNN-15', 'MLPClassifier',\n       'KNN-3', 'W-KNN-7', 'DecisionTree', 'W-KNN-3'],\n      dtype='object')\n[7, 8]\n"
          ]
        },
        {
          "output_type": "display_data",
          "data": {
            "image/png": "[encoded data removed]",
            "text/plain": "<IPython.core.display.Image object>"
          },
          "metadata": {}
        }
      ]
    },
    {
      "cell_type": "markdown",
      "metadata": {
        "id": "RS-A3VqRmd_a"
      },
      "source": [
        "#### Bases de Dados Preprocessada\r\n"
      ]
    },
    {
      "cell_type": "markdown",
      "metadata": {
        "id": "Li0e34qWDHk0"
      },
      "source": [
        "##### Análise Empírica\r\n",
        "\r\n",
        "Em relação ao experimento usando a base de dados pré-processada, uma análise preliminar indica que o classificador com k=3 e 5 tem um desempenho superior ao classificador usando 15 e 9 vizinhos e ainda mais superior ao modelo Decision Tree. \r\n",
        "Além de terem um uma acurácia média maior, eles apresentam resultados mais estáveis, tendo um menor desvio padrão. \r\n",
        "Além disso, eles gastam menos tempo. Portanto, com k=3 ou 5 o classificador obtém um resultado superior a quando k=15 e similar a quando k=5 e 7.\r\n",
        "Todos os algoritmos apresentaram um resultado inferior ao teste anterior.\r\n"
      ]
    },
    {
      "cell_type": "code",
      "metadata": {
        "colab": {
          "base_uri": "https://localhost:8080/",
          "height": 359
        },
        "id": "Usm0Rl_sLlIb",
        "outputId": "f5f086ea-02c6-4d25-fad3-38e69e7ab6ca"
      },
      "source": [
        "# Carregando os dados\r\n",
        "reduced_segment = pd.read_csv(os.path.join(SEGMENT_RESULTS,'processados/reduced.csv'))\r\n",
        "X, y = reduced_segment[feats], reduced_segment['class']\r\n",
        "reduced_segment2 = run_experiment(X, y)\r\n",
        "\r\n",
        "result_df = pd.DataFrame.from_dict(reduced_segment2)\r\n",
        "\r\n",
        "groups = result_df.groupby(['classifier_name'])\r\n",
        "summary = groups.agg({'accuracy':['mean', 'median', 'std'], 'fit_time':'mean'})\r\n",
        "summary.columns = summary.columns.droplevel(0)\r\n",
        "summary.columns = ['Média', 'Mediana', 'Desvio Padrão', 'Tempo Médio']\r\n",
        "open(os.path.join(SEGMENT_RESULTS, 'processados/result.txt'), 'w').write(summary.to_latex())\r\n",
        "summary"
      ],
      "execution_count": 276,
      "outputs": [
        {
          "output_type": "execute_result",
          "data": {
            "text/html": [
              "<div>\n",
              "<style scoped>\n",
              "    .dataframe tbody tr th:only-of-type {\n",
              "        vertical-align: middle;\n",
              "    }\n",
              "\n",
              "    .dataframe tbody tr th {\n",
              "        vertical-align: top;\n",
              "    }\n",
              "\n",
              "    .dataframe thead th {\n",
              "        text-align: right;\n",
              "    }\n",
              "</style>\n",
              "<table border=\"1\" class=\"dataframe\">\n",
              "  <thead>\n",
              "    <tr style=\"text-align: right;\">\n",
              "      <th></th>\n",
              "      <th>Média</th>\n",
              "      <th>Mediana</th>\n",
              "      <th>Desvio Padrão</th>\n",
              "      <th>Tempo Médio</th>\n",
              "    </tr>\n",
              "    <tr>\n",
              "      <th>classifier_name</th>\n",
              "      <th></th>\n",
              "      <th></th>\n",
              "      <th></th>\n",
              "      <th></th>\n",
              "    </tr>\n",
              "  </thead>\n",
              "  <tbody>\n",
              "    <tr>\n",
              "      <th>DecisionTree</th>\n",
              "      <td>0.816750</td>\n",
              "      <td>0.816514</td>\n",
              "      <td>0.008745</td>\n",
              "      <td>0.008394</td>\n",
              "    </tr>\n",
              "    <tr>\n",
              "      <th>KNN-15</th>\n",
              "      <td>0.784404</td>\n",
              "      <td>0.789646</td>\n",
              "      <td>0.020699</td>\n",
              "      <td>0.028444</td>\n",
              "    </tr>\n",
              "    <tr>\n",
              "      <th>KNN-3</th>\n",
              "      <td>0.843644</td>\n",
              "      <td>0.847969</td>\n",
              "      <td>0.014743</td>\n",
              "      <td>0.025940</td>\n",
              "    </tr>\n",
              "    <tr>\n",
              "      <th>KNN-7</th>\n",
              "      <td>0.819528</td>\n",
              "      <td>0.823067</td>\n",
              "      <td>0.016430</td>\n",
              "      <td>0.026868</td>\n",
              "    </tr>\n",
              "    <tr>\n",
              "      <th>MLPClassifier</th>\n",
              "      <td>0.627654</td>\n",
              "      <td>0.648100</td>\n",
              "      <td>0.129098</td>\n",
              "      <td>2.307945</td>\n",
              "    </tr>\n",
              "    <tr>\n",
              "      <th>MultinomialNB</th>\n",
              "      <td>0.415334</td>\n",
              "      <td>0.422674</td>\n",
              "      <td>0.040080</td>\n",
              "      <td>0.003060</td>\n",
              "    </tr>\n",
              "    <tr>\n",
              "      <th>W-KNN-15</th>\n",
              "      <td>0.840236</td>\n",
              "      <td>0.834207</td>\n",
              "      <td>0.017317</td>\n",
              "      <td>0.009246</td>\n",
              "    </tr>\n",
              "    <tr>\n",
              "      <th>W-KNN-3</th>\n",
              "      <td>0.860026</td>\n",
              "      <td>0.865007</td>\n",
              "      <td>0.014403</td>\n",
              "      <td>0.006246</td>\n",
              "    </tr>\n",
              "    <tr>\n",
              "      <th>W-KNN-7</th>\n",
              "      <td>0.855177</td>\n",
              "      <td>0.852556</td>\n",
              "      <td>0.014722</td>\n",
              "      <td>0.007278</td>\n",
              "    </tr>\n",
              "  </tbody>\n",
              "</table>\n",
              "</div>"
            ],
            "text/plain": [
              "                    Média   Mediana  Desvio Padrão  Tempo Médio\n",
              "classifier_name                                                \n",
              "DecisionTree     0.816750  0.816514       0.008745     0.008394\n",
              "KNN-15           0.784404  0.789646       0.020699     0.028444\n",
              "KNN-3            0.843644  0.847969       0.014743     0.025940\n",
              "KNN-7            0.819528  0.823067       0.016430     0.026868\n",
              "MLPClassifier    0.627654  0.648100       0.129098     2.307945\n",
              "MultinomialNB    0.415334  0.422674       0.040080     0.003060\n",
              "W-KNN-15         0.840236  0.834207       0.017317     0.009246\n",
              "W-KNN-3          0.860026  0.865007       0.014403     0.006246\n",
              "W-KNN-7          0.855177  0.852556       0.014722     0.007278"
            ]
          },
          "metadata": {
            "tags": []
          },
          "execution_count": 276
        }
      ]
    },
    {
      "cell_type": "markdown",
      "metadata": {
        "id": "W6ndpVn5DJzf"
      },
      "source": [
        "##### Teste Hipótese\r\n",
        "\r\n",
        "A análise do teste hipótese a seguir indicar que o KNeighbohrs apresentar um desempenho superior com k=3 sendo o 1 do rank. "
      ]
    },
    {
      "cell_type": "code",
      "metadata": {
        "colab": {
          "base_uri": "https://localhost:8080/",
          "height": 1000
        },
        "id": "Y-rXXWIuMhjD",
        "outputId": "21cf10b0-0616-467c-97ab-5d507fb0f167"
      },
      "source": [
        "result_df.to_csv(os.path.join(SEGMENT_RESULTS, 'processados/result.csv'))\r\n",
        "!python cd-diagram/main.py -i results/segment/processados/result.csv -o results/segment/processados/cd-diagram.png\r\n",
        "display(Image('results/segment/processados/cd-diagram.png'))"
      ],
      "execution_count": 277,
      "outputs": [
        {
          "output_type": "stream",
          "text": [
            "Input file:  results/segment/processados/result.csv\n",
            "Output file:  results/segment/processados/cd-diagram.png\n",
            "['KNN-3' 'W-KNN-3' 'KNN-7' 'W-KNN-7' 'KNN-15' 'W-KNN-15' 'DecisionTree'\n",
            " 'MultinomialNB' 'MLPClassifier']\n",
            "DecisionTree      0.0\n",
            "KNN-15            0.0\n",
            "KNN-3             0.0\n",
            "KNN-7             0.0\n",
            "MLPClassifier     0.0\n",
            "MultinomialNB     0.0\n",
            "W-KNN-15          0.0\n",
            "W-KNN-3          30.0\n",
            "W-KNN-7          20.0\n",
            "dtype: float64\n",
            "MultinomialNB    8.80\n",
            "MLPClassifier    7.80\n",
            "KNN-15           7.10\n",
            "DecisionTree     5.59\n",
            "KNN-7            5.43\n",
            "W-KNN-15         3.62\n",
            "KNN-3            3.41\n",
            "W-KNN-7          1.85\n",
            "W-KNN-3          1.40\n",
            "dtype: float64\n",
            "('KNN-15', 'KNN-3', 7.019562041074612e-10, True)\n",
            "('KNN-15', 'W-KNN-15', 7.019562041074612e-10, True)\n",
            "('KNN-15', 'W-KNN-7', 7.019562041074612e-10, True)\n",
            "('KNN-3', 'MultinomialNB', 7.019562041074612e-10, True)\n",
            "('KNN-3', 'W-KNN-3', 7.019562041074612e-10, True)\n",
            "('KNN-7', 'W-KNN-15', 7.019562041074612e-10, True)\n",
            "('KNN-7', 'W-KNN-7', 7.019562041074612e-10, True)\n",
            "('W-KNN-15', 'W-KNN-7', 7.019562041074612e-10, True)\n",
            "('KNN-15', 'KNN-7', 7.222037513283772e-10, True)\n",
            "('KNN-15', 'MultinomialNB', 7.222037513283772e-10, True)\n",
            "('KNN-15', 'W-KNN-3', 7.222037513283772e-10, True)\n",
            "('KNN-3', 'MLPClassifier', 7.222037513283772e-10, True)\n",
            "('KNN-7', 'MultinomialNB', 7.222037513283772e-10, True)\n",
            "('KNN-7', 'W-KNN-3', 7.222037513283772e-10, True)\n",
            "('MLPClassifier', 'W-KNN-3', 7.222037513283772e-10, True)\n",
            "('MLPClassifier', 'W-KNN-7', 7.222037513283772e-10, True)\n",
            "('MultinomialNB', 'W-KNN-15', 7.222037513283772e-10, True)\n",
            "('MultinomialNB', 'W-KNN-3', 7.222037513283772e-10, True)\n",
            "('MultinomialNB', 'W-KNN-7', 7.222037513283772e-10, True)\n",
            "('W-KNN-15', 'W-KNN-3', 7.222037513283772e-10, True)\n",
            "('DecisionTree', 'W-KNN-7', 7.499032036153974e-10, True)\n",
            "('DecisionTree', 'W-KNN-3', 7.514318919004358e-10, True)\n",
            "('DecisionTree', 'KNN-15', 7.534744968972034e-10, True)\n",
            "('DecisionTree', 'MultinomialNB', 7.544976683806673e-10, True)\n",
            "('DecisionTree', 'W-KNN-15', 7.976943207651816e-10, True)\n",
            "('DecisionTree', 'KNN-3', 1.298230520117886e-09, True)\n",
            "('KNN-3', 'KNN-7', 1.7380097838956726e-09, True)\n",
            "('MLPClassifier', 'W-KNN-15', 1.7380097838956726e-09, True)\n",
            "('KNN-7', 'MLPClassifier', 1.7858337573242792e-09, True)\n",
            "('DecisionTree', 'MLPClassifier', 1.862789821138258e-09, True)\n",
            "('MLPClassifier', 'MultinomialNB', 1.8063207623335018e-08, True)\n",
            "('KNN-15', 'MLPClassifier', 3.1488799247730625e-08, True)\n",
            "('KNN-3', 'W-KNN-7', 4.229035719256588e-06, True)\n",
            "('W-KNN-3', 'W-KNN-7', 0.027786352153008523, False)\n",
            "('DecisionTree', 'KNN-7', 0.17038331380650562, False)\n",
            "('KNN-3', 'W-KNN-15', 0.22634229126208472, False)\n",
            "Index(['MultinomialNB', 'MLPClassifier', 'KNN-15', 'DecisionTree', 'KNN-7',\n",
            "       'W-KNN-15', 'KNN-3', 'W-KNN-7', 'W-KNN-3'],\n",
            "      dtype='object')\n",
            "[3, 4]\n",
            "[5, 6]\n",
            "[7, 8]\n",
            "findfont: Font family ['sans-serif'] not found. Falling back to DejaVu Sans.\n",
            "findfont: Font family ['sans-serif'] not found. Falling back to DejaVu Sans.\n",
            "findfont: Font family ['sans-serif'] not found. Falling back to DejaVu Sans.\n"
          ],
          "name": "stdout"
        },
        {
          "output_type": "display_data",
          "data": {
            "image/png": "[encoded data removed]",
            "text/plain": [
              "<IPython.core.display.Image object>"
            ]
          },
          "metadata": {
            "tags": []
          }
        }
      ]
    },
    {
      "cell_type": "markdown",
      "metadata": {
        "id": "8AfZTlb4mUQT"
      },
      "source": [
        "### Experimento Waveform"
      ]
    },
    {
      "cell_type": "markdown",
      "metadata": {
        "id": "Bq5mqlawDfWE"
      },
      "source": [
        "#### Base de Dados Brutos"
      ]
    },
    {
      "cell_type": "markdown",
      "metadata": {
        "id": "y2_3OK6xSNyr"
      },
      "source": [
        "##### Análise Empírica\r\n",
        "\r\n",
        "Em uma análise empírica usando a base de dados brutos, é possível observar que nenhum dos classificadores apresentou um bom desempenho.\r\n",
        "Os melhores resultados são obtidos com k igual a 9 e 15. \r\n",
        "O teste de hipótese confirma a análise inicial em que o KNN tem um resultado melhor com k igual a 15.\r\n",
        "\r\n"
      ]
    },
    {
      "cell_type": "code",
      "metadata": {
        "colab": {
          "base_uri": "https://localhost:8080/",
          "height": 1000
        },
        "id": "K4ZXVLXZTyR8",
        "outputId": "bf1e7a10-1aad-4a57-88f5-75a9efab82e1"
      },
      "source": [
        "# Carregando Base Waveform\r\n",
        "\r\n",
        "header = [\"feat\"+str(1+n) for n in range(21)]\r\n",
        "header.append('class')\r\n",
        "waveform_data = pd.read_csv('UCI-database/waveform.data', names=header, sep=\",\")\r\n",
        "X, y = waveform_data[feats], waveform_data['class']\r\n",
        "\r\n",
        "result_df = run_experiment(X, y)\r\n",
        "\r\n",
        "groups = result_df.groupby(['classifier_name'])\r\n",
        "summary = groups.agg({'accuracy':['mean', 'median', 'std'], 'fit_time':'mean'})\r\n",
        "summary.columns = summary.columns.droplevel(0)\r\n",
        "summary.columns = ['Média', 'Mediana', 'Desvio Padrão', 'Tempo Médio']\r\n",
        "\r\n",
        "open(os.path.join(WAVEFORM_RESULTS, 'brutos/result.txt'), 'w').write(summary.to_latex())\r\n",
        "summary\r\n"
      ],
      "execution_count": 278,
      "outputs": [
        {
          "output_type": "stream",
          "text": [
            "/usr/local/lib/python3.6/dist-packages/sklearn/model_selection/_validation.py:536: FitFailedWarning: Estimator fit failed. The score on this train-test partition for these parameters will be set to nan. Details: \n",
            "ValueError: Negative values in data passed to MultinomialNB (input X)\n",
            "\n",
            "  FitFailedWarning)\n",
            "/usr/local/lib/python3.6/dist-packages/sklearn/model_selection/_validation.py:536: FitFailedWarning: Estimator fit failed. The score on this train-test partition for these parameters will be set to nan. Details: \n",
            "ValueError: Negative values in data passed to MultinomialNB (input X)\n",
            "\n",
            "  FitFailedWarning)\n",
            "/usr/local/lib/python3.6/dist-packages/sklearn/model_selection/_validation.py:536: FitFailedWarning: Estimator fit failed. The score on this train-test partition for these parameters will be set to nan. Details: \n",
            "ValueError: Negative values in data passed to MultinomialNB (input X)\n",
            "\n",
            "  FitFailedWarning)\n",
            "/usr/local/lib/python3.6/dist-packages/sklearn/model_selection/_validation.py:536: FitFailedWarning: Estimator fit failed. The score on this train-test partition for these parameters will be set to nan. Details: \n",
            "ValueError: Negative values in data passed to MultinomialNB (input X)\n",
            "\n",
            "  FitFailedWarning)\n",
            "/usr/local/lib/python3.6/dist-packages/sklearn/model_selection/_validation.py:536: FitFailedWarning: Estimator fit failed. The score on this train-test partition for these parameters will be set to nan. Details: \n",
            "ValueError: Negative values in data passed to MultinomialNB (input X)\n",
            "\n",
            "  FitFailedWarning)\n",
            "/usr/local/lib/python3.6/dist-packages/sklearn/model_selection/_validation.py:536: FitFailedWarning: Estimator fit failed. The score on this train-test partition for these parameters will be set to nan. Details: \n",
            "ValueError: Negative values in data passed to MultinomialNB (input X)\n",
            "\n",
            "  FitFailedWarning)\n",
            "/usr/local/lib/python3.6/dist-packages/sklearn/model_selection/_validation.py:536: FitFailedWarning: Estimator fit failed. The score on this train-test partition for these parameters will be set to nan. Details: \n",
            "ValueError: Negative values in data passed to MultinomialNB (input X)\n",
            "\n",
            "  FitFailedWarning)\n",
            "/usr/local/lib/python3.6/dist-packages/sklearn/model_selection/_validation.py:536: FitFailedWarning: Estimator fit failed. The score on this train-test partition for these parameters will be set to nan. Details: \n",
            "ValueError: Negative values in data passed to MultinomialNB (input X)\n",
            "\n",
            "  FitFailedWarning)\n",
            "/usr/local/lib/python3.6/dist-packages/sklearn/model_selection/_validation.py:536: FitFailedWarning: Estimator fit failed. The score on this train-test partition for these parameters will be set to nan. Details: \n",
            "ValueError: Negative values in data passed to MultinomialNB (input X)\n",
            "\n",
            "  FitFailedWarning)\n",
            "/usr/local/lib/python3.6/dist-packages/sklearn/model_selection/_validation.py:536: FitFailedWarning: Estimator fit failed. The score on this train-test partition for these parameters will be set to nan. Details: \n",
            "ValueError: Negative values in data passed to MultinomialNB (input X)\n",
            "\n",
            "  FitFailedWarning)\n",
            "/usr/local/lib/python3.6/dist-packages/sklearn/model_selection/_validation.py:536: FitFailedWarning: Estimator fit failed. The score on this train-test partition for these parameters will be set to nan. Details: \n",
            "ValueError: Negative values in data passed to MultinomialNB (input X)\n",
            "\n",
            "  FitFailedWarning)\n",
            "/usr/local/lib/python3.6/dist-packages/sklearn/model_selection/_validation.py:536: FitFailedWarning: Estimator fit failed. The score on this train-test partition for these parameters will be set to nan. Details: \n",
            "ValueError: Negative values in data passed to MultinomialNB (input X)\n",
            "\n",
            "  FitFailedWarning)\n",
            "/usr/local/lib/python3.6/dist-packages/sklearn/model_selection/_validation.py:536: FitFailedWarning: Estimator fit failed. The score on this train-test partition for these parameters will be set to nan. Details: \n",
            "ValueError: Negative values in data passed to MultinomialNB (input X)\n",
            "\n",
            "  FitFailedWarning)\n",
            "/usr/local/lib/python3.6/dist-packages/sklearn/model_selection/_validation.py:536: FitFailedWarning: Estimator fit failed. The score on this train-test partition for these parameters will be set to nan. Details: \n",
            "ValueError: Negative values in data passed to MultinomialNB (input X)\n",
            "\n",
            "  FitFailedWarning)\n",
            "/usr/local/lib/python3.6/dist-packages/sklearn/model_selection/_validation.py:536: FitFailedWarning: Estimator fit failed. The score on this train-test partition for these parameters will be set to nan. Details: \n",
            "ValueError: Negative values in data passed to MultinomialNB (input X)\n",
            "\n",
            "  FitFailedWarning)\n",
            "/usr/local/lib/python3.6/dist-packages/sklearn/model_selection/_validation.py:536: FitFailedWarning: Estimator fit failed. The score on this train-test partition for these parameters will be set to nan. Details: \n",
            "ValueError: Negative values in data passed to MultinomialNB (input X)\n",
            "\n",
            "  FitFailedWarning)\n",
            "/usr/local/lib/python3.6/dist-packages/sklearn/model_selection/_validation.py:536: FitFailedWarning: Estimator fit failed. The score on this train-test partition for these parameters will be set to nan. Details: \n",
            "ValueError: Negative values in data passed to MultinomialNB (input X)\n",
            "\n",
            "  FitFailedWarning)\n",
            "/usr/local/lib/python3.6/dist-packages/sklearn/model_selection/_validation.py:536: FitFailedWarning: Estimator fit failed. The score on this train-test partition for these parameters will be set to nan. Details: \n",
            "ValueError: Negative values in data passed to MultinomialNB (input X)\n",
            "\n",
            "  FitFailedWarning)\n",
            "/usr/local/lib/python3.6/dist-packages/sklearn/model_selection/_validation.py:536: FitFailedWarning: Estimator fit failed. The score on this train-test partition for these parameters will be set to nan. Details: \n",
            "ValueError: Negative values in data passed to MultinomialNB (input X)\n",
            "\n",
            "  FitFailedWarning)\n",
            "/usr/local/lib/python3.6/dist-packages/sklearn/model_selection/_validation.py:536: FitFailedWarning: Estimator fit failed. The score on this train-test partition for these parameters will be set to nan. Details: \n",
            "ValueError: Negative values in data passed to MultinomialNB (input X)\n",
            "\n",
            "  FitFailedWarning)\n",
            "/usr/local/lib/python3.6/dist-packages/sklearn/model_selection/_validation.py:536: FitFailedWarning: Estimator fit failed. The score on this train-test partition for these parameters will be set to nan. Details: \n",
            "ValueError: Negative values in data passed to MultinomialNB (input X)\n",
            "\n",
            "  FitFailedWarning)\n",
            "/usr/local/lib/python3.6/dist-packages/sklearn/model_selection/_validation.py:536: FitFailedWarning: Estimator fit failed. The score on this train-test partition for these parameters will be set to nan. Details: \n",
            "ValueError: Negative values in data passed to MultinomialNB (input X)\n",
            "\n",
            "  FitFailedWarning)\n",
            "/usr/local/lib/python3.6/dist-packages/sklearn/model_selection/_validation.py:536: FitFailedWarning: Estimator fit failed. The score on this train-test partition for these parameters will be set to nan. Details: \n",
            "ValueError: Negative values in data passed to MultinomialNB (input X)\n",
            "\n",
            "  FitFailedWarning)\n",
            "/usr/local/lib/python3.6/dist-packages/sklearn/model_selection/_validation.py:536: FitFailedWarning: Estimator fit failed. The score on this train-test partition for these parameters will be set to nan. Details: \n",
            "ValueError: Negative values in data passed to MultinomialNB (input X)\n",
            "\n",
            "  FitFailedWarning)\n",
            "/usr/local/lib/python3.6/dist-packages/sklearn/model_selection/_validation.py:536: FitFailedWarning: Estimator fit failed. The score on this train-test partition for these parameters will be set to nan. Details: \n",
            "ValueError: Negative values in data passed to MultinomialNB (input X)\n",
            "\n",
            "  FitFailedWarning)\n",
            "/usr/local/lib/python3.6/dist-packages/sklearn/model_selection/_validation.py:536: FitFailedWarning: Estimator fit failed. The score on this train-test partition for these parameters will be set to nan. Details: \n",
            "ValueError: Negative values in data passed to MultinomialNB (input X)\n",
            "\n",
            "  FitFailedWarning)\n",
            "/usr/local/lib/python3.6/dist-packages/sklearn/model_selection/_validation.py:536: FitFailedWarning: Estimator fit failed. The score on this train-test partition for these parameters will be set to nan. Details: \n",
            "ValueError: Negative values in data passed to MultinomialNB (input X)\n",
            "\n",
            "  FitFailedWarning)\n",
            "/usr/local/lib/python3.6/dist-packages/sklearn/model_selection/_validation.py:536: FitFailedWarning: Estimator fit failed. The score on this train-test partition for these parameters will be set to nan. Details: \n",
            "ValueError: Negative values in data passed to MultinomialNB (input X)\n",
            "\n",
            "  FitFailedWarning)\n",
            "/usr/local/lib/python3.6/dist-packages/sklearn/model_selection/_validation.py:536: FitFailedWarning: Estimator fit failed. The score on this train-test partition for these parameters will be set to nan. Details: \n",
            "ValueError: Negative values in data passed to MultinomialNB (input X)\n",
            "\n",
            "  FitFailedWarning)\n",
            "/usr/local/lib/python3.6/dist-packages/sklearn/model_selection/_validation.py:536: FitFailedWarning: Estimator fit failed. The score on this train-test partition for these parameters will be set to nan. Details: \n",
            "ValueError: Negative values in data passed to MultinomialNB (input X)\n",
            "\n",
            "  FitFailedWarning)\n",
            "/usr/local/lib/python3.6/dist-packages/sklearn/model_selection/_validation.py:536: FitFailedWarning: Estimator fit failed. The score on this train-test partition for these parameters will be set to nan. Details: \n",
            "ValueError: Negative values in data passed to MultinomialNB (input X)\n",
            "\n",
            "  FitFailedWarning)\n",
            "/usr/local/lib/python3.6/dist-packages/sklearn/model_selection/_validation.py:536: FitFailedWarning: Estimator fit failed. The score on this train-test partition for these parameters will be set to nan. Details: \n",
            "ValueError: Negative values in data passed to MultinomialNB (input X)\n",
            "\n",
            "  FitFailedWarning)\n",
            "/usr/local/lib/python3.6/dist-packages/sklearn/model_selection/_validation.py:536: FitFailedWarning: Estimator fit failed. The score on this train-test partition for these parameters will be set to nan. Details: \n",
            "ValueError: Negative values in data passed to MultinomialNB (input X)\n",
            "\n",
            "  FitFailedWarning)\n",
            "/usr/local/lib/python3.6/dist-packages/sklearn/model_selection/_validation.py:536: FitFailedWarning: Estimator fit failed. The score on this train-test partition for these parameters will be set to nan. Details: \n",
            "ValueError: Negative values in data passed to MultinomialNB (input X)\n",
            "\n",
            "  FitFailedWarning)\n",
            "/usr/local/lib/python3.6/dist-packages/sklearn/model_selection/_validation.py:536: FitFailedWarning: Estimator fit failed. The score on this train-test partition for these parameters will be set to nan. Details: \n",
            "ValueError: Negative values in data passed to MultinomialNB (input X)\n",
            "\n",
            "  FitFailedWarning)\n",
            "/usr/local/lib/python3.6/dist-packages/sklearn/model_selection/_validation.py:536: FitFailedWarning: Estimator fit failed. The score on this train-test partition for these parameters will be set to nan. Details: \n",
            "ValueError: Negative values in data passed to MultinomialNB (input X)\n",
            "\n",
            "  FitFailedWarning)\n",
            "/usr/local/lib/python3.6/dist-packages/sklearn/model_selection/_validation.py:536: FitFailedWarning: Estimator fit failed. The score on this train-test partition for these parameters will be set to nan. Details: \n",
            "ValueError: Negative values in data passed to MultinomialNB (input X)\n",
            "\n",
            "  FitFailedWarning)\n",
            "/usr/local/lib/python3.6/dist-packages/sklearn/model_selection/_validation.py:536: FitFailedWarning: Estimator fit failed. The score on this train-test partition for these parameters will be set to nan. Details: \n",
            "ValueError: Negative values in data passed to MultinomialNB (input X)\n",
            "\n",
            "  FitFailedWarning)\n",
            "/usr/local/lib/python3.6/dist-packages/sklearn/model_selection/_validation.py:536: FitFailedWarning: Estimator fit failed. The score on this train-test partition for these parameters will be set to nan. Details: \n",
            "ValueError: Negative values in data passed to MultinomialNB (input X)\n",
            "\n",
            "  FitFailedWarning)\n",
            "/usr/local/lib/python3.6/dist-packages/sklearn/model_selection/_validation.py:536: FitFailedWarning: Estimator fit failed. The score on this train-test partition for these parameters will be set to nan. Details: \n",
            "ValueError: Negative values in data passed to MultinomialNB (input X)\n",
            "\n",
            "  FitFailedWarning)\n",
            "/usr/local/lib/python3.6/dist-packages/sklearn/model_selection/_validation.py:536: FitFailedWarning: Estimator fit failed. The score on this train-test partition for these parameters will be set to nan. Details: \n",
            "ValueError: Negative values in data passed to MultinomialNB (input X)\n",
            "\n",
            "  FitFailedWarning)\n",
            "/usr/local/lib/python3.6/dist-packages/sklearn/model_selection/_validation.py:536: FitFailedWarning: Estimator fit failed. The score on this train-test partition for these parameters will be set to nan. Details: \n",
            "ValueError: Negative values in data passed to MultinomialNB (input X)\n",
            "\n",
            "  FitFailedWarning)\n",
            "/usr/local/lib/python3.6/dist-packages/sklearn/model_selection/_validation.py:536: FitFailedWarning: Estimator fit failed. The score on this train-test partition for these parameters will be set to nan. Details: \n",
            "ValueError: Negative values in data passed to MultinomialNB (input X)\n",
            "\n",
            "  FitFailedWarning)\n",
            "/usr/local/lib/python3.6/dist-packages/sklearn/model_selection/_validation.py:536: FitFailedWarning: Estimator fit failed. The score on this train-test partition for these parameters will be set to nan. Details: \n",
            "ValueError: Negative values in data passed to MultinomialNB (input X)\n",
            "\n",
            "  FitFailedWarning)\n",
            "/usr/local/lib/python3.6/dist-packages/sklearn/model_selection/_validation.py:536: FitFailedWarning: Estimator fit failed. The score on this train-test partition for these parameters will be set to nan. Details: \n",
            "ValueError: Negative values in data passed to MultinomialNB (input X)\n",
            "\n",
            "  FitFailedWarning)\n",
            "/usr/local/lib/python3.6/dist-packages/sklearn/model_selection/_validation.py:536: FitFailedWarning: Estimator fit failed. The score on this train-test partition for these parameters will be set to nan. Details: \n",
            "ValueError: Negative values in data passed to MultinomialNB (input X)\n",
            "\n",
            "  FitFailedWarning)\n",
            "/usr/local/lib/python3.6/dist-packages/sklearn/model_selection/_validation.py:536: FitFailedWarning: Estimator fit failed. The score on this train-test partition for these parameters will be set to nan. Details: \n",
            "ValueError: Negative values in data passed to MultinomialNB (input X)\n",
            "\n",
            "  FitFailedWarning)\n",
            "/usr/local/lib/python3.6/dist-packages/sklearn/model_selection/_validation.py:536: FitFailedWarning: Estimator fit failed. The score on this train-test partition for these parameters will be set to nan. Details: \n",
            "ValueError: Negative values in data passed to MultinomialNB (input X)\n",
            "\n",
            "  FitFailedWarning)\n",
            "/usr/local/lib/python3.6/dist-packages/sklearn/model_selection/_validation.py:536: FitFailedWarning: Estimator fit failed. The score on this train-test partition for these parameters will be set to nan. Details: \n",
            "ValueError: Negative values in data passed to MultinomialNB (input X)\n",
            "\n",
            "  FitFailedWarning)\n",
            "/usr/local/lib/python3.6/dist-packages/sklearn/model_selection/_validation.py:536: FitFailedWarning: Estimator fit failed. The score on this train-test partition for these parameters will be set to nan. Details: \n",
            "ValueError: Negative values in data passed to MultinomialNB (input X)\n",
            "\n",
            "  FitFailedWarning)\n"
          ],
          "name": "stderr"
        },
        {
          "output_type": "execute_result",
          "data": {
            "text/html": [
              "<div>\n",
              "<style scoped>\n",
              "    .dataframe tbody tr th:only-of-type {\n",
              "        vertical-align: middle;\n",
              "    }\n",
              "\n",
              "    .dataframe tbody tr th {\n",
              "        vertical-align: top;\n",
              "    }\n",
              "\n",
              "    .dataframe thead th {\n",
              "        text-align: right;\n",
              "    }\n",
              "</style>\n",
              "<table border=\"1\" class=\"dataframe\">\n",
              "  <thead>\n",
              "    <tr style=\"text-align: right;\">\n",
              "      <th></th>\n",
              "      <th>Média</th>\n",
              "      <th>Mediana</th>\n",
              "      <th>Desvio Padrão</th>\n",
              "      <th>Tempo Médio</th>\n",
              "    </tr>\n",
              "    <tr>\n",
              "      <th>classifier_name</th>\n",
              "      <th></th>\n",
              "      <th></th>\n",
              "      <th></th>\n",
              "      <th></th>\n",
              "    </tr>\n",
              "  </thead>\n",
              "  <tbody>\n",
              "    <tr>\n",
              "      <th>DecisionTree</th>\n",
              "      <td>0.438061</td>\n",
              "      <td>0.441212</td>\n",
              "      <td>0.012365</td>\n",
              "      <td>0.019341</td>\n",
              "    </tr>\n",
              "    <tr>\n",
              "      <th>KNN-15</th>\n",
              "      <td>0.493515</td>\n",
              "      <td>0.490303</td>\n",
              "      <td>0.009672</td>\n",
              "      <td>0.065842</td>\n",
              "    </tr>\n",
              "    <tr>\n",
              "      <th>KNN-3</th>\n",
              "      <td>0.463091</td>\n",
              "      <td>0.463636</td>\n",
              "      <td>0.007639</td>\n",
              "      <td>0.056769</td>\n",
              "    </tr>\n",
              "    <tr>\n",
              "      <th>KNN-7</th>\n",
              "      <td>0.479091</td>\n",
              "      <td>0.479091</td>\n",
              "      <td>0.009213</td>\n",
              "      <td>0.060671</td>\n",
              "    </tr>\n",
              "    <tr>\n",
              "      <th>MLPClassifier</th>\n",
              "      <td>0.502121</td>\n",
              "      <td>0.502727</td>\n",
              "      <td>0.013313</td>\n",
              "      <td>3.438021</td>\n",
              "    </tr>\n",
              "    <tr>\n",
              "      <th>MultinomialNB</th>\n",
              "      <td>0.000000</td>\n",
              "      <td>0.000000</td>\n",
              "      <td>0.000000</td>\n",
              "      <td>0.002401</td>\n",
              "    </tr>\n",
              "    <tr>\n",
              "      <th>W-KNN-15</th>\n",
              "      <td>0.498788</td>\n",
              "      <td>0.496061</td>\n",
              "      <td>0.011677</td>\n",
              "      <td>0.023832</td>\n",
              "    </tr>\n",
              "    <tr>\n",
              "      <th>W-KNN-3</th>\n",
              "      <td>0.465212</td>\n",
              "      <td>0.465152</td>\n",
              "      <td>0.006818</td>\n",
              "      <td>0.013978</td>\n",
              "    </tr>\n",
              "    <tr>\n",
              "      <th>W-KNN-7</th>\n",
              "      <td>0.484545</td>\n",
              "      <td>0.483333</td>\n",
              "      <td>0.010898</td>\n",
              "      <td>0.017850</td>\n",
              "    </tr>\n",
              "  </tbody>\n",
              "</table>\n",
              "</div>"
            ],
            "text/plain": [
              "                    Média   Mediana  Desvio Padrão  Tempo Médio\n",
              "classifier_name                                                \n",
              "DecisionTree     0.438061  0.441212       0.012365     0.019341\n",
              "KNN-15           0.493515  0.490303       0.009672     0.065842\n",
              "KNN-3            0.463091  0.463636       0.007639     0.056769\n",
              "KNN-7            0.479091  0.479091       0.009213     0.060671\n",
              "MLPClassifier    0.502121  0.502727       0.013313     3.438021\n",
              "MultinomialNB    0.000000  0.000000       0.000000     0.002401\n",
              "W-KNN-15         0.498788  0.496061       0.011677     0.023832\n",
              "W-KNN-3          0.465212  0.465152       0.006818     0.013978\n",
              "W-KNN-7          0.484545  0.483333       0.010898     0.017850"
            ]
          },
          "metadata": {
            "tags": []
          },
          "execution_count": 278
        }
      ]
    },
    {
      "cell_type": "markdown",
      "metadata": {
        "id": "diQzfYl9lrM3"
      },
      "source": [
        "##### Teste Hipótese\r\n",
        "\r\n",
        "O teste de hipótese confirma a análise inicial em que o KNN tem um resultado melhor com k=15."
      ]
    },
    {
      "cell_type": "code",
      "metadata": {
        "colab": {
          "base_uri": "https://localhost:8080/",
          "height": 1000
        },
        "id": "jy4e5K-g6ANf",
        "outputId": "8367c9ce-1701-4c4a-fe16-b51bb91b3446"
      },
      "source": [
        "result_df.to_csv(os.path.join(WAVEFORM_RESULTS, 'brutos/result.csv'))\r\n",
        "!python cd-diagram/main.py -i results/waveform/brutos/result.csv -o results/waveform/brutos/cd-diagram.png\r\n",
        "display(Image('results/waveform/brutos/cd-diagram.png'))"
      ],
      "execution_count": 279,
      "outputs": [
        {
          "output_type": "stream",
          "text": [
            "Input file:  results/waveform/brutos/result.csv\n",
            "Output file:  results/waveform/brutos/cd-diagram.png\n",
            "['KNN-3' 'W-KNN-3' 'KNN-7' 'W-KNN-7' 'KNN-15' 'W-KNN-15' 'DecisionTree'\n",
            " 'MultinomialNB' 'MLPClassifier']\n",
            "DecisionTree      0.0\n",
            "KNN-15            0.0\n",
            "KNN-3             0.0\n",
            "KNN-7             0.0\n",
            "MLPClassifier    25.0\n",
            "MultinomialNB     0.0\n",
            "W-KNN-15         25.0\n",
            "W-KNN-3           0.0\n",
            "W-KNN-7           0.0\n",
            "dtype: float64\n",
            "MultinomialNB    9.00\n",
            "DecisionTree     8.00\n",
            "KNN-3            6.70\n",
            "W-KNN-3          6.20\n",
            "KNN-7            5.05\n",
            "W-KNN-7          3.75\n",
            "KNN-15           2.95\n",
            "MLPClassifier    1.75\n",
            "W-KNN-15         1.60\n",
            "dtype: float64\n",
            "('KNN-15', 'W-KNN-15', 6.259681887142859e-10, True)\n",
            "('KNN-3', 'KNN-7', 6.442372696765328e-10, True)\n",
            "('MultinomialNB', 'W-KNN-3', 6.629842731757234e-10, True)\n",
            "('KNN-15', 'MultinomialNB', 6.822201844716231e-10, True)\n",
            "('KNN-15', 'KNN-7', 7.019562041074612e-10, True)\n",
            "('KNN-3', 'MLPClassifier', 7.019562041074612e-10, True)\n",
            "('KNN-7', 'W-KNN-15', 7.019562041074612e-10, True)\n",
            "('MLPClassifier', 'MultinomialNB', 7.019562041074612e-10, True)\n",
            "('MultinomialNB', 'W-KNN-15', 7.019562041074612e-10, True)\n",
            "('MultinomialNB', 'W-KNN-7', 7.019562041074612e-10, True)\n",
            "('KNN-15', 'KNN-3', 7.222037513283772e-10, True)\n",
            "('KNN-15', 'W-KNN-3', 7.222037513283772e-10, True)\n",
            "('KNN-3', 'MultinomialNB', 7.222037513283772e-10, True)\n",
            "('KNN-3', 'W-KNN-15', 7.222037513283772e-10, True)\n",
            "('KNN-3', 'W-KNN-7', 7.222037513283772e-10, True)\n",
            "('KNN-7', 'MLPClassifier', 7.222037513283772e-10, True)\n",
            "('KNN-7', 'MultinomialNB', 7.222037513283772e-10, True)\n",
            "('MLPClassifier', 'W-KNN-3', 7.222037513283772e-10, True)\n",
            "('MLPClassifier', 'W-KNN-7', 7.222037513283772e-10, True)\n",
            "('W-KNN-15', 'W-KNN-3', 7.222037513283772e-10, True)\n",
            "('W-KNN-3', 'W-KNN-7', 7.222037513283772e-10, True)\n",
            "('DecisionTree', 'MultinomialNB', 7.50922018420483e-10, True)\n",
            "('DecisionTree', 'KNN-15', 7.522823720955151e-10, True)\n",
            "('DecisionTree', 'W-KNN-3', 7.539859267508618e-10, True)\n",
            "('DecisionTree', 'W-KNN-7', 7.541564726440781e-10, True)\n",
            "('DecisionTree', 'KNN-7', 7.543270531852816e-10, True)\n",
            "('DecisionTree', 'MLPClassifier', 7.544976683806673e-10, True)\n",
            "('DecisionTree', 'KNN-3', 7.546683182364461e-10, True)\n",
            "('DecisionTree', 'W-KNN-15', 7.550097219539461e-10, True)\n",
            "('KNN-7', 'W-KNN-7', 1.0853922119888197e-09, True)\n",
            "('KNN-7', 'W-KNN-3', 1.7858337573242792e-09, True)\n",
            "('W-KNN-15', 'W-KNN-7', 7.71524763752289e-09, True)\n",
            "('KNN-15', 'W-KNN-7', 2.6030806868940135e-07, True)\n",
            "('KNN-15', 'MLPClassifier', 3.963615729965633e-05, True)\n",
            "('KNN-3', 'W-KNN-3', 0.0003678553151969887, True)\n",
            "('MLPClassifier', 'W-KNN-15', 0.14655673566611152, False)\n",
            "Index(['MultinomialNB', 'DecisionTree', 'KNN-3', 'W-KNN-3', 'KNN-7', 'W-KNN-7',\n",
            "       'KNN-15', 'MLPClassifier', 'W-KNN-15'],\n",
            "      dtype='object')\n",
            "[7, 8]\n",
            "findfont: Font family ['sans-serif'] not found. Falling back to DejaVu Sans.\n",
            "findfont: Font family ['sans-serif'] not found. Falling back to DejaVu Sans.\n",
            "findfont: Font family ['sans-serif'] not found. Falling back to DejaVu Sans.\n"
          ],
          "name": "stdout"
        },
        {
          "output_type": "display_data",
          "data": {
            "image/png": "[encoded data removed]",
            "text/plain": [
              "<IPython.core.display.Image object>"
            ]
          },
          "metadata": {
            "tags": []
          }
        }
      ]
    },
    {
      "cell_type": "markdown",
      "metadata": {
        "id": "IN1diNOlPv_j"
      },
      "source": [
        "#### Base Processada"
      ]
    },
    {
      "cell_type": "markdown",
      "metadata": {
        "id": "sXJwzwIbQ2JV"
      },
      "source": [
        "##### Análise Empírica\r\n",
        "\r\n",
        "Em um análise posterior, usando a base de dados pré-processada é possível ver que o algoritmo de classificação melhora de maneira substância para todos os valores de k e também para o algoritmo Decision Tree. "
      ]
    },
    {
      "cell_type": "code",
      "metadata": {
        "colab": {
          "base_uri": "https://localhost:8080/",
          "height": 359
        },
        "id": "WbsfVy9BP01h",
        "outputId": "b8ea871c-ef40-4af0-d596-7a3df01a66af"
      },
      "source": [
        "\r\n",
        "# Carregando os dados\r\n",
        "reduced_waveform = pd.read_csv(os.path.join(WAVEFORM_RESULTS, 'processados/reduced.csv'))\r\n",
        "X, y = reduced_waveform[feats], reduced_waveform['class']\r\n",
        "result_df = run_experiment(X, y)\r\n",
        "\r\n",
        "groups = result_df.groupby(['classifier_name'])\r\n",
        "summary = groups.agg({'accuracy':['mean', 'median', 'std'], 'fit_time':'mean'})\r\n",
        "summary.columns = summary.columns.droplevel(0)\r\n",
        "summary.columns = ['Média', 'Mediana', 'Desvio Padrão', 'Tempo Médio']\r\n",
        "\r\n",
        "open(os.path.join(WAVEFORM_RESULTS, 'processados/result.txt'), 'w').write(summary.to_latex())\r\n",
        "summary"
      ],
      "execution_count": 280,
      "outputs": [
        {
          "output_type": "execute_result",
          "data": {
            "text/html": [
              "<div>\n",
              "<style scoped>\n",
              "    .dataframe tbody tr th:only-of-type {\n",
              "        vertical-align: middle;\n",
              "    }\n",
              "\n",
              "    .dataframe tbody tr th {\n",
              "        vertical-align: top;\n",
              "    }\n",
              "\n",
              "    .dataframe thead th {\n",
              "        text-align: right;\n",
              "    }\n",
              "</style>\n",
              "<table border=\"1\" class=\"dataframe\">\n",
              "  <thead>\n",
              "    <tr style=\"text-align: right;\">\n",
              "      <th></th>\n",
              "      <th>Média</th>\n",
              "      <th>Mediana</th>\n",
              "      <th>Desvio Padrão</th>\n",
              "      <th>Tempo Médio</th>\n",
              "    </tr>\n",
              "    <tr>\n",
              "      <th>classifier_name</th>\n",
              "      <th></th>\n",
              "      <th></th>\n",
              "      <th></th>\n",
              "      <th></th>\n",
              "    </tr>\n",
              "  </thead>\n",
              "  <tbody>\n",
              "    <tr>\n",
              "      <th>DecisionTree</th>\n",
              "      <td>0.809430</td>\n",
              "      <td>0.807879</td>\n",
              "      <td>0.007990</td>\n",
              "      <td>0.016071</td>\n",
              "    </tr>\n",
              "    <tr>\n",
              "      <th>KNN-15</th>\n",
              "      <td>0.847636</td>\n",
              "      <td>0.847879</td>\n",
              "      <td>0.005918</td>\n",
              "      <td>0.062543</td>\n",
              "    </tr>\n",
              "    <tr>\n",
              "      <th>KNN-3</th>\n",
              "      <td>0.828909</td>\n",
              "      <td>0.828485</td>\n",
              "      <td>0.004338</td>\n",
              "      <td>0.055878</td>\n",
              "    </tr>\n",
              "    <tr>\n",
              "      <th>KNN-7</th>\n",
              "      <td>0.838000</td>\n",
              "      <td>0.837879</td>\n",
              "      <td>0.004321</td>\n",
              "      <td>0.058215</td>\n",
              "    </tr>\n",
              "    <tr>\n",
              "      <th>MLPClassifier</th>\n",
              "      <td>0.338303</td>\n",
              "      <td>0.341818</td>\n",
              "      <td>0.008679</td>\n",
              "      <td>0.017511</td>\n",
              "    </tr>\n",
              "    <tr>\n",
              "      <th>MultinomialNB</th>\n",
              "      <td>0.730242</td>\n",
              "      <td>0.739697</td>\n",
              "      <td>0.027249</td>\n",
              "      <td>0.003267</td>\n",
              "    </tr>\n",
              "    <tr>\n",
              "      <th>W-KNN-15</th>\n",
              "      <td>0.845939</td>\n",
              "      <td>0.847576</td>\n",
              "      <td>0.005556</td>\n",
              "      <td>0.020821</td>\n",
              "    </tr>\n",
              "    <tr>\n",
              "      <th>W-KNN-3</th>\n",
              "      <td>0.826970</td>\n",
              "      <td>0.826970</td>\n",
              "      <td>0.004261</td>\n",
              "      <td>0.012952</td>\n",
              "    </tr>\n",
              "    <tr>\n",
              "      <th>W-KNN-7</th>\n",
              "      <td>0.834970</td>\n",
              "      <td>0.835152</td>\n",
              "      <td>0.003643</td>\n",
              "      <td>0.015821</td>\n",
              "    </tr>\n",
              "  </tbody>\n",
              "</table>\n",
              "</div>"
            ],
            "text/plain": [
              "                    Média   Mediana  Desvio Padrão  Tempo Médio\n",
              "classifier_name                                                \n",
              "DecisionTree     0.809430  0.807879       0.007990     0.016071\n",
              "KNN-15           0.847636  0.847879       0.005918     0.062543\n",
              "KNN-3            0.828909  0.828485       0.004338     0.055878\n",
              "KNN-7            0.838000  0.837879       0.004321     0.058215\n",
              "MLPClassifier    0.338303  0.341818       0.008679     0.017511\n",
              "MultinomialNB    0.730242  0.739697       0.027249     0.003267\n",
              "W-KNN-15         0.845939  0.847576       0.005556     0.020821\n",
              "W-KNN-3          0.826970  0.826970       0.004261     0.012952\n",
              "W-KNN-7          0.834970  0.835152       0.003643     0.015821"
            ]
          },
          "metadata": {
            "tags": []
          },
          "execution_count": 280
        }
      ]
    },
    {
      "cell_type": "markdown",
      "metadata": {
        "id": "4kjhHRonPGaT"
      },
      "source": [
        "##### Teste de Hipótese\r\n",
        "\r\n",
        "Além disso, o melhor valor para k continua sendo k igual a 15 de acordo com o teste de hipótese e média obtida na tabela de resultados."
      ]
    },
    {
      "cell_type": "code",
      "metadata": {
        "colab": {
          "base_uri": "https://localhost:8080/",
          "height": 1000
        },
        "id": "6mz8PoutQ7c6",
        "outputId": "7221a2b1-3ff2-4a74-ee30-152851cac031"
      },
      "source": [
        "result_df.to_csv(os.path.join(WAVEFORM_RESULTS, 'processados/result.csv'))\r\n",
        "!python cd-diagram/main.py -i results/waveform/processados/result.csv -o results/waveform/processados/cd-diagram.png\r\n",
        "display(Image('results/waveform/processados/cd-diagram.png'))"
      ],
      "execution_count": 281,
      "outputs": [
        {
          "output_type": "stream",
          "text": [
            "Input file:  results/waveform/processados/result.csv\n",
            "Output file:  results/waveform/processados/cd-diagram.png\n",
            "['KNN-3' 'W-KNN-3' 'KNN-7' 'W-KNN-7' 'KNN-15' 'W-KNN-15' 'DecisionTree'\n",
            " 'MultinomialNB' 'MLPClassifier']\n",
            "DecisionTree      0.0\n",
            "KNN-15           35.0\n",
            "KNN-3             0.0\n",
            "KNN-7             5.0\n",
            "MLPClassifier     0.0\n",
            "MultinomialNB     0.0\n",
            "W-KNN-15          5.0\n",
            "W-KNN-3           0.0\n",
            "W-KNN-7           0.0\n",
            "dtype: float64\n",
            "MLPClassifier    9.00\n",
            "MultinomialNB    8.00\n",
            "DecisionTree     6.97\n",
            "W-KNN-3          5.67\n",
            "KNN-3            4.96\n",
            "W-KNN-7          4.05\n",
            "KNN-7            3.15\n",
            "W-KNN-15         1.90\n",
            "KNN-15           1.30\n",
            "dtype: float64\n",
            "('KNN-3', 'W-KNN-15', 6.259681887142859e-10, True)\n",
            "('KNN-7', 'W-KNN-3', 6.442372696765328e-10, True)\n",
            "('W-KNN-15', 'W-KNN-7', 6.442372696765328e-10, True)\n",
            "('KNN-3', 'MLPClassifier', 6.822201844716231e-10, True)\n",
            "('KNN-7', 'MLPClassifier', 7.019562041074612e-10, True)\n",
            "('MLPClassifier', 'W-KNN-3', 7.019562041074612e-10, True)\n",
            "('MultinomialNB', 'W-KNN-15', 7.019562041074612e-10, True)\n",
            "('MultinomialNB', 'W-KNN-3', 7.019562041074612e-10, True)\n",
            "('W-KNN-15', 'W-KNN-3', 7.019562041074612e-10, True)\n",
            "('KNN-15', 'KNN-3', 7.222037513283772e-10, True)\n",
            "('KNN-15', 'MLPClassifier', 7.222037513283772e-10, True)\n",
            "('KNN-15', 'MultinomialNB', 7.222037513283772e-10, True)\n",
            "('KNN-15', 'W-KNN-3', 7.222037513283772e-10, True)\n",
            "('KNN-15', 'W-KNN-7', 7.222037513283772e-10, True)\n",
            "('KNN-3', 'MultinomialNB', 7.222037513283772e-10, True)\n",
            "('KNN-7', 'MultinomialNB', 7.222037513283772e-10, True)\n",
            "('MLPClassifier', 'MultinomialNB', 7.222037513283772e-10, True)\n",
            "('MLPClassifier', 'W-KNN-15', 7.222037513283772e-10, True)\n",
            "('MLPClassifier', 'W-KNN-7', 7.222037513283772e-10, True)\n",
            "('MultinomialNB', 'W-KNN-7', 7.222037513283772e-10, True)\n",
            "('DecisionTree', 'W-KNN-7', 7.522823720955151e-10, True)\n",
            "('DecisionTree', 'W-KNN-15', 7.524525718494508e-10, True)\n",
            "('DecisionTree', 'MLPClassifier', 7.536449388836203e-10, True)\n",
            "('DecisionTree', 'KNN-7', 7.538154154994469e-10, True)\n",
            "('DecisionTree', 'KNN-15', 7.539859267508618e-10, True)\n",
            "('DecisionTree', 'MultinomialNB', 7.543270531852816e-10, True)\n",
            "('DecisionTree', 'KNN-3', 7.75538607906131e-10, True)\n",
            "('DecisionTree', 'W-KNN-3', 1.0805059810338663e-09, True)\n",
            "('KNN-3', 'KNN-7', 1.7380097838956726e-09, True)\n",
            "('KNN-7', 'W-KNN-15', 7.71524763752289e-09, True)\n",
            "('KNN-15', 'KNN-7', 1.532474084983957e-08, True)\n",
            "('W-KNN-3', 'W-KNN-7', 6.091387101802249e-08, True)\n",
            "('KNN-3', 'W-KNN-3', 3.62404378353355e-07, True)\n",
            "('KNN-7', 'W-KNN-7', 3.7690830135359315e-07, True)\n",
            "('KNN-3', 'W-KNN-7', 9.090437554661279e-06, True)\n",
            "('KNN-15', 'W-KNN-15', 0.00012614412165093264, True)\n",
            "Index(['MLPClassifier', 'MultinomialNB', 'DecisionTree', 'W-KNN-3', 'KNN-3',\n",
            "       'W-KNN-7', 'KNN-7', 'W-KNN-15', 'KNN-15'],\n",
            "      dtype='object')\n",
            "findfont: Font family ['sans-serif'] not found. Falling back to DejaVu Sans.\n",
            "findfont: Font family ['sans-serif'] not found. Falling back to DejaVu Sans.\n",
            "findfont: Font family ['sans-serif'] not found. Falling back to DejaVu Sans.\n"
          ],
          "name": "stdout"
        },
        {
          "output_type": "display_data",
          "data": {
            "image/png": "[encoded data removed]",
            "text/plain": [
              "<IPython.core.display.Image object>"
            ]
          },
          "metadata": {
            "tags": []
          }
        }
      ]
    },
    {
      "cell_type": "markdown",
      "metadata": {
        "id": "KGIEN6xyZ6Sg"
      },
      "source": [
        "### Referências \r\n",
        "\r\n",
        "@article{IsmailFawaz2018deep,\r\n",
        "  Title                    = {Deep learning for time series classification: a review},\r\n",
        "  Author                   = {Ismail Fawaz, Hassan and Forestier, Germain and Weber, Jonathan and Idoumghar, Lhassane and Muller, Pierre-Alain},\r\n",
        "  journal                  = {Data Mining and Knowledge Discovery},\r\n",
        "  Year                     = {2019},\r\n",
        "  volume                   = {33},\r\n",
        "  number                   = {4},\r\n",
        "  pages                    = {917--963},\r\n",
        "}\r\n",
        "\r\n",
        "@article{scikit-learn,\r\n",
        " title={Scikit-learn: Machine Learning in {P}ython},\r\n",
        " author={Pedregosa, F. and Varoquaux, G. and Gramfort, A. and Michel, V.\r\n",
        "         and Thirion, B. and Grisel, O. and Blondel, M. and Prettenhofer, P.\r\n",
        "         and Weiss, R. and Dubourg, V. and Vanderplas, J. and Passos, A. and\r\n",
        "         Cournapeau, D. and Brucher, M. and Perrot, M. and Duchesnay, E.},\r\n",
        " journal={Journal of Machine Learning Research},\r\n",
        " volume={12},\r\n",
        " pages={2825--2830},\r\n",
        " year={2011}\r\n",
        "}"
      ]
    }
  ]
}