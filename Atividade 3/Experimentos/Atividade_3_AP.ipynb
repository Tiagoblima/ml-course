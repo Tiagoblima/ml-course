{
  "nbformat": 4,
  "nbformat_minor": 0,
  "metadata": {
    "colab": {
      "name": "Atividade_3_AP.ipynb",
      "provenance": [],
      "collapsed_sections": [],
      "toc_visible": true
    },
    "kernelspec": {
      "name": "python3",
      "display_name": "Python 3",
      "language": "python"
    }
  },
  "cells": [
    {
      "cell_type": "markdown",
      "metadata": {
        "id": "IGaVcxcBG3H1"
      },
      "source": [
        "## Validação de Experimentos"
      ]
    },
    {
      "cell_type": "markdown",
      "metadata": {
        "id": "k51NwUW6hwth"
      },
      "source": [
        "### Base de Dados\r\n",
        "\r\n"
      ]
    },
    {
      "cell_type": "code",
      "metadata": {
        "id": "vY_yfNFUJZgp"
      },
      "source": [
        "import pandas as pd"
      ],
      "execution_count": 23,
      "outputs": []
    },
    {
      "cell_type": "markdown",
      "metadata": {
        "id": "dbOgX9Tzs81O"
      },
      "source": [
        "##### Iris Dataset \r\n",
        "\r\n",
        "O Iris dataset consiste de um conjunto de dados onde são descritas a altura e a largura das sépalas e pétalas de 4 tipos de flores com um total de 150 exemplos. "
      ]
    },
    {
      "cell_type": "code",
      "metadata": {
        "id": "bep4mDhLB_Dr",
        "colab": {
          "base_uri": "https://localhost:8080/",
          "height": 419
        },
        "outputId": "0d8301ef-4f0f-48d6-da29-c4abb961f58a"
      },
      "source": [
        "iris_data = pd.read_csv('iris.data', names=[\"feat1\", \"feat2\", \"feat3\", \"feat4\", \"class\"], sep=\",\")\r\n",
        "iris_data"
      ],
      "execution_count": 24,
      "outputs": [
        {
          "output_type": "execute_result",
          "data": {
            "text/plain": [
              "     feat1  feat2  feat3  feat4           class\n",
              "0      5.1    3.5    1.4    0.2     Iris-setosa\n",
              "1      4.9    3.0    1.4    0.2     Iris-setosa\n",
              "2      4.7    3.2    1.3    0.2     Iris-setosa\n",
              "3      4.6    3.1    1.5    0.2     Iris-setosa\n",
              "4      5.0    3.6    1.4    0.2     Iris-setosa\n",
              "..     ...    ...    ...    ...             ...\n",
              "145    6.7    3.0    5.2    2.3  Iris-virginica\n",
              "146    6.3    2.5    5.0    1.9  Iris-virginica\n",
              "147    6.5    3.0    5.2    2.0  Iris-virginica\n",
              "148    6.2    3.4    5.4    2.3  Iris-virginica\n",
              "149    5.9    3.0    5.1    1.8  Iris-virginica\n",
              "\n",
              "[150 rows x 5 columns]"
            ],
            "text/html": "<div>\n<style scoped>\n    .dataframe tbody tr th:only-of-type {\n        vertical-align: middle;\n    }\n\n    .dataframe tbody tr th {\n        vertical-align: top;\n    }\n\n    .dataframe thead th {\n        text-align: right;\n    }\n</style>\n<table border=\"1\" class=\"dataframe\">\n  <thead>\n    <tr style=\"text-align: right;\">\n      <th></th>\n      <th>feat1</th>\n      <th>feat2</th>\n      <th>feat3</th>\n      <th>feat4</th>\n      <th>class</th>\n    </tr>\n  </thead>\n  <tbody>\n    <tr>\n      <th>0</th>\n      <td>5.1</td>\n      <td>3.5</td>\n      <td>1.4</td>\n      <td>0.2</td>\n      <td>Iris-setosa</td>\n    </tr>\n    <tr>\n      <th>1</th>\n      <td>4.9</td>\n      <td>3.0</td>\n      <td>1.4</td>\n      <td>0.2</td>\n      <td>Iris-setosa</td>\n    </tr>\n    <tr>\n      <th>2</th>\n      <td>4.7</td>\n      <td>3.2</td>\n      <td>1.3</td>\n      <td>0.2</td>\n      <td>Iris-setosa</td>\n    </tr>\n    <tr>\n      <th>3</th>\n      <td>4.6</td>\n      <td>3.1</td>\n      <td>1.5</td>\n      <td>0.2</td>\n      <td>Iris-setosa</td>\n    </tr>\n    <tr>\n      <th>4</th>\n      <td>5.0</td>\n      <td>3.6</td>\n      <td>1.4</td>\n      <td>0.2</td>\n      <td>Iris-setosa</td>\n    </tr>\n    <tr>\n      <th>...</th>\n      <td>...</td>\n      <td>...</td>\n      <td>...</td>\n      <td>...</td>\n      <td>...</td>\n    </tr>\n    <tr>\n      <th>145</th>\n      <td>6.7</td>\n      <td>3.0</td>\n      <td>5.2</td>\n      <td>2.3</td>\n      <td>Iris-virginica</td>\n    </tr>\n    <tr>\n      <th>146</th>\n      <td>6.3</td>\n      <td>2.5</td>\n      <td>5.0</td>\n      <td>1.9</td>\n      <td>Iris-virginica</td>\n    </tr>\n    <tr>\n      <th>147</th>\n      <td>6.5</td>\n      <td>3.0</td>\n      <td>5.2</td>\n      <td>2.0</td>\n      <td>Iris-virginica</td>\n    </tr>\n    <tr>\n      <th>148</th>\n      <td>6.2</td>\n      <td>3.4</td>\n      <td>5.4</td>\n      <td>2.3</td>\n      <td>Iris-virginica</td>\n    </tr>\n    <tr>\n      <th>149</th>\n      <td>5.9</td>\n      <td>3.0</td>\n      <td>5.1</td>\n      <td>1.8</td>\n      <td>Iris-virginica</td>\n    </tr>\n  </tbody>\n</table>\n<p>150 rows × 5 columns</p>\n</div>"
          },
          "metadata": {},
          "execution_count": 24
        }
      ]
    },
    {
      "cell_type": "markdown",
      "metadata": {
        "id": "2bUyCMzCtCi1"
      },
      "source": [
        "##### Statlog (Image Segmentation)\r\n",
        "A base de dados Statlog (Image Segmentation) é composta por segmentações feitas manualmente de 7 imagens que permitem a classificação pixel a pixel. "
      ]
    },
    {
      "cell_type": "code",
      "metadata": {
        "id": "lOIm4tSLmoK-",
        "colab": {
          "base_uri": "https://localhost:8080/",
          "height": 439
        },
        "outputId": "dbfc16ea-0a48-4b81-e806-9ffc2a4179a1"
      },
      "source": [
        "segment_feats = [\"feat\"+str(1+n) for n in range(19)]\r\n",
        "\r\n",
        "segment_data = pd.read_csv('segment.dat', names=segment_feats+['class'],sep=\" \")\r\n",
        "segment_data"
      ],
      "execution_count": 25,
      "outputs": [
        {
          "output_type": "execute_result",
          "data": {
            "text/plain": [
              "      feat1  feat2  feat3     feat4  feat5     feat6     feat7     feat8  \\\n",
              "0     218.0  178.0      9  0.111111    0.0  0.833333  0.547722  1.111109   \n",
              "1     113.0  130.0      9  0.000000    0.0  0.277778  0.250924  0.333333   \n",
              "2     202.0   41.0      9  0.000000    0.0  0.944448  0.772202  1.111112   \n",
              "3      32.0  173.0      9  0.000000    0.0  1.722222  1.781593  9.000000   \n",
              "4      61.0  197.0      9  0.000000    0.0  1.444444  1.515353  2.611111   \n",
              "...     ...    ...    ...       ...    ...       ...       ...       ...   \n",
              "2305   30.0  102.0      9  0.000000    0.0  1.222222  0.118518  1.333333   \n",
              "2306  143.0   24.0      9  0.000000    0.0  1.277777  0.907406  0.888888   \n",
              "2307   80.0   72.0      9  0.000000    0.0  1.222223  1.003697  1.444444   \n",
              "2308   98.0  133.0      9  0.000000    0.0  0.555555  0.172133  0.388889   \n",
              "2309   19.0  147.0      9  0.000000    0.0  0.222222  0.074074  0.500000   \n",
              "\n",
              "         feat9      feat10      feat11      feat12      feat13     feat14  \\\n",
              "0     0.544331   59.629630   52.444443   75.222220   51.222220 -21.555555   \n",
              "1     0.365148    0.888889    0.000000    2.555556    0.111111  -2.666667   \n",
              "2     1.025597  123.037040  111.888885  139.777790  117.444440 -33.444443   \n",
              "3     6.749488   43.592594   39.555557   52.888890   38.333336 -12.111111   \n",
              "4     1.925463   49.592594   44.222220   61.555557   43.000000 -16.111110   \n",
              "...        ...         ...         ...         ...         ...        ...   \n",
              "2305  0.800000   20.259260   20.333334   25.000000   15.444445   0.222222   \n",
              "2306  1.140749  127.629630  117.666664  141.666670  123.555560 -29.888890   \n",
              "2307  1.167461   59.000000   51.333332   74.444440   51.222220 -23.000000   \n",
              "2308  0.327731    0.962963    0.000000    2.777778    0.111111  -2.888889   \n",
              "2309  0.077778    4.148148    3.888889    6.666666    1.888889  -0.777778   \n",
              "\n",
              "         feat15     feat16      feat17    feat18    feat19  class  \n",
              "0     46.777780 -25.222221   75.222220  0.318996 -2.040554      6  \n",
              "1      5.000000  -2.333333    2.555556  1.000000 -2.123254      3  \n",
              "2     50.222220 -16.777779  139.777790  0.199347 -2.299918      2  \n",
              "3     27.888890 -15.777778   52.888890  0.266914 -1.998858      6  \n",
              "4     35.888890 -19.777779   61.555557  0.302925 -2.022274      6  \n",
              "...         ...        ...         ...       ...       ...    ...  \n",
              "2305  14.222222 -14.444445   25.000000  0.381059 -1.555097      1  \n",
              "2306  42.111110 -12.222222  141.666670  0.169397 -2.349252      2  \n",
              "2307  46.333332 -23.333334   74.444440  0.314606 -2.090221      4  \n",
              "2308   5.444445  -2.555556    2.777778  1.000000 -2.123254      3  \n",
              "2309   7.555555  -6.777778    7.000000  0.713228 -1.475643      1  \n",
              "\n",
              "[2310 rows x 20 columns]"
            ],
            "text/html": "<div>\n<style scoped>\n    .dataframe tbody tr th:only-of-type {\n        vertical-align: middle;\n    }\n\n    .dataframe tbody tr th {\n        vertical-align: top;\n    }\n\n    .dataframe thead th {\n        text-align: right;\n    }\n</style>\n<table border=\"1\" class=\"dataframe\">\n  <thead>\n    <tr style=\"text-align: right;\">\n      <th></th>\n      <th>feat1</th>\n      <th>feat2</th>\n      <th>feat3</th>\n      <th>feat4</th>\n      <th>feat5</th>\n      <th>feat6</th>\n      <th>feat7</th>\n      <th>feat8</th>\n      <th>feat9</th>\n      <th>feat10</th>\n      <th>feat11</th>\n      <th>feat12</th>\n      <th>feat13</th>\n      <th>feat14</th>\n      <th>feat15</th>\n      <th>feat16</th>\n      <th>feat17</th>\n      <th>feat18</th>\n      <th>feat19</th>\n      <th>class</th>\n    </tr>\n  </thead>\n  <tbody>\n    <tr>\n      <th>0</th>\n      <td>218.0</td>\n      <td>178.0</td>\n      <td>9</td>\n      <td>0.111111</td>\n      <td>0.0</td>\n      <td>0.833333</td>\n      <td>0.547722</td>\n      <td>1.111109</td>\n      <td>0.544331</td>\n      <td>59.629630</td>\n      <td>52.444443</td>\n      <td>75.222220</td>\n      <td>51.222220</td>\n      <td>-21.555555</td>\n      <td>46.777780</td>\n      <td>-25.222221</td>\n      <td>75.222220</td>\n      <td>0.318996</td>\n      <td>-2.040554</td>\n      <td>6</td>\n    </tr>\n    <tr>\n      <th>1</th>\n      <td>113.0</td>\n      <td>130.0</td>\n      <td>9</td>\n      <td>0.000000</td>\n      <td>0.0</td>\n      <td>0.277778</td>\n      <td>0.250924</td>\n      <td>0.333333</td>\n      <td>0.365148</td>\n      <td>0.888889</td>\n      <td>0.000000</td>\n      <td>2.555556</td>\n      <td>0.111111</td>\n      <td>-2.666667</td>\n      <td>5.000000</td>\n      <td>-2.333333</td>\n      <td>2.555556</td>\n      <td>1.000000</td>\n      <td>-2.123254</td>\n      <td>3</td>\n    </tr>\n    <tr>\n      <th>2</th>\n      <td>202.0</td>\n      <td>41.0</td>\n      <td>9</td>\n      <td>0.000000</td>\n      <td>0.0</td>\n      <td>0.944448</td>\n      <td>0.772202</td>\n      <td>1.111112</td>\n      <td>1.025597</td>\n      <td>123.037040</td>\n      <td>111.888885</td>\n      <td>139.777790</td>\n      <td>117.444440</td>\n      <td>-33.444443</td>\n      <td>50.222220</td>\n      <td>-16.777779</td>\n      <td>139.777790</td>\n      <td>0.199347</td>\n      <td>-2.299918</td>\n      <td>2</td>\n    </tr>\n    <tr>\n      <th>3</th>\n      <td>32.0</td>\n      <td>173.0</td>\n      <td>9</td>\n      <td>0.000000</td>\n      <td>0.0</td>\n      <td>1.722222</td>\n      <td>1.781593</td>\n      <td>9.000000</td>\n      <td>6.749488</td>\n      <td>43.592594</td>\n      <td>39.555557</td>\n      <td>52.888890</td>\n      <td>38.333336</td>\n      <td>-12.111111</td>\n      <td>27.888890</td>\n      <td>-15.777778</td>\n      <td>52.888890</td>\n      <td>0.266914</td>\n      <td>-1.998858</td>\n      <td>6</td>\n    </tr>\n    <tr>\n      <th>4</th>\n      <td>61.0</td>\n      <td>197.0</td>\n      <td>9</td>\n      <td>0.000000</td>\n      <td>0.0</td>\n      <td>1.444444</td>\n      <td>1.515353</td>\n      <td>2.611111</td>\n      <td>1.925463</td>\n      <td>49.592594</td>\n      <td>44.222220</td>\n      <td>61.555557</td>\n      <td>43.000000</td>\n      <td>-16.111110</td>\n      <td>35.888890</td>\n      <td>-19.777779</td>\n      <td>61.555557</td>\n      <td>0.302925</td>\n      <td>-2.022274</td>\n      <td>6</td>\n    </tr>\n    <tr>\n      <th>...</th>\n      <td>...</td>\n      <td>...</td>\n      <td>...</td>\n      <td>...</td>\n      <td>...</td>\n      <td>...</td>\n      <td>...</td>\n      <td>...</td>\n      <td>...</td>\n      <td>...</td>\n      <td>...</td>\n      <td>...</td>\n      <td>...</td>\n      <td>...</td>\n      <td>...</td>\n      <td>...</td>\n      <td>...</td>\n      <td>...</td>\n      <td>...</td>\n      <td>...</td>\n    </tr>\n    <tr>\n      <th>2305</th>\n      <td>30.0</td>\n      <td>102.0</td>\n      <td>9</td>\n      <td>0.000000</td>\n      <td>0.0</td>\n      <td>1.222222</td>\n      <td>0.118518</td>\n      <td>1.333333</td>\n      <td>0.800000</td>\n      <td>20.259260</td>\n      <td>20.333334</td>\n      <td>25.000000</td>\n      <td>15.444445</td>\n      <td>0.222222</td>\n      <td>14.222222</td>\n      <td>-14.444445</td>\n      <td>25.000000</td>\n      <td>0.381059</td>\n      <td>-1.555097</td>\n      <td>1</td>\n    </tr>\n    <tr>\n      <th>2306</th>\n      <td>143.0</td>\n      <td>24.0</td>\n      <td>9</td>\n      <td>0.000000</td>\n      <td>0.0</td>\n      <td>1.277777</td>\n      <td>0.907406</td>\n      <td>0.888888</td>\n      <td>1.140749</td>\n      <td>127.629630</td>\n      <td>117.666664</td>\n      <td>141.666670</td>\n      <td>123.555560</td>\n      <td>-29.888890</td>\n      <td>42.111110</td>\n      <td>-12.222222</td>\n      <td>141.666670</td>\n      <td>0.169397</td>\n      <td>-2.349252</td>\n      <td>2</td>\n    </tr>\n    <tr>\n      <th>2307</th>\n      <td>80.0</td>\n      <td>72.0</td>\n      <td>9</td>\n      <td>0.000000</td>\n      <td>0.0</td>\n      <td>1.222223</td>\n      <td>1.003697</td>\n      <td>1.444444</td>\n      <td>1.167461</td>\n      <td>59.000000</td>\n      <td>51.333332</td>\n      <td>74.444440</td>\n      <td>51.222220</td>\n      <td>-23.000000</td>\n      <td>46.333332</td>\n      <td>-23.333334</td>\n      <td>74.444440</td>\n      <td>0.314606</td>\n      <td>-2.090221</td>\n      <td>4</td>\n    </tr>\n    <tr>\n      <th>2308</th>\n      <td>98.0</td>\n      <td>133.0</td>\n      <td>9</td>\n      <td>0.000000</td>\n      <td>0.0</td>\n      <td>0.555555</td>\n      <td>0.172133</td>\n      <td>0.388889</td>\n      <td>0.327731</td>\n      <td>0.962963</td>\n      <td>0.000000</td>\n      <td>2.777778</td>\n      <td>0.111111</td>\n      <td>-2.888889</td>\n      <td>5.444445</td>\n      <td>-2.555556</td>\n      <td>2.777778</td>\n      <td>1.000000</td>\n      <td>-2.123254</td>\n      <td>3</td>\n    </tr>\n    <tr>\n      <th>2309</th>\n      <td>19.0</td>\n      <td>147.0</td>\n      <td>9</td>\n      <td>0.000000</td>\n      <td>0.0</td>\n      <td>0.222222</td>\n      <td>0.074074</td>\n      <td>0.500000</td>\n      <td>0.077778</td>\n      <td>4.148148</td>\n      <td>3.888889</td>\n      <td>6.666666</td>\n      <td>1.888889</td>\n      <td>-0.777778</td>\n      <td>7.555555</td>\n      <td>-6.777778</td>\n      <td>7.000000</td>\n      <td>0.713228</td>\n      <td>-1.475643</td>\n      <td>1</td>\n    </tr>\n  </tbody>\n</table>\n<p>2310 rows × 20 columns</p>\n</div>"
          },
          "metadata": {},
          "execution_count": 25
        }
      ]
    },
    {
      "cell_type": "markdown",
      "metadata": {
        "id": "0Lu1u5WgxUNj"
      },
      "source": [
        "##### Waveform Database\r\n",
        "Cada instância em uma região 3x3 de uma imagem, são 2310 exemplos e 19 atributos de dados contínuos.\r\n",
        "O dataset Waveform Database Generator contém dados relacionados a geração de três tipos de onda. \r\n",
        "São 21 atributos de dados contínuos que variam de 0 a 6 e 500 mil instâncias."
      ]
    },
    {
      "cell_type": "code",
      "metadata": {
        "id": "6Oz2VqlNsm5S",
        "colab": {
          "base_uri": "https://localhost:8080/",
          "height": 439
        },
        "outputId": "91ed38e4-fbbc-4777-ff29-50db65674f46"
      },
      "source": [
        "waveform_feats = [\"feat\"+str(1+n) for n in range(21)]\r\n",
        "\r\n",
        "waveform_data = pd.read_csv('waveform.data', sep=',',names=waveform_feats+['class'])\r\n",
        "waveform_data"
      ],
      "execution_count": 26,
      "outputs": [
        {
          "output_type": "execute_result",
          "data": {
            "text/plain": [
              "      feat1  feat2  feat3  feat4  feat5  feat6  feat7  feat8  feat9  feat10  \\\n",
              "0     -1.23  -1.56  -1.75  -0.28   0.60   2.22   0.85   0.21  -0.20    0.89   \n",
              "1     -0.69   2.43   0.61   2.08   2.30   3.25   5.52   4.55   2.97    2.22   \n",
              "2     -0.12  -0.94   1.29   2.59   2.42   3.55   4.94   3.25   1.90    2.07   \n",
              "3      0.86   0.29   2.19  -0.02   1.13   2.51   2.37   5.45   5.45    4.84   \n",
              "4      1.16   0.37   0.40  -0.59   2.66   1.00   2.69   4.06   5.34    3.53   \n",
              "...     ...    ...    ...    ...    ...    ...    ...    ...    ...     ...   \n",
              "4995  -0.65   0.69   2.29  -0.16   0.51   0.26   2.34  -0.42   0.49    0.31   \n",
              "4996  -0.02   0.67   2.34   3.18   2.16   4.77   6.70   4.54   4.92    3.39   \n",
              "4997   0.01  -1.99   0.16   2.30  -0.53   1.93   3.61   3.00   4.61    5.73   \n",
              "4998  -0.40   0.41  -0.48   1.04   0.79  -0.66   1.18   0.52   2.20    0.59   \n",
              "4999   0.63  -0.07   2.71   2.55   3.36   3.22   3.69   4.67   3.45    3.87   \n",
              "\n",
              "      ...  feat13  feat14  feat15  feat16  feat17  feat18  feat19  feat20  \\\n",
              "0     ...    2.89    7.75    4.59    3.15    5.12    3.32    1.20    0.24   \n",
              "1     ...    1.24    1.89    1.88   -1.34    0.83    1.41    1.78    0.60   \n",
              "2     ...    2.50    0.12    1.41    2.78    0.64    0.62   -0.01   -0.79   \n",
              "3     ...    2.58    1.40    1.24    1.41    1.07   -1.43    2.84   -1.18   \n",
              "4     ...    4.30    1.84    1.73    0.21   -0.18    0.13   -0.21   -0.80   \n",
              "...   ...     ...     ...     ...     ...     ...     ...     ...     ...   \n",
              "4995  ...    3.46    4.81    5.49    5.19    3.10    3.86    2.96    1.09   \n",
              "4996  ...    1.53    2.52    1.14   -1.56   -1.18   -0.56    0.02   -1.05   \n",
              "4997  ...    3.14    3.04    1.61    0.60   -0.52    0.62    1.00    1.21   \n",
              "4998  ...    3.64    3.62    5.97    2.63    3.83    1.72    2.08    1.31   \n",
              "4999  ...   -0.52    1.90    0.88    3.15    1.27   -0.53    0.09    0.01   \n",
              "\n",
              "      feat21  class  \n",
              "0      -0.56      2  \n",
              "1       2.42      1  \n",
              "2      -0.12      0  \n",
              "3       1.12      1  \n",
              "4      -0.68      1  \n",
              "...      ...    ...  \n",
              "4995   -1.42      0  \n",
              "4996   -0.18      1  \n",
              "4997   -0.27      1  \n",
              "4998    1.37      0  \n",
              "4999    0.60      1  \n",
              "\n",
              "[5000 rows x 22 columns]"
            ],
            "text/html": "<div>\n<style scoped>\n    .dataframe tbody tr th:only-of-type {\n        vertical-align: middle;\n    }\n\n    .dataframe tbody tr th {\n        vertical-align: top;\n    }\n\n    .dataframe thead th {\n        text-align: right;\n    }\n</style>\n<table border=\"1\" class=\"dataframe\">\n  <thead>\n    <tr style=\"text-align: right;\">\n      <th></th>\n      <th>feat1</th>\n      <th>feat2</th>\n      <th>feat3</th>\n      <th>feat4</th>\n      <th>feat5</th>\n      <th>feat6</th>\n      <th>feat7</th>\n      <th>feat8</th>\n      <th>feat9</th>\n      <th>feat10</th>\n      <th>...</th>\n      <th>feat13</th>\n      <th>feat14</th>\n      <th>feat15</th>\n      <th>feat16</th>\n      <th>feat17</th>\n      <th>feat18</th>\n      <th>feat19</th>\n      <th>feat20</th>\n      <th>feat21</th>\n      <th>class</th>\n    </tr>\n  </thead>\n  <tbody>\n    <tr>\n      <th>0</th>\n      <td>-1.23</td>\n      <td>-1.56</td>\n      <td>-1.75</td>\n      <td>-0.28</td>\n      <td>0.60</td>\n      <td>2.22</td>\n      <td>0.85</td>\n      <td>0.21</td>\n      <td>-0.20</td>\n      <td>0.89</td>\n      <td>...</td>\n      <td>2.89</td>\n      <td>7.75</td>\n      <td>4.59</td>\n      <td>3.15</td>\n      <td>5.12</td>\n      <td>3.32</td>\n      <td>1.20</td>\n      <td>0.24</td>\n      <td>-0.56</td>\n      <td>2</td>\n    </tr>\n    <tr>\n      <th>1</th>\n      <td>-0.69</td>\n      <td>2.43</td>\n      <td>0.61</td>\n      <td>2.08</td>\n      <td>2.30</td>\n      <td>3.25</td>\n      <td>5.52</td>\n      <td>4.55</td>\n      <td>2.97</td>\n      <td>2.22</td>\n      <td>...</td>\n      <td>1.24</td>\n      <td>1.89</td>\n      <td>1.88</td>\n      <td>-1.34</td>\n      <td>0.83</td>\n      <td>1.41</td>\n      <td>1.78</td>\n      <td>0.60</td>\n      <td>2.42</td>\n      <td>1</td>\n    </tr>\n    <tr>\n      <th>2</th>\n      <td>-0.12</td>\n      <td>-0.94</td>\n      <td>1.29</td>\n      <td>2.59</td>\n      <td>2.42</td>\n      <td>3.55</td>\n      <td>4.94</td>\n      <td>3.25</td>\n      <td>1.90</td>\n      <td>2.07</td>\n      <td>...</td>\n      <td>2.50</td>\n      <td>0.12</td>\n      <td>1.41</td>\n      <td>2.78</td>\n      <td>0.64</td>\n      <td>0.62</td>\n      <td>-0.01</td>\n      <td>-0.79</td>\n      <td>-0.12</td>\n      <td>0</td>\n    </tr>\n    <tr>\n      <th>3</th>\n      <td>0.86</td>\n      <td>0.29</td>\n      <td>2.19</td>\n      <td>-0.02</td>\n      <td>1.13</td>\n      <td>2.51</td>\n      <td>2.37</td>\n      <td>5.45</td>\n      <td>5.45</td>\n      <td>4.84</td>\n      <td>...</td>\n      <td>2.58</td>\n      <td>1.40</td>\n      <td>1.24</td>\n      <td>1.41</td>\n      <td>1.07</td>\n      <td>-1.43</td>\n      <td>2.84</td>\n      <td>-1.18</td>\n      <td>1.12</td>\n      <td>1</td>\n    </tr>\n    <tr>\n      <th>4</th>\n      <td>1.16</td>\n      <td>0.37</td>\n      <td>0.40</td>\n      <td>-0.59</td>\n      <td>2.66</td>\n      <td>1.00</td>\n      <td>2.69</td>\n      <td>4.06</td>\n      <td>5.34</td>\n      <td>3.53</td>\n      <td>...</td>\n      <td>4.30</td>\n      <td>1.84</td>\n      <td>1.73</td>\n      <td>0.21</td>\n      <td>-0.18</td>\n      <td>0.13</td>\n      <td>-0.21</td>\n      <td>-0.80</td>\n      <td>-0.68</td>\n      <td>1</td>\n    </tr>\n    <tr>\n      <th>...</th>\n      <td>...</td>\n      <td>...</td>\n      <td>...</td>\n      <td>...</td>\n      <td>...</td>\n      <td>...</td>\n      <td>...</td>\n      <td>...</td>\n      <td>...</td>\n      <td>...</td>\n      <td>...</td>\n      <td>...</td>\n      <td>...</td>\n      <td>...</td>\n      <td>...</td>\n      <td>...</td>\n      <td>...</td>\n      <td>...</td>\n      <td>...</td>\n      <td>...</td>\n      <td>...</td>\n    </tr>\n    <tr>\n      <th>4995</th>\n      <td>-0.65</td>\n      <td>0.69</td>\n      <td>2.29</td>\n      <td>-0.16</td>\n      <td>0.51</td>\n      <td>0.26</td>\n      <td>2.34</td>\n      <td>-0.42</td>\n      <td>0.49</td>\n      <td>0.31</td>\n      <td>...</td>\n      <td>3.46</td>\n      <td>4.81</td>\n      <td>5.49</td>\n      <td>5.19</td>\n      <td>3.10</td>\n      <td>3.86</td>\n      <td>2.96</td>\n      <td>1.09</td>\n      <td>-1.42</td>\n      <td>0</td>\n    </tr>\n    <tr>\n      <th>4996</th>\n      <td>-0.02</td>\n      <td>0.67</td>\n      <td>2.34</td>\n      <td>3.18</td>\n      <td>2.16</td>\n      <td>4.77</td>\n      <td>6.70</td>\n      <td>4.54</td>\n      <td>4.92</td>\n      <td>3.39</td>\n      <td>...</td>\n      <td>1.53</td>\n      <td>2.52</td>\n      <td>1.14</td>\n      <td>-1.56</td>\n      <td>-1.18</td>\n      <td>-0.56</td>\n      <td>0.02</td>\n      <td>-1.05</td>\n      <td>-0.18</td>\n      <td>1</td>\n    </tr>\n    <tr>\n      <th>4997</th>\n      <td>0.01</td>\n      <td>-1.99</td>\n      <td>0.16</td>\n      <td>2.30</td>\n      <td>-0.53</td>\n      <td>1.93</td>\n      <td>3.61</td>\n      <td>3.00</td>\n      <td>4.61</td>\n      <td>5.73</td>\n      <td>...</td>\n      <td>3.14</td>\n      <td>3.04</td>\n      <td>1.61</td>\n      <td>0.60</td>\n      <td>-0.52</td>\n      <td>0.62</td>\n      <td>1.00</td>\n      <td>1.21</td>\n      <td>-0.27</td>\n      <td>1</td>\n    </tr>\n    <tr>\n      <th>4998</th>\n      <td>-0.40</td>\n      <td>0.41</td>\n      <td>-0.48</td>\n      <td>1.04</td>\n      <td>0.79</td>\n      <td>-0.66</td>\n      <td>1.18</td>\n      <td>0.52</td>\n      <td>2.20</td>\n      <td>0.59</td>\n      <td>...</td>\n      <td>3.64</td>\n      <td>3.62</td>\n      <td>5.97</td>\n      <td>2.63</td>\n      <td>3.83</td>\n      <td>1.72</td>\n      <td>2.08</td>\n      <td>1.31</td>\n      <td>1.37</td>\n      <td>0</td>\n    </tr>\n    <tr>\n      <th>4999</th>\n      <td>0.63</td>\n      <td>-0.07</td>\n      <td>2.71</td>\n      <td>2.55</td>\n      <td>3.36</td>\n      <td>3.22</td>\n      <td>3.69</td>\n      <td>4.67</td>\n      <td>3.45</td>\n      <td>3.87</td>\n      <td>...</td>\n      <td>-0.52</td>\n      <td>1.90</td>\n      <td>0.88</td>\n      <td>3.15</td>\n      <td>1.27</td>\n      <td>-0.53</td>\n      <td>0.09</td>\n      <td>0.01</td>\n      <td>0.60</td>\n      <td>1</td>\n    </tr>\n  </tbody>\n</table>\n<p>5000 rows × 22 columns</p>\n</div>"
          },
          "metadata": {},
          "execution_count": 26
        }
      ]
    },
    {
      "cell_type": "markdown",
      "metadata": {
        "id": "T1KLM9OZiQi0"
      },
      "source": [
        "### PRÉ-PROCESSAMENTO\r\n",
        "\r\n",
        "O pré-processamento utilizado levou em consideração ao menos uma técnica. \r\n",
        "O objetivo principal foi melhor preparar os dados para a classificação utilizando o KNN.\r\n",
        "1. Para o \\textit{Iris dataset} foi realizada a normalização dos atributos entre os valores de 0 e 1 de todas as instâncias.\r\n",
        "Sendo assim, a soma de todos os atributos são iguais a 1. Diferentemente da base de dados original, agora, teremos a proporção de cada atributo o que pode revelar a importância dele para classe em específico. \r\n",
        "Além disso, dados reais entre [0,1] ajudam a evitar possíveis distorções em relação aos atributos. \r\n",
        "\r\n",
        "2. Para as bases de dados \\textit{Statlog (Image Segmentation)} e \\textit{Waveform Database Generator} foi utilizada a análise do principal componente (\\textit{PCA}). \r\n",
        "Isso permite que possamos reduzir a quantidade de atributos de cada instância e consequentemente reduzir o tempo de execução do algoritmo. \r\n",
        "Foram selecionados 4 componentes principais de cada conjunto de atributos relacionado as instâncias da base de dados.\r\n",
        "\r\n",
        "Em todos os casos os resultados obtidos com dados pré-processados foram melhores do que com dados brutos.\r\n"
      ]
    },
    {
      "cell_type": "code",
      "metadata": {
        "id": "WXeQN1G7pfNF"
      },
      "source": [
        "from sklearn import preprocessing\r\n",
        "from sklearn.decomposition import PCA"
      ],
      "execution_count": 27,
      "outputs": []
    },
    {
      "cell_type": "markdown",
      "metadata": {
        "id": "pT2r_Cw0ubBq"
      },
      "source": [
        "#### Iris Dataset\r\n",
        "\r\n",
        "Para o Iris dataset foi realizada a normalização dos atributos entre os valores de 0 e 1 de todas as instâncias.  Sendo assim, a soma de todos os atributos são iguais a 1.  Diferentemente dabase de dados original, agora, teremos a proporção de cada atributo o que pode revelar a importância dele para classe em específico. Além disso, dados reais entre [0,1] ajudam a evitar possíveis distorções em relação aos atributos. "
      ]
    },
    {
      "cell_type": "code",
      "metadata": {
        "colab": {
          "base_uri": "https://localhost:8080/"
        },
        "id": "DXsgl3VXkPgp",
        "outputId": "4e977efe-7539-4346-898e-dcfa9871acdd"
      },
      "source": [
        "feats = [\"feat1\", \"feat2\", \"feat3\", \"feat4\"]\r\n",
        "X = iris_data[feats]\r\n",
        "\r\n",
        "# Normalizando os dados\r\n",
        "X_normalized = preprocessing.normalize(X, norm='l2')\r\n",
        "X_normalized[:5]"
      ],
      "execution_count": 28,
      "outputs": [
        {
          "output_type": "execute_result",
          "data": {
            "text/plain": [
              "array([[0.80377277, 0.55160877, 0.22064351, 0.0315205 ],\n",
              "       [0.82813287, 0.50702013, 0.23660939, 0.03380134],\n",
              "       [0.80533308, 0.54831188, 0.2227517 , 0.03426949],\n",
              "       [0.80003025, 0.53915082, 0.26087943, 0.03478392],\n",
              "       [0.790965  , 0.5694948 , 0.2214702 , 0.0316386 ]])"
            ]
          },
          "metadata": {},
          "execution_count": 28
        }
      ]
    },
    {
      "cell_type": "code",
      "metadata": {
        "colab": {
          "base_uri": "https://localhost:8080/",
          "height": 419
        },
        "id": "NsF-bJPil5LG",
        "outputId": "e05a65ab-a8a1-4214-8521-21b1ab6c716c"
      },
      "source": [
        "iris_data[[\"feat1\", \"feat2\", \"feat3\", \"feat4\"]] = X_normalized\r\n",
        "iris_data.to_csv('iris_normalized.csv', encoding='utf-8')\r\n",
        "iris_data"
      ],
      "execution_count": 29,
      "outputs": [
        {
          "output_type": "execute_result",
          "data": {
            "text/plain": [
              "        feat1     feat2     feat3     feat4           class\n",
              "0    0.803773  0.551609  0.220644  0.031521     Iris-setosa\n",
              "1    0.828133  0.507020  0.236609  0.033801     Iris-setosa\n",
              "2    0.805333  0.548312  0.222752  0.034269     Iris-setosa\n",
              "3    0.800030  0.539151  0.260879  0.034784     Iris-setosa\n",
              "4    0.790965  0.569495  0.221470  0.031639     Iris-setosa\n",
              "..        ...       ...       ...       ...             ...\n",
              "145  0.721557  0.323085  0.560015  0.247699  Iris-virginica\n",
              "146  0.729654  0.289545  0.579090  0.220054  Iris-virginica\n",
              "147  0.716539  0.330710  0.573231  0.220474  Iris-virginica\n",
              "148  0.674671  0.369981  0.587616  0.250281  Iris-virginica\n",
              "149  0.690259  0.350979  0.596665  0.210588  Iris-virginica\n",
              "\n",
              "[150 rows x 5 columns]"
            ],
            "text/html": "<div>\n<style scoped>\n    .dataframe tbody tr th:only-of-type {\n        vertical-align: middle;\n    }\n\n    .dataframe tbody tr th {\n        vertical-align: top;\n    }\n\n    .dataframe thead th {\n        text-align: right;\n    }\n</style>\n<table border=\"1\" class=\"dataframe\">\n  <thead>\n    <tr style=\"text-align: right;\">\n      <th></th>\n      <th>feat1</th>\n      <th>feat2</th>\n      <th>feat3</th>\n      <th>feat4</th>\n      <th>class</th>\n    </tr>\n  </thead>\n  <tbody>\n    <tr>\n      <th>0</th>\n      <td>0.803773</td>\n      <td>0.551609</td>\n      <td>0.220644</td>\n      <td>0.031521</td>\n      <td>Iris-setosa</td>\n    </tr>\n    <tr>\n      <th>1</th>\n      <td>0.828133</td>\n      <td>0.507020</td>\n      <td>0.236609</td>\n      <td>0.033801</td>\n      <td>Iris-setosa</td>\n    </tr>\n    <tr>\n      <th>2</th>\n      <td>0.805333</td>\n      <td>0.548312</td>\n      <td>0.222752</td>\n      <td>0.034269</td>\n      <td>Iris-setosa</td>\n    </tr>\n    <tr>\n      <th>3</th>\n      <td>0.800030</td>\n      <td>0.539151</td>\n      <td>0.260879</td>\n      <td>0.034784</td>\n      <td>Iris-setosa</td>\n    </tr>\n    <tr>\n      <th>4</th>\n      <td>0.790965</td>\n      <td>0.569495</td>\n      <td>0.221470</td>\n      <td>0.031639</td>\n      <td>Iris-setosa</td>\n    </tr>\n    <tr>\n      <th>...</th>\n      <td>...</td>\n      <td>...</td>\n      <td>...</td>\n      <td>...</td>\n      <td>...</td>\n    </tr>\n    <tr>\n      <th>145</th>\n      <td>0.721557</td>\n      <td>0.323085</td>\n      <td>0.560015</td>\n      <td>0.247699</td>\n      <td>Iris-virginica</td>\n    </tr>\n    <tr>\n      <th>146</th>\n      <td>0.729654</td>\n      <td>0.289545</td>\n      <td>0.579090</td>\n      <td>0.220054</td>\n      <td>Iris-virginica</td>\n    </tr>\n    <tr>\n      <th>147</th>\n      <td>0.716539</td>\n      <td>0.330710</td>\n      <td>0.573231</td>\n      <td>0.220474</td>\n      <td>Iris-virginica</td>\n    </tr>\n    <tr>\n      <th>148</th>\n      <td>0.674671</td>\n      <td>0.369981</td>\n      <td>0.587616</td>\n      <td>0.250281</td>\n      <td>Iris-virginica</td>\n    </tr>\n    <tr>\n      <th>149</th>\n      <td>0.690259</td>\n      <td>0.350979</td>\n      <td>0.596665</td>\n      <td>0.210588</td>\n      <td>Iris-virginica</td>\n    </tr>\n  </tbody>\n</table>\n<p>150 rows × 5 columns</p>\n</div>"
          },
          "metadata": {},
          "execution_count": 29
        }
      ]
    },
    {
      "cell_type": "markdown",
      "metadata": {
        "id": "Wk8ucCFTyZ7H"
      },
      "source": [
        "Para as bases de dados *Statlog (Image Segmentation)* e *Waveform Database Generator* além da normalização dos dados feita na base de dados do *Iris dataset* foi utilizada uma análise do principal componente (**PCA**) . \r\n",
        "Isso permite que possamos reduzir a quantidade de atributos, extraindo as informações mais relevante. \r\n",
        "Foram selecionados 4 componentes principais de cada conjunto de atributos relacionado as instâncias da base de dados."
      ]
    },
    {
      "cell_type": "markdown",
      "metadata": {
        "id": "WXV5cjifuiAn"
      },
      "source": [
        "#### Statlog (Image Segmentation)\r\n",
        "\r\n"
      ]
    },
    {
      "cell_type": "code",
      "metadata": {
        "colab": {
          "base_uri": "https://localhost:8080/"
        },
        "id": "P_6SQRdvpZS-",
        "outputId": "702a6fc8-2364-4785-e46d-45b460bb7889"
      },
      "source": [
        "# Normalizando os dados\r\n",
        "X = segment_data[segment_feats].to_numpy()\r\n",
        "X_scaled = preprocessing.normalize(X, norm='l2')\r\n",
        "X_scaled.shape"
      ],
      "execution_count": 30,
      "outputs": [
        {
          "output_type": "execute_result",
          "data": {
            "text/plain": [
              "(2310, 19)"
            ]
          },
          "metadata": {},
          "execution_count": 30
        }
      ]
    },
    {
      "cell_type": "code",
      "metadata": {
        "colab": {
          "base_uri": "https://localhost:8080/",
          "height": 419
        },
        "id": "qH2HMJnbqa-c",
        "outputId": "82ac3386-4224-42ac-d68c-cec2842010ca"
      },
      "source": [
        "# Reduzindo as dimensões\r\n",
        "pca = PCA(n_components=4)\r\n",
        "reduced_X = pca.fit_transform(X_scaled)\r\n",
        "reduced_segment = pd.DataFrame(reduced_X, columns=feats)\r\n",
        "reduced_segment[\"class\"] = segment_data[\"class\"]\r\n",
        "reduced_segment.to_csv('reduced_segment.csv')\r\n",
        "reduced_segment"
      ],
      "execution_count": 31,
      "outputs": [
        {
          "output_type": "execute_result",
          "data": {
            "text/plain": [
              "         feat1     feat2     feat3     feat4  class\n",
              "0     0.089021  0.117453 -0.107805  0.067680      6\n",
              "1    -0.378961  0.125825  0.000100 -0.024467      3\n",
              "2     0.639772  0.128962  0.005390 -0.065085      2\n",
              "3    -0.002872 -0.469899 -0.043909  0.035460      6\n",
              "4    -0.002481 -0.375350 -0.084805  0.047596      6\n",
              "...        ...       ...       ...       ...    ...\n",
              "2305 -0.099737 -0.371313 -0.076073  0.046932      1\n",
              "2306  0.741133  0.012196  0.044403 -0.114566      2\n",
              "2307  0.474388 -0.109292 -0.080467  0.079172      4\n",
              "2308 -0.402026  0.048795 -0.002180 -0.022390      3\n",
              "2309 -0.430070 -0.443419  0.052747 -0.059867      1\n",
              "\n",
              "[2310 rows x 5 columns]"
            ],
            "text/html": "<div>\n<style scoped>\n    .dataframe tbody tr th:only-of-type {\n        vertical-align: middle;\n    }\n\n    .dataframe tbody tr th {\n        vertical-align: top;\n    }\n\n    .dataframe thead th {\n        text-align: right;\n    }\n</style>\n<table border=\"1\" class=\"dataframe\">\n  <thead>\n    <tr style=\"text-align: right;\">\n      <th></th>\n      <th>feat1</th>\n      <th>feat2</th>\n      <th>feat3</th>\n      <th>feat4</th>\n      <th>class</th>\n    </tr>\n  </thead>\n  <tbody>\n    <tr>\n      <th>0</th>\n      <td>0.089021</td>\n      <td>0.117453</td>\n      <td>-0.107805</td>\n      <td>0.067680</td>\n      <td>6</td>\n    </tr>\n    <tr>\n      <th>1</th>\n      <td>-0.378961</td>\n      <td>0.125825</td>\n      <td>0.000100</td>\n      <td>-0.024467</td>\n      <td>3</td>\n    </tr>\n    <tr>\n      <th>2</th>\n      <td>0.639772</td>\n      <td>0.128962</td>\n      <td>0.005390</td>\n      <td>-0.065085</td>\n      <td>2</td>\n    </tr>\n    <tr>\n      <th>3</th>\n      <td>-0.002872</td>\n      <td>-0.469899</td>\n      <td>-0.043909</td>\n      <td>0.035460</td>\n      <td>6</td>\n    </tr>\n    <tr>\n      <th>4</th>\n      <td>-0.002481</td>\n      <td>-0.375350</td>\n      <td>-0.084805</td>\n      <td>0.047596</td>\n      <td>6</td>\n    </tr>\n    <tr>\n      <th>...</th>\n      <td>...</td>\n      <td>...</td>\n      <td>...</td>\n      <td>...</td>\n      <td>...</td>\n    </tr>\n    <tr>\n      <th>2305</th>\n      <td>-0.099737</td>\n      <td>-0.371313</td>\n      <td>-0.076073</td>\n      <td>0.046932</td>\n      <td>1</td>\n    </tr>\n    <tr>\n      <th>2306</th>\n      <td>0.741133</td>\n      <td>0.012196</td>\n      <td>0.044403</td>\n      <td>-0.114566</td>\n      <td>2</td>\n    </tr>\n    <tr>\n      <th>2307</th>\n      <td>0.474388</td>\n      <td>-0.109292</td>\n      <td>-0.080467</td>\n      <td>0.079172</td>\n      <td>4</td>\n    </tr>\n    <tr>\n      <th>2308</th>\n      <td>-0.402026</td>\n      <td>0.048795</td>\n      <td>-0.002180</td>\n      <td>-0.022390</td>\n      <td>3</td>\n    </tr>\n    <tr>\n      <th>2309</th>\n      <td>-0.430070</td>\n      <td>-0.443419</td>\n      <td>0.052747</td>\n      <td>-0.059867</td>\n      <td>1</td>\n    </tr>\n  </tbody>\n</table>\n<p>2310 rows × 5 columns</p>\n</div>"
          },
          "metadata": {},
          "execution_count": 31
        }
      ]
    },
    {
      "cell_type": "markdown",
      "metadata": {
        "id": "7WFAIDYWuzY6"
      },
      "source": [
        "#### Waveform Dataset"
      ]
    },
    {
      "cell_type": "code",
      "metadata": {
        "colab": {
          "base_uri": "https://localhost:8080/",
          "height": 439
        },
        "id": "PmT-NqX8rz7T",
        "outputId": "a8d956bb-d75b-4f49-bade-2f8e1b9abe8a"
      },
      "source": [
        "waveform_data"
      ],
      "execution_count": 32,
      "outputs": [
        {
          "output_type": "execute_result",
          "data": {
            "text/plain": [
              "      feat1  feat2  feat3  feat4  feat5  feat6  feat7  feat8  feat9  feat10  \\\n",
              "0     -1.23  -1.56  -1.75  -0.28   0.60   2.22   0.85   0.21  -0.20    0.89   \n",
              "1     -0.69   2.43   0.61   2.08   2.30   3.25   5.52   4.55   2.97    2.22   \n",
              "2     -0.12  -0.94   1.29   2.59   2.42   3.55   4.94   3.25   1.90    2.07   \n",
              "3      0.86   0.29   2.19  -0.02   1.13   2.51   2.37   5.45   5.45    4.84   \n",
              "4      1.16   0.37   0.40  -0.59   2.66   1.00   2.69   4.06   5.34    3.53   \n",
              "...     ...    ...    ...    ...    ...    ...    ...    ...    ...     ...   \n",
              "4995  -0.65   0.69   2.29  -0.16   0.51   0.26   2.34  -0.42   0.49    0.31   \n",
              "4996  -0.02   0.67   2.34   3.18   2.16   4.77   6.70   4.54   4.92    3.39   \n",
              "4997   0.01  -1.99   0.16   2.30  -0.53   1.93   3.61   3.00   4.61    5.73   \n",
              "4998  -0.40   0.41  -0.48   1.04   0.79  -0.66   1.18   0.52   2.20    0.59   \n",
              "4999   0.63  -0.07   2.71   2.55   3.36   3.22   3.69   4.67   3.45    3.87   \n",
              "\n",
              "      ...  feat13  feat14  feat15  feat16  feat17  feat18  feat19  feat20  \\\n",
              "0     ...    2.89    7.75    4.59    3.15    5.12    3.32    1.20    0.24   \n",
              "1     ...    1.24    1.89    1.88   -1.34    0.83    1.41    1.78    0.60   \n",
              "2     ...    2.50    0.12    1.41    2.78    0.64    0.62   -0.01   -0.79   \n",
              "3     ...    2.58    1.40    1.24    1.41    1.07   -1.43    2.84   -1.18   \n",
              "4     ...    4.30    1.84    1.73    0.21   -0.18    0.13   -0.21   -0.80   \n",
              "...   ...     ...     ...     ...     ...     ...     ...     ...     ...   \n",
              "4995  ...    3.46    4.81    5.49    5.19    3.10    3.86    2.96    1.09   \n",
              "4996  ...    1.53    2.52    1.14   -1.56   -1.18   -0.56    0.02   -1.05   \n",
              "4997  ...    3.14    3.04    1.61    0.60   -0.52    0.62    1.00    1.21   \n",
              "4998  ...    3.64    3.62    5.97    2.63    3.83    1.72    2.08    1.31   \n",
              "4999  ...   -0.52    1.90    0.88    3.15    1.27   -0.53    0.09    0.01   \n",
              "\n",
              "      feat21  class  \n",
              "0      -0.56      2  \n",
              "1       2.42      1  \n",
              "2      -0.12      0  \n",
              "3       1.12      1  \n",
              "4      -0.68      1  \n",
              "...      ...    ...  \n",
              "4995   -1.42      0  \n",
              "4996   -0.18      1  \n",
              "4997   -0.27      1  \n",
              "4998    1.37      0  \n",
              "4999    0.60      1  \n",
              "\n",
              "[5000 rows x 22 columns]"
            ],
            "text/html": "<div>\n<style scoped>\n    .dataframe tbody tr th:only-of-type {\n        vertical-align: middle;\n    }\n\n    .dataframe tbody tr th {\n        vertical-align: top;\n    }\n\n    .dataframe thead th {\n        text-align: right;\n    }\n</style>\n<table border=\"1\" class=\"dataframe\">\n  <thead>\n    <tr style=\"text-align: right;\">\n      <th></th>\n      <th>feat1</th>\n      <th>feat2</th>\n      <th>feat3</th>\n      <th>feat4</th>\n      <th>feat5</th>\n      <th>feat6</th>\n      <th>feat7</th>\n      <th>feat8</th>\n      <th>feat9</th>\n      <th>feat10</th>\n      <th>...</th>\n      <th>feat13</th>\n      <th>feat14</th>\n      <th>feat15</th>\n      <th>feat16</th>\n      <th>feat17</th>\n      <th>feat18</th>\n      <th>feat19</th>\n      <th>feat20</th>\n      <th>feat21</th>\n      <th>class</th>\n    </tr>\n  </thead>\n  <tbody>\n    <tr>\n      <th>0</th>\n      <td>-1.23</td>\n      <td>-1.56</td>\n      <td>-1.75</td>\n      <td>-0.28</td>\n      <td>0.60</td>\n      <td>2.22</td>\n      <td>0.85</td>\n      <td>0.21</td>\n      <td>-0.20</td>\n      <td>0.89</td>\n      <td>...</td>\n      <td>2.89</td>\n      <td>7.75</td>\n      <td>4.59</td>\n      <td>3.15</td>\n      <td>5.12</td>\n      <td>3.32</td>\n      <td>1.20</td>\n      <td>0.24</td>\n      <td>-0.56</td>\n      <td>2</td>\n    </tr>\n    <tr>\n      <th>1</th>\n      <td>-0.69</td>\n      <td>2.43</td>\n      <td>0.61</td>\n      <td>2.08</td>\n      <td>2.30</td>\n      <td>3.25</td>\n      <td>5.52</td>\n      <td>4.55</td>\n      <td>2.97</td>\n      <td>2.22</td>\n      <td>...</td>\n      <td>1.24</td>\n      <td>1.89</td>\n      <td>1.88</td>\n      <td>-1.34</td>\n      <td>0.83</td>\n      <td>1.41</td>\n      <td>1.78</td>\n      <td>0.60</td>\n      <td>2.42</td>\n      <td>1</td>\n    </tr>\n    <tr>\n      <th>2</th>\n      <td>-0.12</td>\n      <td>-0.94</td>\n      <td>1.29</td>\n      <td>2.59</td>\n      <td>2.42</td>\n      <td>3.55</td>\n      <td>4.94</td>\n      <td>3.25</td>\n      <td>1.90</td>\n      <td>2.07</td>\n      <td>...</td>\n      <td>2.50</td>\n      <td>0.12</td>\n      <td>1.41</td>\n      <td>2.78</td>\n      <td>0.64</td>\n      <td>0.62</td>\n      <td>-0.01</td>\n      <td>-0.79</td>\n      <td>-0.12</td>\n      <td>0</td>\n    </tr>\n    <tr>\n      <th>3</th>\n      <td>0.86</td>\n      <td>0.29</td>\n      <td>2.19</td>\n      <td>-0.02</td>\n      <td>1.13</td>\n      <td>2.51</td>\n      <td>2.37</td>\n      <td>5.45</td>\n      <td>5.45</td>\n      <td>4.84</td>\n      <td>...</td>\n      <td>2.58</td>\n      <td>1.40</td>\n      <td>1.24</td>\n      <td>1.41</td>\n      <td>1.07</td>\n      <td>-1.43</td>\n      <td>2.84</td>\n      <td>-1.18</td>\n      <td>1.12</td>\n      <td>1</td>\n    </tr>\n    <tr>\n      <th>4</th>\n      <td>1.16</td>\n      <td>0.37</td>\n      <td>0.40</td>\n      <td>-0.59</td>\n      <td>2.66</td>\n      <td>1.00</td>\n      <td>2.69</td>\n      <td>4.06</td>\n      <td>5.34</td>\n      <td>3.53</td>\n      <td>...</td>\n      <td>4.30</td>\n      <td>1.84</td>\n      <td>1.73</td>\n      <td>0.21</td>\n      <td>-0.18</td>\n      <td>0.13</td>\n      <td>-0.21</td>\n      <td>-0.80</td>\n      <td>-0.68</td>\n      <td>1</td>\n    </tr>\n    <tr>\n      <th>...</th>\n      <td>...</td>\n      <td>...</td>\n      <td>...</td>\n      <td>...</td>\n      <td>...</td>\n      <td>...</td>\n      <td>...</td>\n      <td>...</td>\n      <td>...</td>\n      <td>...</td>\n      <td>...</td>\n      <td>...</td>\n      <td>...</td>\n      <td>...</td>\n      <td>...</td>\n      <td>...</td>\n      <td>...</td>\n      <td>...</td>\n      <td>...</td>\n      <td>...</td>\n      <td>...</td>\n    </tr>\n    <tr>\n      <th>4995</th>\n      <td>-0.65</td>\n      <td>0.69</td>\n      <td>2.29</td>\n      <td>-0.16</td>\n      <td>0.51</td>\n      <td>0.26</td>\n      <td>2.34</td>\n      <td>-0.42</td>\n      <td>0.49</td>\n      <td>0.31</td>\n      <td>...</td>\n      <td>3.46</td>\n      <td>4.81</td>\n      <td>5.49</td>\n      <td>5.19</td>\n      <td>3.10</td>\n      <td>3.86</td>\n      <td>2.96</td>\n      <td>1.09</td>\n      <td>-1.42</td>\n      <td>0</td>\n    </tr>\n    <tr>\n      <th>4996</th>\n      <td>-0.02</td>\n      <td>0.67</td>\n      <td>2.34</td>\n      <td>3.18</td>\n      <td>2.16</td>\n      <td>4.77</td>\n      <td>6.70</td>\n      <td>4.54</td>\n      <td>4.92</td>\n      <td>3.39</td>\n      <td>...</td>\n      <td>1.53</td>\n      <td>2.52</td>\n      <td>1.14</td>\n      <td>-1.56</td>\n      <td>-1.18</td>\n      <td>-0.56</td>\n      <td>0.02</td>\n      <td>-1.05</td>\n      <td>-0.18</td>\n      <td>1</td>\n    </tr>\n    <tr>\n      <th>4997</th>\n      <td>0.01</td>\n      <td>-1.99</td>\n      <td>0.16</td>\n      <td>2.30</td>\n      <td>-0.53</td>\n      <td>1.93</td>\n      <td>3.61</td>\n      <td>3.00</td>\n      <td>4.61</td>\n      <td>5.73</td>\n      <td>...</td>\n      <td>3.14</td>\n      <td>3.04</td>\n      <td>1.61</td>\n      <td>0.60</td>\n      <td>-0.52</td>\n      <td>0.62</td>\n      <td>1.00</td>\n      <td>1.21</td>\n      <td>-0.27</td>\n      <td>1</td>\n    </tr>\n    <tr>\n      <th>4998</th>\n      <td>-0.40</td>\n      <td>0.41</td>\n      <td>-0.48</td>\n      <td>1.04</td>\n      <td>0.79</td>\n      <td>-0.66</td>\n      <td>1.18</td>\n      <td>0.52</td>\n      <td>2.20</td>\n      <td>0.59</td>\n      <td>...</td>\n      <td>3.64</td>\n      <td>3.62</td>\n      <td>5.97</td>\n      <td>2.63</td>\n      <td>3.83</td>\n      <td>1.72</td>\n      <td>2.08</td>\n      <td>1.31</td>\n      <td>1.37</td>\n      <td>0</td>\n    </tr>\n    <tr>\n      <th>4999</th>\n      <td>0.63</td>\n      <td>-0.07</td>\n      <td>2.71</td>\n      <td>2.55</td>\n      <td>3.36</td>\n      <td>3.22</td>\n      <td>3.69</td>\n      <td>4.67</td>\n      <td>3.45</td>\n      <td>3.87</td>\n      <td>...</td>\n      <td>-0.52</td>\n      <td>1.90</td>\n      <td>0.88</td>\n      <td>3.15</td>\n      <td>1.27</td>\n      <td>-0.53</td>\n      <td>0.09</td>\n      <td>0.01</td>\n      <td>0.60</td>\n      <td>1</td>\n    </tr>\n  </tbody>\n</table>\n<p>5000 rows × 22 columns</p>\n</div>"
          },
          "metadata": {},
          "execution_count": 32
        }
      ]
    },
    {
      "cell_type": "code",
      "metadata": {
        "colab": {
          "base_uri": "https://localhost:8080/"
        },
        "id": "NqlOlKs0wk3o",
        "outputId": "30763d44-f5f1-44cf-b0b4-1f8849748302"
      },
      "source": [
        "# Normalizando os dados\r\n",
        "X = waveform_data[waveform_feats].to_numpy()\r\n",
        "X_scaled = preprocessing.normalize(X, norm='l2')\r\n",
        "X_scaled[:1]"
      ],
      "execution_count": 33,
      "outputs": [
        {
          "output_type": "execute_result",
          "data": {
            "text/plain": [
              "array([[-0.09399613, -0.11921461, -0.13373433, -0.02139749,  0.04585177,\n",
              "         0.16965156,  0.06495668,  0.01604812, -0.01528392,  0.06801346,\n",
              "         0.08253319,  0.3209624 ,  0.2208527 ,  0.59225205,  0.35076605,\n",
              "         0.2407218 ,  0.39126845,  0.25371314,  0.09170354,  0.01834071,\n",
              "        -0.04279499]])"
            ]
          },
          "metadata": {},
          "execution_count": 33
        }
      ]
    },
    {
      "cell_type": "code",
      "metadata": {
        "colab": {
          "base_uri": "https://localhost:8080/",
          "height": 419
        },
        "id": "_I3eaY-UwnXz",
        "outputId": "dbb85eaa-2e0c-4cb8-a247-cd48d4f9a770"
      },
      "source": [
        "# Reduzindo as dimensões\r\n",
        "pca = PCA(n_components=4)\r\n",
        "reduced_X = pca.fit_transform(X_scaled)\r\n",
        "reduced_waveform = pd.DataFrame(reduced_X, columns=feats)\r\n",
        "reduced_waveform[\"class\"] = waveform_data[\"class\"]\r\n",
        "reduced_waveform.to_csv('reduced_waveform.csv')\r\n",
        "reduced_waveform"
      ],
      "execution_count": 34,
      "outputs": [
        {
          "output_type": "execute_result",
          "data": {
            "text/plain": [
              "         feat1     feat2     feat3     feat4  class\n",
              "0     0.557574  0.227024 -0.175546 -0.040151      2\n",
              "1    -0.398082  0.155000  0.000809 -0.034156      1\n",
              "2    -0.349618  0.311768 -0.071780 -0.001345      0\n",
              "3    -0.238480 -0.223338 -0.062328  0.095110      1\n",
              "4    -0.173347 -0.330354 -0.028584  0.140606      1\n",
              "...        ...       ...       ...       ...    ...\n",
              "4995  0.545696  0.325980 -0.102511  0.111551      0\n",
              "4996 -0.576003  0.045588 -0.140235 -0.066342      1\n",
              "4997 -0.137057 -0.302891 -0.027697 -0.121182      1\n",
              "4998  0.511200  0.158422 -0.123421  0.065251      0\n",
              "4999 -0.389715  0.119560  0.043798  0.028139      1\n",
              "\n",
              "[5000 rows x 5 columns]"
            ],
            "text/html": "<div>\n<style scoped>\n    .dataframe tbody tr th:only-of-type {\n        vertical-align: middle;\n    }\n\n    .dataframe tbody tr th {\n        vertical-align: top;\n    }\n\n    .dataframe thead th {\n        text-align: right;\n    }\n</style>\n<table border=\"1\" class=\"dataframe\">\n  <thead>\n    <tr style=\"text-align: right;\">\n      <th></th>\n      <th>feat1</th>\n      <th>feat2</th>\n      <th>feat3</th>\n      <th>feat4</th>\n      <th>class</th>\n    </tr>\n  </thead>\n  <tbody>\n    <tr>\n      <th>0</th>\n      <td>0.557574</td>\n      <td>0.227024</td>\n      <td>-0.175546</td>\n      <td>-0.040151</td>\n      <td>2</td>\n    </tr>\n    <tr>\n      <th>1</th>\n      <td>-0.398082</td>\n      <td>0.155000</td>\n      <td>0.000809</td>\n      <td>-0.034156</td>\n      <td>1</td>\n    </tr>\n    <tr>\n      <th>2</th>\n      <td>-0.349618</td>\n      <td>0.311768</td>\n      <td>-0.071780</td>\n      <td>-0.001345</td>\n      <td>0</td>\n    </tr>\n    <tr>\n      <th>3</th>\n      <td>-0.238480</td>\n      <td>-0.223338</td>\n      <td>-0.062328</td>\n      <td>0.095110</td>\n      <td>1</td>\n    </tr>\n    <tr>\n      <th>4</th>\n      <td>-0.173347</td>\n      <td>-0.330354</td>\n      <td>-0.028584</td>\n      <td>0.140606</td>\n      <td>1</td>\n    </tr>\n    <tr>\n      <th>...</th>\n      <td>...</td>\n      <td>...</td>\n      <td>...</td>\n      <td>...</td>\n      <td>...</td>\n    </tr>\n    <tr>\n      <th>4995</th>\n      <td>0.545696</td>\n      <td>0.325980</td>\n      <td>-0.102511</td>\n      <td>0.111551</td>\n      <td>0</td>\n    </tr>\n    <tr>\n      <th>4996</th>\n      <td>-0.576003</td>\n      <td>0.045588</td>\n      <td>-0.140235</td>\n      <td>-0.066342</td>\n      <td>1</td>\n    </tr>\n    <tr>\n      <th>4997</th>\n      <td>-0.137057</td>\n      <td>-0.302891</td>\n      <td>-0.027697</td>\n      <td>-0.121182</td>\n      <td>1</td>\n    </tr>\n    <tr>\n      <th>4998</th>\n      <td>0.511200</td>\n      <td>0.158422</td>\n      <td>-0.123421</td>\n      <td>0.065251</td>\n      <td>0</td>\n    </tr>\n    <tr>\n      <th>4999</th>\n      <td>-0.389715</td>\n      <td>0.119560</td>\n      <td>0.043798</td>\n      <td>0.028139</td>\n      <td>1</td>\n    </tr>\n  </tbody>\n</table>\n<p>5000 rows × 5 columns</p>\n</div>"
          },
          "metadata": {},
          "execution_count": 34
        }
      ]
    },
    {
      "cell_type": "markdown",
      "metadata": {
        "id": "D1GddNRuhqmK"
      },
      "source": [
        "### Algoritmo de Classificação (k-Vizinhos Mais Próximos)"
      ]
    },
    {
      "cell_type": "markdown",
      "metadata": {
        "id": "GENjSgE8Mbax"
      },
      "source": [
        "Algoritmo de Classificação (k-Vizinhos Mais Próximos)\r\n",
        "O algoritmo do k-Vizinhos Mais Próximos (k-Nearest Neighbors, ou k-NN) consiste em um\r\n",
        "algoritmo supervisionado no qual a classificação de padrões desconhecidos é executada de\r\n",
        "acordo com o processo descrito abaixo.\r\n",
        "1. Dado um padrão de teste xi, representado como um vetor n-dimensional, cuja classe\r\n",
        "deseja-se determinar, faça:\r\n",
        "2. Encontre os k padrões xj do conjunto de treinamento mais próximos a xi, de acordo com\r\n",
        "um critério de distância pré-estabelecido.\r\n",
        "3. Encontre a classe c mais frequente (classe majoritária) entre os k vizinhos mais\r\n",
        "próximos ao padrão xi, atribuindo o rótulo yc desta classe a xi (yi ← yc)."
      ]
    },
    {
      "cell_type": "markdown",
      "metadata": {
        "id": "25SUXYyYzsUo"
      },
      "source": [
        "## EXPERIMENTOS\r\n",
        "\r\n",
        "Os experimentos devem ser executados de acordo com o esquema abaixo para cada\r\n",
        "uma das bases de dados adotadas (tanto as bases de dados brutos, quanto as bases de\r\n",
        "dados pré-processadas):\r\n",
        "\r\n",
        "i. Deve-se executar o 10-fold cross-validation 5 vezes para cada base de\r\n",
        "dados, com cada uma das cinco execuções partindo de uma distribuição\r\n",
        "aleatória dos dados entre cada fold, resultando em um total de 50\r\n",
        "experimentos por base de dados (10 x 5).\r\n",
        "\r\n",
        "ii. Em cada um dos 50 experimentos, os conjuntos de treinamento e teste\r\n",
        "devem ser mantido o mesmo para cada algoritmo a ser testado (mesmo\r\n",
        "ponto de partida para cada modelo), de modo a obter-se uma avaliação justa\r\n",
        "dos resultados.\r\n",
        "\r\n",
        "iii. O algoritmo a ser testado: k-Vizinhos Mais Próximos (K-NN).\r\n",
        "\r\n",
        "iv. Deve-se testar o k-NN com os seguintes valores de tamanho da vizinhança:\r\n",
        "\r\n",
        "k = 3, 5, 7, 9, 15.\r\n",
        "v. A medida de distância adotada tanto no k-NN é a Distância Euclidiana,"
      ]
    },
    {
      "cell_type": "markdown",
      "metadata": {
        "id": "i9h2kiEc7KyL"
      },
      "source": [
        "### ANÁLISE EXPERIMENTAL\r\n",
        "1. A comparação deve ser realizada em relação à Acurácia no Conjunto de Teste.\r\n",
        "2. O tempo médio de execução dos algoritmos deve ser apresentado na tabela de\r\n",
        "resultados.\r\n",
        "3. Deve-se calcular a média, o desvio padrão e a mediana da Acurácia do Conjunto\r\n",
        "de Teste para os 50 testes realizados para cada variação do algoritmo em cada base\r\n",
        "de dados.\r\n",
        "\r\n",
        "4. Uma análise comparativa entre as variações do algoritmo utilizado deve ser\r\n",
        "realizada, de modo a identificar qual valor de k pode ser considerada a mais confiável\r\n",
        "para a resolução dos problemas analisados.\r\n",
        "5. Essa análise deve ser feita de forma empírica (baseado nas medidas obtidas) e através\r\n",
        "do uso de algum teste de hipóteses estatístico (t de Student, Teste de Friedman,\r\n",
        "ANOVA, etc.)."
      ]
    },
    {
      "cell_type": "code",
      "metadata": {
        "id": "zOK8Vf3a3X7y"
      },
      "source": [
        "from sklearn.neighbors import KNeighborsClassifier\r\n",
        "from sklearn.model_selection import cross_validate\r\n",
        "from sklearn.model_selection import ShuffleSplit\r\n",
        "from IPython.display import Image, display\r\n",
        "from collections import defaultdict\r\n",
        "import numpy as np"
      ],
      "execution_count": 35,
      "outputs": []
    },
    {
      "cell_type": "markdown",
      "metadata": {
        "id": "TFAaW1jh2ugu"
      },
      "source": [
        "##### Baixando API para realização do teste de Hipótese\r\n",
        "\r\n",
        "API realizar primeiro o teste de Friedman para verificar se todos os classificadores tem um desempenho equivalente ou não e em seguida constroi um gráfico mostrando o ranqueamento de cada classificador e quais tem um desempenho similar."
      ]
    },
    {
      "cell_type": "code",
      "metadata": {
        "colab": {
          "base_uri": "https://localhost:8080/"
        },
        "id": "chwz1zcOfcJy",
        "outputId": "1e11e3f6-1d35-41d0-9eec-81d83c27a1aa"
      },
      "source": [
        "!git clone https://github.com/Tiagoblima/cd-diagram.git"
      ],
      "execution_count": 36,
      "outputs": [
        {
          "output_type": "stream",
          "name": "stderr",
          "text": [
            "fatal: destination path 'cd-diagram' already exists and is not an empty directory.\n"
          ]
        }
      ]
    },
    {
      "cell_type": "code",
      "metadata": {
        "id": "rS9JwNy6zmdq"
      },
      "source": [
        "k_list = [3, 5, 7, 9, 15]\r\n",
        "k_fold_metrics = {\r\n",
        "    'classifier_name': [],\r\n",
        "    'dataset_name':[],\r\n",
        "    'accuracy':[],\r\n",
        "    'fit_time':[]\r\n",
        "} \r\n",
        "\r\n",
        "def run_experiment(X_, y_):\r\n",
        "  metrics = defaultdict(lambda: [],{})\r\n",
        "\r\n",
        "  \r\n",
        "  metrics['k-neighbors'] = k_list\r\n",
        "  cv = ShuffleSplit(n_splits=10, test_size=0.2, random_state=42)\r\n",
        "\r\n",
        "  for k in k_list:\r\n",
        "    for i in range(5):\r\n",
        "        scores = cross_validate(KNeighborsClassifier(n_neighbors=k), X_, y_, cv=cv,\r\n",
        "                                scoring=('accuracy'),\r\n",
        "                                return_train_score=False)\r\n",
        "        \r\n",
        "        k_fold_metrics['accuracy'].extend(scores['test_score'])\r\n",
        "        k_fold_metrics['classifier_name'].extend(['clf'+str(k) for _ in range(10)])\r\n",
        "        k_fold_metrics['fit_time'].extend(scores['fit_time']+scores['score_time'])\r\n",
        "    k_fold_metrics['dataset_name'].extend(['dataset'+str(i+1) for i in range(50)])\r\n",
        "    mean = np.mean(k_fold_metrics['accuracy'])\r\n",
        "    std = np.std(k_fold_metrics['accuracy'])\r\n",
        "    median = np.median(k_fold_metrics['accuracy'])\r\n",
        "    time = np.mean(k_fold_metrics['fit_time'])\r\n",
        "    metrics['mean'].append(mean)\r\n",
        "    metrics['std'].append(std)\r\n",
        "    metrics['median'].append(median)\r\n",
        "    metrics['time'].append(time)\r\n",
        "  return metrics "
      ],
      "execution_count": 37,
      "outputs": []
    },
    {
      "cell_type": "markdown",
      "metadata": {
        "id": "Nn1A_mr3Rcqm"
      },
      "source": [
        "### Experimento Bases de Dados Brutos\r\n"
      ]
    },
    {
      "cell_type": "markdown",
      "metadata": {
        "id": "zK9hp8riUaGF"
      },
      "source": [
        "#### Experimento Iris "
      ]
    },
    {
      "cell_type": "code",
      "metadata": {
        "colab": {
          "base_uri": "https://localhost:8080/",
          "height": 204
        },
        "id": "nPv_ycOuDrbp",
        "outputId": "cba0c34d-870a-438a-fae8-d284425c7d54"
      },
      "source": [
        "k_fold_metrics = {\r\n",
        "    'classifier_name': [],\r\n",
        "    'dataset_name':[],\r\n",
        "    'accuracy':[],\r\n",
        "     'fit_time':[]\r\n",
        "} \r\n",
        "\r\n",
        "iris_data = pd.read_csv('iris.data', names=[\"feat1\", \"feat2\", \"feat3\", \"feat4\", \"class\"], sep=\",\")\r\n",
        "X, y = iris_data[feats], iris_data['class']\r\n",
        "\r\n",
        "metrics_iris1 = run_experiment(X, y)\r\n",
        "\r\n",
        "result_df = pd.DataFrame.from_dict(metrics_iris1)\r\n",
        "result_df"
      ],
      "execution_count": 38,
      "outputs": [
        {
          "output_type": "execute_result",
          "data": {
            "text/plain": [
              "   k-neighbors      mean       std    median      time\n",
              "0            3  0.963333  0.034801  0.966667  0.009061\n",
              "1            5  0.966667  0.031623  0.966667  0.008141\n",
              "2            7  0.967778  0.029165  0.966667  0.007388\n",
              "3            9  0.966667  0.029814  0.966667  0.006956\n",
              "4           15  0.966667  0.029059  0.966667  0.006788"
            ],
            "text/html": "<div>\n<style scoped>\n    .dataframe tbody tr th:only-of-type {\n        vertical-align: middle;\n    }\n\n    .dataframe tbody tr th {\n        vertical-align: top;\n    }\n\n    .dataframe thead th {\n        text-align: right;\n    }\n</style>\n<table border=\"1\" class=\"dataframe\">\n  <thead>\n    <tr style=\"text-align: right;\">\n      <th></th>\n      <th>k-neighbors</th>\n      <th>mean</th>\n      <th>std</th>\n      <th>median</th>\n      <th>time</th>\n    </tr>\n  </thead>\n  <tbody>\n    <tr>\n      <th>0</th>\n      <td>3</td>\n      <td>0.963333</td>\n      <td>0.034801</td>\n      <td>0.966667</td>\n      <td>0.009061</td>\n    </tr>\n    <tr>\n      <th>1</th>\n      <td>5</td>\n      <td>0.966667</td>\n      <td>0.031623</td>\n      <td>0.966667</td>\n      <td>0.008141</td>\n    </tr>\n    <tr>\n      <th>2</th>\n      <td>7</td>\n      <td>0.967778</td>\n      <td>0.029165</td>\n      <td>0.966667</td>\n      <td>0.007388</td>\n    </tr>\n    <tr>\n      <th>3</th>\n      <td>9</td>\n      <td>0.966667</td>\n      <td>0.029814</td>\n      <td>0.966667</td>\n      <td>0.006956</td>\n    </tr>\n    <tr>\n      <th>4</th>\n      <td>15</td>\n      <td>0.966667</td>\n      <td>0.029059</td>\n      <td>0.966667</td>\n      <td>0.006788</td>\n    </tr>\n  </tbody>\n</table>\n</div>"
          },
          "metadata": {},
          "execution_count": 38
        }
      ]
    },
    {
      "cell_type": "code",
      "metadata": {
        "id": "YnveS3XjEq5y"
      },
      "source": [],
      "execution_count": 16,
      "outputs": []
    },
    {
      "cell_type": "markdown",
      "metadata": {
        "id": "3qxZI3cxUWSI"
      },
      "source": [
        "##### Análise Empírica\r\n",
        "\r\n",
        "Pelos resultados obtidos fica claro que o classificador usando apenas 5 e 7 vizinhos para classificação obtive um resultado um pouco melhor do que os demais. Além disso, esse parâmetros permitiram que um tempo razoável fosse gasto na classificação."
      ]
    },
    {
      "cell_type": "markdown",
      "metadata": {
        "id": "1l4dBMgAlskl"
      },
      "source": [
        "##### Teste Hipótese \r\n",
        "###### Teste de Friedman com o teste de Nemenyi"
      ]
    },
    {
      "cell_type": "code",
      "metadata": {
        "id": "1AHe7ZO2i-yH"
      },
      "source": [
        "pd.DataFrame.from_dict(k_fold_metrics).to_csv('iris_result1.csv')"
      ],
      "execution_count": 39,
      "outputs": []
    },
    {
      "cell_type": "code",
      "metadata": {
        "colab": {
          "base_uri": "https://localhost:8080/"
        },
        "id": "Ri-RXX1Nf0_3",
        "outputId": "94647a91-696c-412f-c991-ff22ac0c2643"
      },
      "source": [
        "!python cd-diagram/main.py -i iris_result1.csv -o iris_diagram1.png"
      ],
      "execution_count": 55,
      "outputs": [
        {
          "output_type": "stream",
          "name": "stdout",
          "text": [
            "Input file:  iris_result1.csv\nOutput file:  iris_diagram1.png\n['clf3' 'clf5' 'clf7' 'clf9' 'clf15']\nthe null hypothesis over the entire classifiers cannot be rejected\n"
          ]
        }
      ]
    },
    {
      "cell_type": "markdown",
      "metadata": {
        "id": "o3UINqxMw5Di"
      },
      "source": [
        "##### Análise do Test de Hipótese\r\n",
        "\r\n",
        "Como a hipótese nula não foi rejeita, podemos dizer que os classificadores obtiveram resultados equivalentes em termos de desempenho.\r\n"
      ]
    },
    {
      "cell_type": "markdown",
      "metadata": {
        "id": "nJ-hiW5PUmIn"
      },
      "source": [
        "#### Statlog (Image Segmentation)"
      ]
    },
    {
      "cell_type": "code",
      "metadata": {
        "colab": {
          "base_uri": "https://localhost:8080/",
          "height": 204
        },
        "id": "uI6PXA57Tx6O",
        "outputId": "593a81b3-21fe-46bd-b0c4-fff76c621e4d"
      },
      "source": [
        "# Carregando Base Segment\r\n",
        "k_fold_metrics = {\r\n",
        "    'classifier_name': [],\r\n",
        "    'dataset_name':[],\r\n",
        "    'accuracy':[],\r\n",
        "     'fit_time':[]\r\n",
        "} \r\n",
        "\r\n",
        "\r\n",
        "header = [\"feat\"+str(1+n) for n in range(19)]\r\n",
        "header.append('class')\r\n",
        "segment_data = pd.read_csv('segment.dat', names=header,sep=\" \")\r\n",
        "\r\n",
        "X, y = segment_data[header[:-1]], segment_data['class']\r\n",
        "\r\n",
        "metrics_segment1 = run_experiment(X, y)\r\n",
        "\r\n",
        "result_df = pd.DataFrame.from_dict(metrics_segment1)\r\n",
        "result_df"
      ],
      "execution_count": 41,
      "outputs": [
        {
          "output_type": "execute_result",
          "data": {
            "text/plain": [
              "   k-neighbors      mean       std    median      time\n",
              "0            3  0.948052  0.012509  0.946970  0.047884\n",
              "1            5  0.942857  0.014068  0.943723  0.045715\n",
              "2            7  0.938961  0.015391  0.939394  0.042396\n",
              "3            9  0.935444  0.016681  0.933983  0.041207\n",
              "4           15  0.929870  0.019629  0.929654  0.040042"
            ],
            "text/html": "<div>\n<style scoped>\n    .dataframe tbody tr th:only-of-type {\n        vertical-align: middle;\n    }\n\n    .dataframe tbody tr th {\n        vertical-align: top;\n    }\n\n    .dataframe thead th {\n        text-align: right;\n    }\n</style>\n<table border=\"1\" class=\"dataframe\">\n  <thead>\n    <tr style=\"text-align: right;\">\n      <th></th>\n      <th>k-neighbors</th>\n      <th>mean</th>\n      <th>std</th>\n      <th>median</th>\n      <th>time</th>\n    </tr>\n  </thead>\n  <tbody>\n    <tr>\n      <th>0</th>\n      <td>3</td>\n      <td>0.948052</td>\n      <td>0.012509</td>\n      <td>0.946970</td>\n      <td>0.047884</td>\n    </tr>\n    <tr>\n      <th>1</th>\n      <td>5</td>\n      <td>0.942857</td>\n      <td>0.014068</td>\n      <td>0.943723</td>\n      <td>0.045715</td>\n    </tr>\n    <tr>\n      <th>2</th>\n      <td>7</td>\n      <td>0.938961</td>\n      <td>0.015391</td>\n      <td>0.939394</td>\n      <td>0.042396</td>\n    </tr>\n    <tr>\n      <th>3</th>\n      <td>9</td>\n      <td>0.935444</td>\n      <td>0.016681</td>\n      <td>0.933983</td>\n      <td>0.041207</td>\n    </tr>\n    <tr>\n      <th>4</th>\n      <td>15</td>\n      <td>0.929870</td>\n      <td>0.019629</td>\n      <td>0.929654</td>\n      <td>0.040042</td>\n    </tr>\n  </tbody>\n</table>\n</div>"
          },
          "metadata": {},
          "execution_count": 41
        }
      ]
    },
    {
      "cell_type": "markdown",
      "metadata": {
        "id": "7SQsz2JzUMZ9"
      },
      "source": [
        "##### Análise Empírica\r\n",
        "\r\n",
        "Em relação ao experimento usando a base de dados bruta, uma análise preliminar indica que o classificador com k=3 e 5 tem um desempenho um pouco superior ao classificador usando 15 e 9 vizinhos. Além de terem um uma acurácia média maior, eles apresentam resultados mais estáveis, tendo um menor desvio padrão. Além disso, eles gastam menos tempo. Portanto, com k=3 ou 5 o classificador obtém um resultado superior a quando k=15 e similar a quando k=5 e 7.\r\n"
      ]
    },
    {
      "cell_type": "markdown",
      "metadata": {
        "id": "RP6Z2owOlYV0"
      },
      "source": [
        "##### Teste Hipótese\r\n",
        "\r\n",
        "A análise do teste hipótese a seguir indicar que o KNeighbohrs apresentar um desempenho superior com k=3 sendo o 1 do rank. "
      ]
    },
    {
      "cell_type": "code",
      "metadata": {
        "id": "9eXX6rEM3f5V"
      },
      "source": [
        "pd.DataFrame.from_dict(k_fold_metrics).to_csv('segment_result1.csv')\r\n"
      ],
      "execution_count": 42,
      "outputs": []
    },
    {
      "cell_type": "code",
      "metadata": {
        "colab": {
          "base_uri": "https://localhost:8080/"
        },
        "id": "aryztRrI3XdK",
        "outputId": "f424c3a2-064b-4369-ae2a-d5431b11be9f"
      },
      "source": [
        "!python cd-diagram/main.py -i segment_result1.csv -o segment_diagram1.png"
      ],
      "execution_count": 54,
      "outputs": [
        {
          "output_type": "stream",
          "name": "stdout",
          "text": [
            "Input file:  segment_result1.csv\nOutput file:  segment_diagram1.png\n['clf3' 'clf5' 'clf7' 'clf9' 'clf15']\nclf15     0.0\nclf3     45.0\nclf5      0.0\nclf7      0.0\nclf9      0.0\ndtype: float64\nclf15    5.00\nclf9     3.75\nclf7     3.15\nclf5     2.05\nclf3     1.05\ndtype: float64\n('clf15', 'clf9', 6.822201844716231e-10, True)\n('clf3', 'clf7', 6.822201844716231e-10, True)\n('clf3', 'clf9', 7.019562041074612e-10, True)\n('clf5', 'clf9', 7.019562041074612e-10, True)\n('clf15', 'clf3', 7.222037513283772e-10, True)\n('clf15', 'clf5', 7.222037513283772e-10, True)\n('clf15', 'clf7', 7.222037513283772e-10, True)\n('clf3', 'clf5', 1.116039128615475e-09, True)\n('clf7', 'clf9', 4.229035719256588e-06, True)\n('clf5', 'clf7', 4.881145954468759e-06, True)\nIndex(['clf15', 'clf9', 'clf7', 'clf5', 'clf3'], dtype='object')\n"
          ]
        }
      ]
    },
    {
      "cell_type": "code",
      "metadata": {
        "colab": {
          "base_uri": "https://localhost:8080/",
          "height": 216
        },
        "id": "-wPn8r0kKL6R",
        "outputId": "97bdc5df-8e50-492b-8080-b904bed7ceff"
      },
      "source": [
        "\r\n",
        "display(Image('segment_diagram1.png'))\r\n"
      ],
      "execution_count": 44,
      "outputs": [
        {
          "output_type": "error",
          "ename": "FileNotFoundError",
          "evalue": "No such file or directory: 'segment_diagram1.png'",
          "traceback": [
            "\u001b[1;31m---------------------------------------------------------------------------\u001b[0m",
            "\u001b[1;31mTypeError\u001b[0m                                 Traceback (most recent call last)",
            "\u001b[1;32m~\\anaconda3\\lib\\site-packages\\IPython\\core\\display.py\u001b[0m in \u001b[0;36m_data_and_metadata\u001b[1;34m(self, always_both)\u001b[0m\n\u001b[0;32m   1292\u001b[0m         \u001b[1;32mtry\u001b[0m\u001b[1;33m:\u001b[0m\u001b[1;33m\u001b[0m\u001b[1;33m\u001b[0m\u001b[0m\n\u001b[1;32m-> 1293\u001b[1;33m             \u001b[0mb64_data\u001b[0m \u001b[1;33m=\u001b[0m \u001b[0mb2a_base64\u001b[0m\u001b[1;33m(\u001b[0m\u001b[0mself\u001b[0m\u001b[1;33m.\u001b[0m\u001b[0mdata\u001b[0m\u001b[1;33m)\u001b[0m\u001b[1;33m.\u001b[0m\u001b[0mdecode\u001b[0m\u001b[1;33m(\u001b[0m\u001b[1;34m'ascii'\u001b[0m\u001b[1;33m)\u001b[0m\u001b[1;33m\u001b[0m\u001b[1;33m\u001b[0m\u001b[0m\n\u001b[0m\u001b[0;32m   1294\u001b[0m         \u001b[1;32mexcept\u001b[0m \u001b[0mTypeError\u001b[0m\u001b[1;33m:\u001b[0m\u001b[1;33m\u001b[0m\u001b[1;33m\u001b[0m\u001b[0m\n",
            "\u001b[1;31mTypeError\u001b[0m: a bytes-like object is required, not 'str'",
            "\nDuring handling of the above exception, another exception occurred:\n",
            "\u001b[1;31mFileNotFoundError\u001b[0m                         Traceback (most recent call last)",
            "\u001b[1;32m~\\anaconda3\\lib\\site-packages\\IPython\\core\\formatters.py\u001b[0m in \u001b[0;36m__call__\u001b[1;34m(self, obj, include, exclude)\u001b[0m\n\u001b[0;32m    968\u001b[0m \u001b[1;33m\u001b[0m\u001b[0m\n\u001b[0;32m    969\u001b[0m             \u001b[1;32mif\u001b[0m \u001b[0mmethod\u001b[0m \u001b[1;32mis\u001b[0m \u001b[1;32mnot\u001b[0m \u001b[1;32mNone\u001b[0m\u001b[1;33m:\u001b[0m\u001b[1;33m\u001b[0m\u001b[1;33m\u001b[0m\u001b[0m\n\u001b[1;32m--> 970\u001b[1;33m                 \u001b[1;32mreturn\u001b[0m \u001b[0mmethod\u001b[0m\u001b[1;33m(\u001b[0m\u001b[0minclude\u001b[0m\u001b[1;33m=\u001b[0m\u001b[0minclude\u001b[0m\u001b[1;33m,\u001b[0m \u001b[0mexclude\u001b[0m\u001b[1;33m=\u001b[0m\u001b[0mexclude\u001b[0m\u001b[1;33m)\u001b[0m\u001b[1;33m\u001b[0m\u001b[1;33m\u001b[0m\u001b[0m\n\u001b[0m\u001b[0;32m    971\u001b[0m             \u001b[1;32mreturn\u001b[0m \u001b[1;32mNone\u001b[0m\u001b[1;33m\u001b[0m\u001b[1;33m\u001b[0m\u001b[0m\n\u001b[0;32m    972\u001b[0m         \u001b[1;32melse\u001b[0m\u001b[1;33m:\u001b[0m\u001b[1;33m\u001b[0m\u001b[1;33m\u001b[0m\u001b[0m\n",
            "\u001b[1;32m~\\anaconda3\\lib\\site-packages\\IPython\\core\\display.py\u001b[0m in \u001b[0;36m_repr_mimebundle_\u001b[1;34m(self, include, exclude)\u001b[0m\n\u001b[0;32m   1281\u001b[0m         \u001b[1;32mif\u001b[0m \u001b[0mself\u001b[0m\u001b[1;33m.\u001b[0m\u001b[0membed\u001b[0m\u001b[1;33m:\u001b[0m\u001b[1;33m\u001b[0m\u001b[1;33m\u001b[0m\u001b[0m\n\u001b[0;32m   1282\u001b[0m             \u001b[0mmimetype\u001b[0m \u001b[1;33m=\u001b[0m \u001b[0mself\u001b[0m\u001b[1;33m.\u001b[0m\u001b[0m_mimetype\u001b[0m\u001b[1;33m\u001b[0m\u001b[1;33m\u001b[0m\u001b[0m\n\u001b[1;32m-> 1283\u001b[1;33m             \u001b[0mdata\u001b[0m\u001b[1;33m,\u001b[0m \u001b[0mmetadata\u001b[0m \u001b[1;33m=\u001b[0m \u001b[0mself\u001b[0m\u001b[1;33m.\u001b[0m\u001b[0m_data_and_metadata\u001b[0m\u001b[1;33m(\u001b[0m\u001b[0malways_both\u001b[0m\u001b[1;33m=\u001b[0m\u001b[1;32mTrue\u001b[0m\u001b[1;33m)\u001b[0m\u001b[1;33m\u001b[0m\u001b[1;33m\u001b[0m\u001b[0m\n\u001b[0m\u001b[0;32m   1284\u001b[0m             \u001b[1;32mif\u001b[0m \u001b[0mmetadata\u001b[0m\u001b[1;33m:\u001b[0m\u001b[1;33m\u001b[0m\u001b[1;33m\u001b[0m\u001b[0m\n\u001b[0;32m   1285\u001b[0m                 \u001b[0mmetadata\u001b[0m \u001b[1;33m=\u001b[0m \u001b[1;33m{\u001b[0m\u001b[0mmimetype\u001b[0m\u001b[1;33m:\u001b[0m \u001b[0mmetadata\u001b[0m\u001b[1;33m}\u001b[0m\u001b[1;33m\u001b[0m\u001b[1;33m\u001b[0m\u001b[0m\n",
            "\u001b[1;32m~\\anaconda3\\lib\\site-packages\\IPython\\core\\display.py\u001b[0m in \u001b[0;36m_data_and_metadata\u001b[1;34m(self, always_both)\u001b[0m\n\u001b[0;32m   1293\u001b[0m             \u001b[0mb64_data\u001b[0m \u001b[1;33m=\u001b[0m \u001b[0mb2a_base64\u001b[0m\u001b[1;33m(\u001b[0m\u001b[0mself\u001b[0m\u001b[1;33m.\u001b[0m\u001b[0mdata\u001b[0m\u001b[1;33m)\u001b[0m\u001b[1;33m.\u001b[0m\u001b[0mdecode\u001b[0m\u001b[1;33m(\u001b[0m\u001b[1;34m'ascii'\u001b[0m\u001b[1;33m)\u001b[0m\u001b[1;33m\u001b[0m\u001b[1;33m\u001b[0m\u001b[0m\n\u001b[0;32m   1294\u001b[0m         \u001b[1;32mexcept\u001b[0m \u001b[0mTypeError\u001b[0m\u001b[1;33m:\u001b[0m\u001b[1;33m\u001b[0m\u001b[1;33m\u001b[0m\u001b[0m\n\u001b[1;32m-> 1295\u001b[1;33m             raise FileNotFoundError(\n\u001b[0m\u001b[0;32m   1296\u001b[0m                 \"No such file or directory: '%s'\" % (self.data))\n\u001b[0;32m   1297\u001b[0m         \u001b[0mmd\u001b[0m \u001b[1;33m=\u001b[0m \u001b[1;33m{\u001b[0m\u001b[1;33m}\u001b[0m\u001b[1;33m\u001b[0m\u001b[1;33m\u001b[0m\u001b[0m\n",
            "\u001b[1;31mFileNotFoundError\u001b[0m: No such file or directory: 'segment_diagram1.png'"
          ]
        }
      ]
    },
    {
      "cell_type": "markdown",
      "metadata": {
        "id": "8AfZTlb4mUQT"
      },
      "source": [
        "#### Experimento Waveform"
      ]
    },
    {
      "cell_type": "code",
      "metadata": {
        "colab": {
          "base_uri": "https://localhost:8080/",
          "height": 204
        },
        "id": "K4ZXVLXZTyR8",
        "outputId": "e222d12d-7150-4849-a159-366a27ff21bf"
      },
      "source": [
        "# Carregando Base Waveform\r\n",
        "k_fold_metrics = {\r\n",
        "    'classifier_name': [],\r\n",
        "    'dataset_name':[],\r\n",
        "    'accuracy':[],\r\n",
        "    'fit_time':[]\r\n",
        "} \r\n",
        "header = [\"feat\"+str(1+n) for n in range(21)]\r\n",
        "header.append('class')\r\n",
        "waveform_data = pd.read_csv('waveform.data', names=header, sep=\",\")\r\n",
        "X, y = waveform_data[feats], waveform_data['class']\r\n",
        "\r\n",
        "metrics_waveform1 = run_experiment(X, y)\r\n",
        "\r\n",
        "result_df = pd.DataFrame.from_dict(metrics_waveform1)\r\n",
        "result_df\r\n"
      ],
      "execution_count": 23,
      "outputs": [
        {
          "output_type": "execute_result",
          "data": {
            "text/html": [
              "<div>\n",
              "<style scoped>\n",
              "    .dataframe tbody tr th:only-of-type {\n",
              "        vertical-align: middle;\n",
              "    }\n",
              "\n",
              "    .dataframe tbody tr th {\n",
              "        vertical-align: top;\n",
              "    }\n",
              "\n",
              "    .dataframe thead th {\n",
              "        text-align: right;\n",
              "    }\n",
              "</style>\n",
              "<table border=\"1\" class=\"dataframe\">\n",
              "  <thead>\n",
              "    <tr style=\"text-align: right;\">\n",
              "      <th></th>\n",
              "      <th>k-neighbors</th>\n",
              "      <th>mean</th>\n",
              "      <th>std</th>\n",
              "      <th>median</th>\n",
              "      <th>time</th>\n",
              "    </tr>\n",
              "  </thead>\n",
              "  <tbody>\n",
              "    <tr>\n",
              "      <th>0</th>\n",
              "      <td>3</td>\n",
              "      <td>0.462900</td>\n",
              "      <td>0.012661</td>\n",
              "      <td>0.4640</td>\n",
              "      <td>0.039987</td>\n",
              "    </tr>\n",
              "    <tr>\n",
              "      <th>1</th>\n",
              "      <td>5</td>\n",
              "      <td>0.464750</td>\n",
              "      <td>0.010954</td>\n",
              "      <td>0.4645</td>\n",
              "      <td>0.040548</td>\n",
              "    </tr>\n",
              "    <tr>\n",
              "      <th>2</th>\n",
              "      <td>7</td>\n",
              "      <td>0.471200</td>\n",
              "      <td>0.015003</td>\n",
              "      <td>0.4700</td>\n",
              "      <td>0.040975</td>\n",
              "    </tr>\n",
              "    <tr>\n",
              "      <th>3</th>\n",
              "      <td>9</td>\n",
              "      <td>0.475275</td>\n",
              "      <td>0.016162</td>\n",
              "      <td>0.4740</td>\n",
              "      <td>0.041449</td>\n",
              "    </tr>\n",
              "    <tr>\n",
              "      <th>4</th>\n",
              "      <td>15</td>\n",
              "      <td>0.479080</td>\n",
              "      <td>0.018015</td>\n",
              "      <td>0.4765</td>\n",
              "      <td>0.042229</td>\n",
              "    </tr>\n",
              "  </tbody>\n",
              "</table>\n",
              "</div>"
            ],
            "text/plain": [
              "   k-neighbors      mean       std  median      time\n",
              "0            3  0.462900  0.012661  0.4640  0.039987\n",
              "1            5  0.464750  0.010954  0.4645  0.040548\n",
              "2            7  0.471200  0.015003  0.4700  0.040975\n",
              "3            9  0.475275  0.016162  0.4740  0.041449\n",
              "4           15  0.479080  0.018015  0.4765  0.042229"
            ]
          },
          "metadata": {
            "tags": []
          },
          "execution_count": 23
        }
      ]
    },
    {
      "cell_type": "markdown",
      "metadata": {
        "id": "y2_3OK6xSNyr"
      },
      "source": [
        "##### Análise Empírica\r\n",
        "\r\n",
        "Em uma análise empírica usando a base de dados brutos, é possível observar que nenhum dos classificadores apresentou um bom desempenho.\r\n",
        "Os melhores resultados são obtidos com k igual a 9 e 15. K-3 tem um menor tempo porém também tem o pior resultado.\r\n",
        "\r\n"
      ]
    },
    {
      "cell_type": "markdown",
      "metadata": {
        "id": "diQzfYl9lrM3"
      },
      "source": [
        "##### Teste Hipótese\r\n",
        "\r\n",
        "O teste de hipótese confirma a análise inicial em que o KNN tem um resultado melhor com k=15."
      ]
    },
    {
      "cell_type": "code",
      "metadata": {
        "colab": {
          "base_uri": "https://localhost:8080/"
        },
        "id": "jy4e5K-g6ANf",
        "outputId": "12a8aba1-098e-4a97-b37a-ec57f2153dae"
      },
      "source": [
        "pd.DataFrame.from_dict(k_fold_metrics).to_csv('waveform_result1.csv')\n",
        "!python cd-diagram/main.py -i waveform_result1.csv -o waveform_diagram1.png"
      ],
      "execution_count": 53,
      "outputs": [
        {
          "output_type": "stream",
          "name": "stdout",
          "text": [
            "Input file:  waveform_result1.csv\nOutput file:  waveform_diagram1.png\n['clf3' 'clf5' 'clf7' 'clf9' 'clf15']\nclf15     0.0\nclf3     45.0\nclf5      0.0\nclf7      0.0\nclf9      0.0\ndtype: float64\nclf15    5.00\nclf9     3.75\nclf7     3.15\nclf5     2.05\nclf3     1.05\ndtype: float64\n('clf15', 'clf9', 6.822201844716231e-10, True)\n('clf3', 'clf7', 6.822201844716231e-10, True)\n('clf3', 'clf9', 7.019562041074612e-10, True)\n('clf5', 'clf9', 7.019562041074612e-10, True)\n('clf15', 'clf3', 7.222037513283772e-10, True)\n('clf15', 'clf5', 7.222037513283772e-10, True)\n('clf15', 'clf7', 7.222037513283772e-10, True)\n('clf3', 'clf5', 1.116039128615475e-09, True)\n('clf7', 'clf9', 4.229035719256588e-06, True)\n('clf5', 'clf7', 4.881145954468759e-06, True)\nIndex(['clf15', 'clf9', 'clf7', 'clf5', 'clf3'], dtype='object')\n"
          ]
        }
      ]
    },
    {
      "cell_type": "code",
      "metadata": {
        "colab": {
          "base_uri": "https://localhost:8080/",
          "height": 216
        },
        "id": "NLjfUOSTKc1Y",
        "outputId": "81b6c628-1ba6-44c6-afe8-9f35ce06764f"
      },
      "source": [
        "display(Image('waveform_diagram1.png'))"
      ],
      "execution_count": 25,
      "outputs": [
        {
          "output_type": "display_data",
          "data": {
            "image/png": "[encoded data removed]",
            "text/plain": [
              "<IPython.core.display.Image object>"
            ]
          },
          "metadata": {
            "tags": []
          }
        }
      ]
    },
    {
      "cell_type": "markdown",
      "metadata": {
        "id": "RS-A3VqRmd_a"
      },
      "source": [
        "### Experimento Bases de Dados Preprocessada\r\n"
      ]
    },
    {
      "cell_type": "markdown",
      "metadata": {
        "id": "HdkPUwwumwWW"
      },
      "source": [
        "#### Experimento Iris "
      ]
    },
    {
      "cell_type": "code",
      "metadata": {
        "colab": {
          "base_uri": "https://localhost:8080/",
          "height": 204
        },
        "id": "gYXnjrdVEHVh",
        "outputId": "6d56b12b-5829-43b6-8884-460ae2235ce3"
      },
      "source": [
        "k_fold_metrics = {\r\n",
        "    'classifier_name': [],\r\n",
        "    'dataset_name':[],\r\n",
        "    'accuracy':[],\r\n",
        "    'fit_time':[]\r\n",
        "} \r\n",
        "# Carregando os dados\r\n",
        "iris_normalized = pd.read_csv('iris_normalized.csv')\r\n",
        "X, y = iris_normalized[feats], iris_normalized['class']\r\n",
        "metrics_iris2 = run_experiment(X, y)\r\n",
        "\r\n",
        "result_df = pd.DataFrame.from_dict(metrics_iris2)\r\n",
        "result_df"
      ],
      "execution_count": 26,
      "outputs": [
        {
          "output_type": "execute_result",
          "data": {
            "text/html": [
              "<div>\n",
              "<style scoped>\n",
              "    .dataframe tbody tr th:only-of-type {\n",
              "        vertical-align: middle;\n",
              "    }\n",
              "\n",
              "    .dataframe tbody tr th {\n",
              "        vertical-align: top;\n",
              "    }\n",
              "\n",
              "    .dataframe thead th {\n",
              "        text-align: right;\n",
              "    }\n",
              "</style>\n",
              "<table border=\"1\" class=\"dataframe\">\n",
              "  <thead>\n",
              "    <tr style=\"text-align: right;\">\n",
              "      <th></th>\n",
              "      <th>k-neighbors</th>\n",
              "      <th>mean</th>\n",
              "      <th>std</th>\n",
              "      <th>median</th>\n",
              "      <th>time</th>\n",
              "    </tr>\n",
              "  </thead>\n",
              "  <tbody>\n",
              "    <tr>\n",
              "      <th>0</th>\n",
              "      <td>3</td>\n",
              "      <td>0.980000</td>\n",
              "      <td>0.022111</td>\n",
              "      <td>0.983333</td>\n",
              "      <td>0.004152</td>\n",
              "    </tr>\n",
              "    <tr>\n",
              "      <th>1</th>\n",
              "      <td>5</td>\n",
              "      <td>0.980000</td>\n",
              "      <td>0.022111</td>\n",
              "      <td>0.983333</td>\n",
              "      <td>0.004089</td>\n",
              "    </tr>\n",
              "    <tr>\n",
              "      <th>2</th>\n",
              "      <td>7</td>\n",
              "      <td>0.981111</td>\n",
              "      <td>0.022250</td>\n",
              "      <td>1.000000</td>\n",
              "      <td>0.004067</td>\n",
              "    </tr>\n",
              "    <tr>\n",
              "      <th>3</th>\n",
              "      <td>9</td>\n",
              "      <td>0.980000</td>\n",
              "      <td>0.025604</td>\n",
              "      <td>1.000000</td>\n",
              "      <td>0.004076</td>\n",
              "    </tr>\n",
              "    <tr>\n",
              "      <th>4</th>\n",
              "      <td>15</td>\n",
              "      <td>0.980667</td>\n",
              "      <td>0.025024</td>\n",
              "      <td>1.000000</td>\n",
              "      <td>0.004100</td>\n",
              "    </tr>\n",
              "  </tbody>\n",
              "</table>\n",
              "</div>"
            ],
            "text/plain": [
              "   k-neighbors      mean       std    median      time\n",
              "0            3  0.980000  0.022111  0.983333  0.004152\n",
              "1            5  0.980000  0.022111  0.983333  0.004089\n",
              "2            7  0.981111  0.022250  1.000000  0.004067\n",
              "3            9  0.980000  0.025604  1.000000  0.004076\n",
              "4           15  0.980667  0.025024  1.000000  0.004100"
            ]
          },
          "metadata": {
            "tags": []
          },
          "execution_count": 26
        }
      ]
    },
    {
      "cell_type": "markdown",
      "metadata": {
        "id": "mE8gzfg6m1xr"
      },
      "source": [
        "##### Análise Empírica\r\n",
        "\r\n",
        "No segundo experimento, foi realizado o experimento usando as base de dados pré-processadas. \r\n",
        "Nesse experimento, fica claro um melhora significativa na média de desempenho do classificador KNN para diferentes valores de k."
      ]
    },
    {
      "cell_type": "markdown",
      "metadata": {
        "id": "apPANoHKm5pM"
      },
      "source": [
        "##### Teste Hipótese\r\n",
        "\r\n",
        "O teste hitótese confirma a equivalência entre os classificadores."
      ]
    },
    {
      "cell_type": "code",
      "metadata": {
        "colab": {
          "base_uri": "https://localhost:8080/"
        },
        "id": "E-ZzaJZKLEw6",
        "outputId": "6d009dcd-c67c-4903-d604-2a301d335195"
      },
      "source": [
        "pd.DataFrame.from_dict(k_fold_metrics).to_csv('iris_normalized_result.csv')\n",
        "!python cd-diagram/main.py -i iris_normalized_result.csv -o iris_normalized_result.png"
      ],
      "execution_count": 51,
      "outputs": [
        {
          "output_type": "stream",
          "name": "stdout",
          "text": [
            "Input file:  iris_normalized_result.csv\nOutput file:  iris_normalized_result.png\n['clf3' 'clf5' 'clf7' 'clf9' 'clf15']\nclf15     0.0\nclf3     45.0\nclf5      0.0\nclf7      0.0\nclf9      0.0\ndtype: float64\nclf15    5.00\nclf9     3.75\nclf7     3.15\nclf5     2.05\nclf3     1.05\ndtype: float64\n('clf15', 'clf9', 6.822201844716231e-10, True)\n('clf3', 'clf7', 6.822201844716231e-10, True)\n('clf3', 'clf9', 7.019562041074612e-10, True)\n('clf5', 'clf9', 7.019562041074612e-10, True)\n('clf15', 'clf3', 7.222037513283772e-10, True)\n('clf15', 'clf5', 7.222037513283772e-10, True)\n('clf15', 'clf7', 7.222037513283772e-10, True)\n('clf3', 'clf5', 1.116039128615475e-09, True)\n('clf7', 'clf9', 4.229035719256588e-06, True)\n('clf5', 'clf7', 4.881145954468759e-06, True)\nIndex(['clf15', 'clf9', 'clf7', 'clf5', 'clf3'], dtype='object')\n"
          ]
        }
      ]
    },
    {
      "cell_type": "code",
      "metadata": {
        "colab": {
          "base_uri": "https://localhost:8080/",
          "height": 34
        },
        "id": "Qfk5yUcALW3G",
        "outputId": "ee915695-d8d5-4a58-b24d-b72dbb7482db"
      },
      "source": [
        "display(Image('iris_normalized_result.png'))"
      ],
      "execution_count": 28,
      "outputs": [
        {
          "output_type": "display_data",
          "data": {
            "image/png": "iris_normalized_result.png",
            "text/plain": [
              "<IPython.core.display.Image object>"
            ]
          },
          "metadata": {
            "tags": []
          }
        }
      ]
    },
    {
      "cell_type": "markdown",
      "metadata": {
        "id": "k7L3m2J-NRJ2"
      },
      "source": [
        "#### Statlog (Image Segmentation)"
      ]
    },
    {
      "cell_type": "code",
      "metadata": {
        "colab": {
          "base_uri": "https://localhost:8080/",
          "height": 204
        },
        "id": "Usm0Rl_sLlIb",
        "outputId": "38ecf9a8-446a-4253-d75e-6970ad2a6a5e"
      },
      "source": [
        "k_fold_metrics = {\r\n",
        "    'classifier_name': [],\r\n",
        "    'dataset_name':[],\r\n",
        "    'accuracy':[],\r\n",
        "    'fit_time':[]\r\n",
        "} \r\n",
        "# Carregando os dados\r\n",
        "reduced_segment = pd.read_csv('reduced_segment.csv')\r\n",
        "X, y = reduced_segment[feats], reduced_segment['class']\r\n",
        "reduced_segment2 = run_experiment(X, y)\r\n",
        "\r\n",
        "result_df = pd.DataFrame.from_dict(reduced_segment2)\r\n",
        "result_df"
      ],
      "execution_count": 29,
      "outputs": [
        {
          "output_type": "execute_result",
          "data": {
            "text/html": [
              "<div>\n",
              "<style scoped>\n",
              "    .dataframe tbody tr th:only-of-type {\n",
              "        vertical-align: middle;\n",
              "    }\n",
              "\n",
              "    .dataframe tbody tr th {\n",
              "        vertical-align: top;\n",
              "    }\n",
              "\n",
              "    .dataframe thead th {\n",
              "        text-align: right;\n",
              "    }\n",
              "</style>\n",
              "<table border=\"1\" class=\"dataframe\">\n",
              "  <thead>\n",
              "    <tr style=\"text-align: right;\">\n",
              "      <th></th>\n",
              "      <th>k-neighbors</th>\n",
              "      <th>mean</th>\n",
              "      <th>std</th>\n",
              "      <th>median</th>\n",
              "      <th>time</th>\n",
              "    </tr>\n",
              "  </thead>\n",
              "  <tbody>\n",
              "    <tr>\n",
              "      <th>0</th>\n",
              "      <td>3</td>\n",
              "      <td>0.844156</td>\n",
              "      <td>0.017691</td>\n",
              "      <td>0.849567</td>\n",
              "      <td>0.018743</td>\n",
              "    </tr>\n",
              "    <tr>\n",
              "      <th>1</th>\n",
              "      <td>5</td>\n",
              "      <td>0.837013</td>\n",
              "      <td>0.017929</td>\n",
              "      <td>0.840909</td>\n",
              "      <td>0.018851</td>\n",
              "    </tr>\n",
              "    <tr>\n",
              "      <th>2</th>\n",
              "      <td>7</td>\n",
              "      <td>0.828644</td>\n",
              "      <td>0.021811</td>\n",
              "      <td>0.836580</td>\n",
              "      <td>0.019003</td>\n",
              "    </tr>\n",
              "    <tr>\n",
              "      <th>3</th>\n",
              "      <td>9</td>\n",
              "      <td>0.820942</td>\n",
              "      <td>0.025399</td>\n",
              "      <td>0.819264</td>\n",
              "      <td>0.019072</td>\n",
              "    </tr>\n",
              "    <tr>\n",
              "      <th>4</th>\n",
              "      <td>15</td>\n",
              "      <td>0.810390</td>\n",
              "      <td>0.031885</td>\n",
              "      <td>0.810606</td>\n",
              "      <td>0.019306</td>\n",
              "    </tr>\n",
              "  </tbody>\n",
              "</table>\n",
              "</div>"
            ],
            "text/plain": [
              "   k-neighbors      mean       std    median      time\n",
              "0            3  0.844156  0.017691  0.849567  0.018743\n",
              "1            5  0.837013  0.017929  0.840909  0.018851\n",
              "2            7  0.828644  0.021811  0.836580  0.019003\n",
              "3            9  0.820942  0.025399  0.819264  0.019072\n",
              "4           15  0.810390  0.031885  0.810606  0.019306"
            ]
          },
          "metadata": {
            "tags": []
          },
          "execution_count": 29
        }
      ]
    },
    {
      "cell_type": "markdown",
      "metadata": {
        "id": "-oB_vUMGOY6w"
      },
      "source": [
        "##### Análise Empírica\r\n",
        "\r\n",
        "É possível visualizar que com k=3 o classificador obtém um resultado muito superior aos demais valores de k. Ele supera tanto em termos de accurácia quanto em termos de tempo gasto de execução. Além disso, ele se mostra mais estável tendo um desvio padrão menor."
      ]
    },
    {
      "cell_type": "markdown",
      "metadata": {
        "id": "4kjhHRonPGaT"
      },
      "source": [
        "##### Teste de Hipótese\r\n",
        "\r\n",
        "O teste de hipótese mostra claramente que com k=3 o classificador obtem um resultado superior aos demais em termos de acurácia."
      ]
    },
    {
      "cell_type": "code",
      "metadata": {
        "colab": {
          "base_uri": "https://localhost:8080/"
        },
        "id": "Y-rXXWIuMhjD",
        "outputId": "215710be-36ca-4fad-cdbd-aa8ffb32040c"
      },
      "source": [
        "pd.DataFrame.from_dict(k_fold_metrics).to_csv('reduced_segment_result.csv')\n",
        "!python cd-diagram/main.py -i reduced_segment_result.csv -o reduced_segment_result.png"
      ],
      "execution_count": 48,
      "outputs": [
        {
          "output_type": "stream",
          "name": "stdout",
          "text": [
            "Input file:  reduced_segment_result.csv\n",
            "Output file:  reduced_segment_result.png\n",
            "['clf3' 'clf5' 'clf7' 'clf9' 'clf15']\n",
            "clf15     0.0\n",
            "clf3     45.0\n",
            "clf5      0.0\n",
            "clf7      0.0\n",
            "clf9      0.0\n",
            "dtype: float64\n",
            "clf15    5.00\n",
            "clf9     3.75\n",
            "clf7     3.15\n",
            "clf5     2.05\n",
            "clf3     1.05\n",
            "dtype: float64\n",
            "('clf15', 'clf9', 6.822201844716231e-10, True)\n",
            "('clf3', 'clf7', 6.822201844716231e-10, True)\n",
            "('clf3', 'clf9', 7.019562041074612e-10, True)\n",
            "('clf5', 'clf9', 7.019562041074612e-10, True)\n",
            "('clf15', 'clf3', 7.222037513283772e-10, True)\n",
            "('clf15', 'clf5', 7.222037513283772e-10, True)\n",
            "('clf15', 'clf7', 7.222037513283772e-10, True)\n",
            "('clf3', 'clf5', 1.116039128615475e-09, True)\n",
            "('clf7', 'clf9', 4.229035719256588e-06, True)\n",
            "('clf5', 'clf7', 4.881145954468759e-06, True)\n",
            "Index(['clf15', 'clf9', 'clf7', 'clf5', 'clf3'], dtype='object')\n"
          ]
        }
      ]
    },
    {
      "cell_type": "code",
      "metadata": {
        "colab": {
          "base_uri": "https://localhost:8080/",
          "height": 216
        },
        "id": "GOkzRuwzN32m",
        "outputId": "e819154a-1e6a-420c-87c5-2c47fb42a320"
      },
      "source": [
        "display(Image('reduced_segment_result.png'))"
      ],
      "execution_count": 49,
      "outputs": [
        {
          "output_type": "display_data",
          "data": {
            "image/png": "[encoded data removed]",
            "text/plain": "<IPython.core.display.Image object>"
          },
          "metadata": {}
        }
      ]
    },
    {
      "cell_type": "markdown",
      "metadata": {
        "id": "IN1diNOlPv_j"
      },
      "source": [
        "#### Waveform"
      ]
    },
    {
      "cell_type": "code",
      "metadata": {
        "colab": {
          "base_uri": "https://localhost:8080/",
          "height": 204
        },
        "id": "WbsfVy9BP01h",
        "outputId": "12f18d8a-7c61-46d1-b06f-61d4d7855292"
      },
      "source": [
        "k_fold_metrics = {\r\n",
        "    'classifier_name': [],\r\n",
        "    'dataset_name':[],\r\n",
        "    'accuracy':[],\r\n",
        "    'fit_time':[]\r\n",
        "} \r\n",
        "# Carregando os dados\r\n",
        "reduced_waveform = pd.read_csv('reduced_waveform.csv')\r\n",
        "X, y = reduced_waveform[feats], reduced_waveform['class']\r\n",
        "reduced_waveform_result = run_experiment(X, y)\r\n",
        "\r\n",
        "result_df = pd.DataFrame.from_dict(reduced_waveform_result)\r\n",
        "result_df"
      ],
      "execution_count": 32,
      "outputs": [
        {
          "output_type": "execute_result",
          "data": {
            "text/html": [
              "<div>\n",
              "<style scoped>\n",
              "    .dataframe tbody tr th:only-of-type {\n",
              "        vertical-align: middle;\n",
              "    }\n",
              "\n",
              "    .dataframe tbody tr th {\n",
              "        vertical-align: top;\n",
              "    }\n",
              "\n",
              "    .dataframe thead th {\n",
              "        text-align: right;\n",
              "    }\n",
              "</style>\n",
              "<table border=\"1\" class=\"dataframe\">\n",
              "  <thead>\n",
              "    <tr style=\"text-align: right;\">\n",
              "      <th></th>\n",
              "      <th>k-neighbors</th>\n",
              "      <th>mean</th>\n",
              "      <th>std</th>\n",
              "      <th>median</th>\n",
              "      <th>time</th>\n",
              "    </tr>\n",
              "  </thead>\n",
              "  <tbody>\n",
              "    <tr>\n",
              "      <th>0</th>\n",
              "      <td>3</td>\n",
              "      <td>0.823700</td>\n",
              "      <td>0.012892</td>\n",
              "      <td>0.8235</td>\n",
              "      <td>0.038335</td>\n",
              "    </tr>\n",
              "    <tr>\n",
              "      <th>1</th>\n",
              "      <td>5</td>\n",
              "      <td>0.826750</td>\n",
              "      <td>0.012637</td>\n",
              "      <td>0.8270</td>\n",
              "      <td>0.038987</td>\n",
              "    </tr>\n",
              "    <tr>\n",
              "      <th>2</th>\n",
              "      <td>7</td>\n",
              "      <td>0.828767</td>\n",
              "      <td>0.012197</td>\n",
              "      <td>0.8305</td>\n",
              "      <td>0.039310</td>\n",
              "    </tr>\n",
              "    <tr>\n",
              "      <th>3</th>\n",
              "      <td>9</td>\n",
              "      <td>0.831350</td>\n",
              "      <td>0.013167</td>\n",
              "      <td>0.8335</td>\n",
              "      <td>0.039670</td>\n",
              "    </tr>\n",
              "    <tr>\n",
              "      <th>4</th>\n",
              "      <td>15</td>\n",
              "      <td>0.834340</td>\n",
              "      <td>0.014106</td>\n",
              "      <td>0.8375</td>\n",
              "      <td>0.040231</td>\n",
              "    </tr>\n",
              "  </tbody>\n",
              "</table>\n",
              "</div>"
            ],
            "text/plain": [
              "   k-neighbors      mean       std  median      time\n",
              "0            3  0.823700  0.012892  0.8235  0.038335\n",
              "1            5  0.826750  0.012637  0.8270  0.038987\n",
              "2            7  0.828767  0.012197  0.8305  0.039310\n",
              "3            9  0.831350  0.013167  0.8335  0.039670\n",
              "4           15  0.834340  0.014106  0.8375  0.040231"
            ]
          },
          "metadata": {
            "tags": []
          },
          "execution_count": 32
        }
      ]
    },
    {
      "cell_type": "markdown",
      "metadata": {
        "id": "sXJwzwIbQ2JV"
      },
      "source": [
        "##### Análise Empírica\r\n",
        "\r\n",
        "Em um análise posterior, usando a base de dados pré-processada é possível ver que o algoritmo de classificação melhora de maneira substância para todos os valores de k. "
      ]
    },
    {
      "cell_type": "markdown",
      "metadata": {
        "id": "BVVpvk1f0icC"
      },
      "source": [
        "#### Teste de Hipótese\r\n",
        "\r\n",
        "Além disso, o melhor valor para k continua sendo k=15 de acordo com o teste de hipótese e média obtida na tabela de resultados."
      ]
    },
    {
      "cell_type": "code",
      "metadata": {
        "colab": {
          "base_uri": "https://localhost:8080/"
        },
        "id": "6mz8PoutQ7c6",
        "outputId": "ee3938cb-728d-444b-affa-29e9a69efbad"
      },
      "source": [
        "pd.DataFrame.from_dict(k_fold_metrics).to_csv('reduced_waveform_result.csv')\n",
        "!python cd-diagram/main.py -i reduced_waveform_result.csv -o reduced_waveform_result.png"
      ],
      "execution_count": 46,
      "outputs": [
        {
          "output_type": "stream",
          "name": "stdout",
          "text": [
            "Input file:  reduced_waveform_result.csv\nOutput file:  reduced_waveform_result.png\n['clf3' 'clf5' 'clf7' 'clf9' 'clf15']\nclf15     0.0\nclf3     45.0\nclf5      0.0\nclf7      0.0\nclf9      0.0\ndtype: float64\nclf15    5.00\nclf9     3.75\nclf7     3.15\nclf5     2.05\nclf3     1.05\ndtype: float64\n('clf15', 'clf9', 6.822201844716231e-10, True)\n('clf3', 'clf7', 6.822201844716231e-10, True)\n('clf3', 'clf9', 7.019562041074612e-10, True)\n('clf5', 'clf9', 7.019562041074612e-10, True)\n('clf15', 'clf3', 7.222037513283772e-10, True)\n('clf15', 'clf5', 7.222037513283772e-10, True)\n('clf15', 'clf7', 7.222037513283772e-10, True)\n('clf3', 'clf5', 1.116039128615475e-09, True)\n('clf7', 'clf9', 4.229035719256588e-06, True)\n('clf5', 'clf7', 4.881145954468759e-06, True)\nIndex(['clf15', 'clf9', 'clf7', 'clf5', 'clf3'], dtype='object')\n"
          ]
        }
      ]
    },
    {
      "cell_type": "code",
      "metadata": {
        "id": "mCINcQAsRl_c",
        "colab": {
          "base_uri": "https://localhost:8080/",
          "height": 216
        },
        "outputId": "00ed96fb-683f-40d7-a485-baa091817736"
      },
      "source": [
        "display(Image('reduced_waveform_result.png'))"
      ],
      "execution_count": 34,
      "outputs": [
        {
          "output_type": "display_data",
          "data": {
            "image/png": "[encoded data removed]",
            "text/plain": [
              "<IPython.core.display.Image object>"
            ]
          },
          "metadata": {
            "tags": []
          }
        }
      ]
    },
    {
      "cell_type": "markdown",
      "metadata": {
        "id": "KGIEN6xyZ6Sg"
      },
      "source": [
        "### Referências \r\n",
        "\r\n",
        "@article{IsmailFawaz2018deep,\r\n",
        "  Title                    = {Deep learning for time series classification: a review},\r\n",
        "  Author                   = {Ismail Fawaz, Hassan and Forestier, Germain and Weber, Jonathan and Idoumghar, Lhassane and Muller, Pierre-Alain},\r\n",
        "  journal                  = {Data Mining and Knowledge Discovery},\r\n",
        "  Year                     = {2019},\r\n",
        "  volume                   = {33},\r\n",
        "  number                   = {4},\r\n",
        "  pages                    = {917--963},\r\n",
        "}\r\n",
        "\r\n",
        "@article{scikit-learn,\r\n",
        " title={Scikit-learn: Machine Learning in {P}ython},\r\n",
        " author={Pedregosa, F. and Varoquaux, G. and Gramfort, A. and Michel, V.\r\n",
        "         and Thirion, B. and Grisel, O. and Blondel, M. and Prettenhofer, P.\r\n",
        "         and Weiss, R. and Dubourg, V. and Vanderplas, J. and Passos, A. and\r\n",
        "         Cournapeau, D. and Brucher, M. and Perrot, M. and Duchesnay, E.},\r\n",
        " journal={Journal of Machine Learning Research},\r\n",
        " volume={12},\r\n",
        " pages={2825--2830},\r\n",
        " year={2011}\r\n",
        "}"
      ]
    }
  ]
}